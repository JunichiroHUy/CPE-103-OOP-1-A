{
  "nbformat": 4,
  "nbformat_minor": 0,
  "metadata": {
    "colab": {
      "provenance": [],
      "authorship_tag": "ABX9TyOH3uuYmVAh4FIlKWMHfuwN",
      "include_colab_link": true
    },
    "kernelspec": {
      "name": "python3",
      "display_name": "Python 3"
    },
    "language_info": {
      "name": "python"
    }
  },
  "cells": [
    {
      "cell_type": "markdown",
      "metadata": {
        "id": "view-in-github",
        "colab_type": "text"
      },
      "source": [
        "<a href=\"https://colab.research.google.com/github/JunichiroHUy/CPE-103-OOP-1-A/blob/main/OOP.ipynb\" target=\"_parent\"><img src=\"https://colab.research.google.com/assets/colab-badge.svg\" alt=\"Open In Colab\"/></a>"
      ]
    },
    {
      "cell_type": "markdown",
      "source": [
        "Class Constructor"
      ],
      "metadata": {
        "id": "nySU36aj70K1"
      }
    },
    {
      "cell_type": "code",
      "source": [
        "class Car:\n",
        "  def _init_(self, name, color):\n",
        "    self.name = name #attributes\n",
        "    self.color = color\n"
      ],
      "metadata": {
        "id": "tQMSE9KP72ct"
      },
      "execution_count": 5,
      "outputs": []
    },
    {
      "cell_type": "markdown",
      "source": [
        "Methods"
      ],
      "metadata": {
        "id": "suI9ftVr9mVt"
      }
    },
    {
      "cell_type": "code",
      "source": [
        "class Car:\n",
        "  car_type=\"Sedan\"\n",
        "  def _init_(self,name,mileage):\n",
        "    self.name = Sedan\n",
        "    self.mileage = mileage\n",
        "\n",
        "  def description(self):\n",
        "    return f\"The {self.name} car gives the mileage of {self.mileage}km/l\"\n",
        "\n",
        "  def max_speed(self,speed):\n",
        "    return f\"The {self.name} runs at the maximum speed of {speed}km/h\"\n",
        "\n"
      ],
      "metadata": {
        "id": "WMmHEDm09q9s"
      },
      "execution_count": 8,
      "outputs": []
    },
    {
      "cell_type": "markdown",
      "source": [
        "Multiple Objects"
      ],
      "metadata": {
        "id": "R1fWdMWl_N2c"
      }
    },
    {
      "cell_type": "code",
      "source": [
        "class Car:\n",
        "  def __init__(self, name, mileage):\n",
        "    self.name = name\n",
        "    self.mileage = mileage\n",
        "\n",
        "  def description(self):\n",
        "    return f\"The {self.name} car gives the mileage of {self.mileage}km/l\"\n",
        "\n",
        "class BMW(Car):\n",
        "  pass\n",
        "\n",
        "class Audi(Car):\n",
        "  def audi_desc(self):\n",
        "    return f\"This is the description method of class Audi.\"\n",
        "\n",
        "bmw = BMW(\"BMW 7-SERIES\", 39.53)\n",
        "print (bmw.description())\n",
        "audi = Audi(\"Audi A8 L\", 14)\n",
        "print (audi.description())\n",
        "print (audi.audi_desc())"
      ],
      "metadata": {
        "colab": {
          "base_uri": "https://localhost:8080/"
        },
        "id": "y9oiCNSl_QvL",
        "outputId": "c9a62c68-82a1-40b7-d7a8-f54f3ffba72d"
      },
      "execution_count": 78,
      "outputs": [
        {
          "output_type": "stream",
          "name": "stdout",
          "text": [
            "The BMW 7-SERIES car gives the mileage of 39.53km/l\n",
            "The Audi A8 L car gives the mileage of 14km/l\n",
            "This is the description method of class Audi.\n"
          ]
        }
      ]
    },
    {
      "cell_type": "markdown",
      "source": [
        "Difficult question"
      ],
      "metadata": {
        "id": "zkQ8oaDPF_gT"
      }
    },
    {
      "cell_type": "code",
      "source": [
        "choice = int(input(\"\"\"choose a shape\n",
        "1. Square\n",
        "2. Octagon\n",
        "3. Hexagon\n",
        "\n",
        "\"\"\"))\n",
        "\n",
        "class Shapes:\n",
        "  def __init__(self, name, sides):\n",
        "    self.name = name\n",
        "    self.sides = sides\n",
        "\n",
        "  def description(self):\n",
        "    return f\"{self.name} has {self.sides} sides!\"\n",
        "\n",
        "class Square(Shapes):\n",
        "  pass\n",
        "\n",
        "class Octagon(Shapes):\n",
        "  def octagon_desc(self):\n",
        "    return f\"An octagon has 8 sides!\"\n",
        "\n",
        "class Hexagon(Shapes):\n",
        "  pass\n",
        "\n",
        "if choice == 1:\n",
        "  square = Square(\"Square\", 4)\n",
        "  print(square.description())\n",
        "\n",
        "elif choice == 2:\n",
        "  octagon = Octagon(\"Octagon\", 8)\n",
        "  print(octagon.octagon_desc())\n",
        "\n",
        "elif choice == 3:\n",
        "  hexagon = Shapes(\"Hexagon\", 6)\n",
        "  print(hexagon.description())\n",
        "\n",
        "else:\n",
        "  print(\"Invalid choice\")\n",
        ""
      ],
      "metadata": {
        "colab": {
          "base_uri": "https://localhost:8080/"
        },
        "id": "JDrK-Cn1GD7L",
        "outputId": "d2714561-3298-4801-f686-2c32dfaae681"
      },
      "execution_count": 72,
      "outputs": [
        {
          "output_type": "stream",
          "name": "stdout",
          "text": [
            "choose a shape\n",
            "1. Square\n",
            "2. Octagon\n",
            "3. Hexagon\n",
            "\n",
            "2\n",
            "An octagon has 8 sides!\n"
          ]
        }
      ]
    },
    {
      "cell_type": "code",
      "source": [
        "choice = str(input(\"\"\"choose a shape\n",
        "a. Square\n",
        "b. Octagon\n",
        "c. Hexagon\n",
        "\n",
        "\"\"\"))\n",
        "\n",
        "class Shapes:\n",
        "  def __init__(self, name, sides):\n",
        "    self.name = name\n",
        "    self.sides = sides\n",
        "\n",
        "  def description(self):\n",
        "    return f\"{self.name} has {self.sides} sides!\"\n",
        "\n",
        "class Square(Shapes):\n",
        "  pass\n",
        "\n",
        "class Octagon(Shapes):\n",
        "  def octagon_desc(self):\n",
        "    return f\"An octagon has 8 sides!\"\n",
        "\n",
        "class Hexagon(Shapes):\n",
        "  pass\n",
        "\n",
        "if choice == \"a\" or \"Square\":\n",
        "  square = Square(\"Square\", 4)\n",
        "  print(square.description())\n",
        "\n",
        "elif choice == \"b\" or \"Octagon\":\n",
        "  octagon = Octagon(\"Octagon\", 8)\n",
        "  print(octagon.octagon_desc())\n",
        "\n",
        "elif choice == \"c\" or \"Hexagon\":\n",
        "  hexagon = Shapes(\"Hexagon\", 6)\n",
        "  print(hexagon.description())\n",
        "\n",
        "else:\n",
        "  print(\"Invalid choice\")\n",
        ""
      ],
      "metadata": {
        "colab": {
          "base_uri": "https://localhost:8080/"
        },
        "id": "bjPYmsRmPdez",
        "outputId": "d34a3ca2-c337-4009-d4b9-e247927919c6"
      },
      "execution_count": 77,
      "outputs": [
        {
          "output_type": "stream",
          "name": "stdout",
          "text": [
            "choose a shape\n",
            "a. Square\n",
            "b. Octagon\n",
            "c. Hexagon\n",
            "\n",
            "a\n",
            "Square has 4 sides!\n"
          ]
        }
      ]
    }
  ]
}