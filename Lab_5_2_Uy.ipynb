{
  "nbformat": 4,
  "nbformat_minor": 0,
  "metadata": {
    "colab": {
      "provenance": [],
      "authorship_tag": "ABX9TyMqlnG8G3Dq3pF8glX33WG6",
      "include_colab_link": true
    },
    "kernelspec": {
      "name": "python3",
      "display_name": "Python 3"
    },
    "language_info": {
      "name": "python"
    }
  },
  "cells": [
    {
      "cell_type": "markdown",
      "metadata": {
        "id": "view-in-github",
        "colab_type": "text"
      },
      "source": [
        "<a href=\"https://colab.research.google.com/github/JunichiroHUy/CPE-103-OOP-1-A/blob/main/Lab_5_2_Uy.ipynb\" target=\"_parent\"><img src=\"https://colab.research.google.com/assets/colab-badge.svg\" alt=\"Open In Colab\"/></a>"
      ]
    },
    {
      "cell_type": "markdown",
      "source": [
        "**Opening** **files**"
      ],
      "metadata": {
        "id": "LkLBvZqKPMHu"
      }
    },
    {
      "cell_type": "code",
      "source": [
        "fhand = open('mbox.txt')\n",
        "print(fhand)"
      ],
      "metadata": {
        "colab": {
          "base_uri": "https://localhost:8080/"
        },
        "collapsed": true,
        "id": "_3RCp7PGPSzb",
        "outputId": "2c77f349-e3db-48fb-b4c6-7088232dfc4f"
      },
      "execution_count": 19,
      "outputs": [
        {
          "output_type": "stream",
          "name": "stdout",
          "text": [
            "<_io.TextIOWrapper name='mbox.txt' mode='r' encoding='utf-8'>\n"
          ]
        }
      ]
    },
    {
      "cell_type": "code",
      "source": [
        "fhand = open('stuff.txt')"
      ],
      "metadata": {
        "id": "WlYhfISEPXnE"
      },
      "execution_count": 20,
      "outputs": []
    },
    {
      "cell_type": "markdown",
      "source": [
        "**Text files and lines**"
      ],
      "metadata": {
        "id": "va8Grn2DPgu9"
      }
    },
    {
      "cell_type": "code",
      "source": [
        "stuff = 'Hello\\nWorld!'\n",
        "stuff"
      ],
      "metadata": {
        "id": "4oxprTujPx8s",
        "colab": {
          "base_uri": "https://localhost:8080/",
          "height": 35
        },
        "outputId": "5f5f9ce8-7470-4a2b-ed0f-5e3bee8088c1"
      },
      "execution_count": 21,
      "outputs": [
        {
          "output_type": "execute_result",
          "data": {
            "text/plain": [
              "'Hello\\nWorld!'"
            ],
            "application/vnd.google.colaboratory.intrinsic+json": {
              "type": "string"
            }
          },
          "metadata": {},
          "execution_count": 21
        }
      ]
    },
    {
      "cell_type": "code",
      "source": [
        "print(stuff)"
      ],
      "metadata": {
        "id": "ffihpxdUP2w9",
        "colab": {
          "base_uri": "https://localhost:8080/"
        },
        "outputId": "370831b0-a283-44a3-b2fc-6092fb842e3a"
      },
      "execution_count": 22,
      "outputs": [
        {
          "output_type": "stream",
          "name": "stdout",
          "text": [
            "Hello\n",
            "World!\n"
          ]
        }
      ]
    },
    {
      "cell_type": "code",
      "source": [
        "stuff = 'X\\nY'\n",
        "print(stuff)"
      ],
      "metadata": {
        "id": "hBIznfCmP5Ir",
        "colab": {
          "base_uri": "https://localhost:8080/"
        },
        "outputId": "4a51bbbd-eb01-48b3-af53-f91538c88ca6"
      },
      "execution_count": 23,
      "outputs": [
        {
          "output_type": "stream",
          "name": "stdout",
          "text": [
            "X\n",
            "Y\n"
          ]
        }
      ]
    },
    {
      "cell_type": "code",
      "source": [
        "len(stuff)"
      ],
      "metadata": {
        "id": "Jf5tLUgXP7IG",
        "colab": {
          "base_uri": "https://localhost:8080/"
        },
        "outputId": "51928d73-d957-47f2-90b0-b5dc94e63a2d"
      },
      "execution_count": 24,
      "outputs": [
        {
          "output_type": "execute_result",
          "data": {
            "text/plain": [
              "3"
            ]
          },
          "metadata": {},
          "execution_count": 24
        }
      ]
    },
    {
      "cell_type": "markdown",
      "source": [
        "**Reading files**"
      ],
      "metadata": {
        "id": "uVPIyfbDP-zA"
      }
    },
    {
      "cell_type": "code",
      "source": [
        "fhand = open('mbox-short.txt')\n",
        "count = 0\n",
        "for line in fhand:\n",
        "    count += 1\n",
        "print('Line count:', count)"
      ],
      "metadata": {
        "id": "yGwjyldqQBCr",
        "colab": {
          "base_uri": "https://localhost:8080/"
        },
        "outputId": "90ebbf50-34a6-4085-d5eb-670e3d8a2ce8"
      },
      "execution_count": 25,
      "outputs": [
        {
          "output_type": "stream",
          "name": "stdout",
          "text": [
            "Line count: 7\n"
          ]
        }
      ]
    },
    {
      "cell_type": "code",
      "source": [
        "fhand = open('mbox-short.txt')\n",
        "inp = fhand.read()\n",
        "print(len(inp))"
      ],
      "metadata": {
        "id": "BP0XmiXlQKkM",
        "colab": {
          "base_uri": "https://localhost:8080/"
        },
        "outputId": "1f7ae656-b358-48d1-91b5-6918557bedbd"
      },
      "execution_count": 26,
      "outputs": [
        {
          "output_type": "stream",
          "name": "stdout",
          "text": [
            "179\n"
          ]
        }
      ]
    },
    {
      "cell_type": "code",
      "source": [
        "print(inp[:20])"
      ],
      "metadata": {
        "id": "9Ikg0RVtQL7k",
        "colab": {
          "base_uri": "https://localhost:8080/"
        },
        "outputId": "daf2bf16-3f18-4c69-bbac-4e06e7ef0f80"
      },
      "execution_count": 27,
      "outputs": [
        {
          "output_type": "stream",
          "name": "stdout",
          "text": [
            "From: stephen.marqua\n"
          ]
        }
      ]
    },
    {
      "cell_type": "code",
      "source": [
        "fhand = open('mbox-short.txt')\n",
        "print(len(fhand.read()))"
      ],
      "metadata": {
        "id": "5tCWpB6WQN4e",
        "colab": {
          "base_uri": "https://localhost:8080/"
        },
        "outputId": "f1c96051-d6a7-418d-e786-89538dc1d5c6"
      },
      "execution_count": 28,
      "outputs": [
        {
          "output_type": "stream",
          "name": "stdout",
          "text": [
            "179\n"
          ]
        }
      ]
    },
    {
      "cell_type": "code",
      "source": [
        "print(len(fhand.read()))"
      ],
      "metadata": {
        "id": "8apYAjSaQQ5A",
        "colab": {
          "base_uri": "https://localhost:8080/"
        },
        "outputId": "fa8d8b82-5dc2-4e59-a2c1-f64bc9902f81"
      },
      "execution_count": 29,
      "outputs": [
        {
          "output_type": "stream",
          "name": "stdout",
          "text": [
            "0\n"
          ]
        }
      ]
    },
    {
      "cell_type": "markdown",
      "source": [
        "**Searching through a file**"
      ],
      "metadata": {
        "id": "Bsp7eh9tQT1O"
      }
    },
    {
      "cell_type": "code",
      "source": [
        "fhand = open('mbox-short.txt')\n",
        "for line in fhand:\n",
        "    if line.startswith('From:'):\n",
        "      print(line)"
      ],
      "metadata": {
        "id": "UHcr1iQhQXbN",
        "colab": {
          "base_uri": "https://localhost:8080/"
        },
        "outputId": "635cc925-2431-41db-9bb7-cc5fcac381c9"
      },
      "execution_count": 30,
      "outputs": [
        {
          "output_type": "stream",
          "name": "stdout",
          "text": [
            "From: stephen.marquard@uct.ac.za \n",
            "\n",
            "From: louis@media.berkeley.edu\n",
            "\n",
            "From: zqian@umich.edu \n",
            "\n",
            "From: rjlowe@iupui.edu\n",
            "\n",
            "From: zqian@umich.edu \n",
            "\n",
            "From: rjlowe@iupui.edu \n",
            "\n",
            "From: cwen@iupui.edu \n"
          ]
        }
      ]
    },
    {
      "cell_type": "code",
      "source": [
        "fhand = open('mbox-short.txt')\n",
        "for line in fhand:\n",
        "    line = line.rstrip()\n",
        "    if line.startswith('From:'):\n",
        "      print(line)"
      ],
      "metadata": {
        "id": "3c2rhIKaQerk",
        "colab": {
          "base_uri": "https://localhost:8080/"
        },
        "outputId": "6eed49b0-54e4-4db1-db9c-c26b4b928f82"
      },
      "execution_count": 31,
      "outputs": [
        {
          "output_type": "stream",
          "name": "stdout",
          "text": [
            "From: stephen.marquard@uct.ac.za\n",
            "From: louis@media.berkeley.edu\n",
            "From: zqian@umich.edu\n",
            "From: rjlowe@iupui.edu\n",
            "From: zqian@umich.edu\n",
            "From: rjlowe@iupui.edu\n",
            "From: cwen@iupui.edu\n"
          ]
        }
      ]
    },
    {
      "cell_type": "code",
      "source": [
        "fhand = open('mbox-short.txt')\n",
        "for line in fhand:\n",
        "    line = line.rstrip()\n",
        "    if not line.startswith('From:'):\n",
        "      continue\n",
        "    print(line)\n"
      ],
      "metadata": {
        "id": "RJ7FjDZCQkom",
        "colab": {
          "base_uri": "https://localhost:8080/"
        },
        "outputId": "06308550-b447-4609-c81f-293c67a98b3a"
      },
      "execution_count": 32,
      "outputs": [
        {
          "output_type": "stream",
          "name": "stdout",
          "text": [
            "From: stephen.marquard@uct.ac.za\n",
            "From: louis@media.berkeley.edu\n",
            "From: zqian@umich.edu\n",
            "From: rjlowe@iupui.edu\n",
            "From: zqian@umich.edu\n",
            "From: rjlowe@iupui.edu\n",
            "From: cwen@iupui.edu\n"
          ]
        }
      ]
    },
    {
      "cell_type": "code",
      "source": [
        "fhand = open('mbox-short.txt')\n",
        "for line in fhand:\n",
        "    line = line.rstrip()\n",
        "    if line.find('@uct.ac.za') == -1: continue\n",
        "    print(line)"
      ],
      "metadata": {
        "id": "RJk6kd10QnoW",
        "colab": {
          "base_uri": "https://localhost:8080/"
        },
        "outputId": "a10ff55b-0c74-47e1-ae6b-afb5a85defa2"
      },
      "execution_count": 33,
      "outputs": [
        {
          "output_type": "stream",
          "name": "stdout",
          "text": [
            "From: stephen.marquard@uct.ac.za\n"
          ]
        }
      ]
    },
    {
      "cell_type": "markdown",
      "source": [
        "**Letting the user choose the file name**"
      ],
      "metadata": {
        "id": "a3C-zBjRQrvM"
      }
    },
    {
      "cell_type": "code",
      "source": [
        "fname = input('Enter the file name: ')\n",
        "fhand = open(fname)\n",
        "count = 0\n",
        "for line in fhand:\n",
        "    if line.startswith('Subject:'):\n",
        "      count += 1\n",
        "    print('There were', count, 'subject lines in', fname)"
      ],
      "metadata": {
        "id": "BgWrWEyPQwME",
        "colab": {
          "base_uri": "https://localhost:8080/"
        },
        "outputId": "52a43730-3a12-496d-946b-70df3af92f9f"
      },
      "execution_count": 36,
      "outputs": [
        {
          "output_type": "stream",
          "name": "stdout",
          "text": [
            "Enter the file name: mbox.txt\n",
            "There were 0 subject lines in mbox.txt\n",
            "There were 0 subject lines in mbox.txt\n",
            "There were 0 subject lines in mbox.txt\n",
            "There were 0 subject lines in mbox.txt\n",
            "There were 0 subject lines in mbox.txt\n",
            "There were 0 subject lines in mbox.txt\n",
            "There were 0 subject lines in mbox.txt\n"
          ]
        }
      ]
    },
    {
      "cell_type": "markdown",
      "source": [
        "**Using try, except, and open**"
      ],
      "metadata": {
        "id": "dTjCcx8xQ1az"
      }
    },
    {
      "cell_type": "code",
      "source": [
        "fname = input('enter the file name: ')\n",
        "try:\n",
        "  fhnad = open(fname)\n",
        "except:\n",
        "  print('File cannot be opened: ', fname)\n",
        "  exit()\n",
        "count =  0\n",
        "for line in fhand:\n",
        "  if line.startswith('Subject:'):\n",
        "    count += 1\n",
        "print('There were', count, 'subject lines in', fname)"
      ],
      "metadata": {
        "id": "QZ1xPu3oQ467",
        "colab": {
          "base_uri": "https://localhost:8080/"
        },
        "outputId": "cbf9b3d4-c847-4164-bad6-7e1e09c25cfd"
      },
      "execution_count": 37,
      "outputs": [
        {
          "output_type": "stream",
          "name": "stdout",
          "text": [
            "enter the file name: stuff.txt\n",
            "There were 0 subject lines in stuff.txt\n"
          ]
        }
      ]
    },
    {
      "cell_type": "markdown",
      "source": [
        "**Writing files**"
      ],
      "metadata": {
        "id": "4HaRaAu5Q9-H"
      }
    },
    {
      "cell_type": "code",
      "source": [],
      "metadata": {
        "id": "C1HlJ6tJj6TQ"
      },
      "execution_count": null,
      "outputs": []
    },
    {
      "cell_type": "code",
      "source": [
        "fout = open('output.txt', 'w')\n",
        "print(fout)"
      ],
      "metadata": {
        "id": "Y99zN8iDRAEE",
        "colab": {
          "base_uri": "https://localhost:8080/"
        },
        "outputId": "4e50a63f-cd2b-40a2-ecf6-0757533db8b0"
      },
      "execution_count": 38,
      "outputs": [
        {
          "output_type": "stream",
          "name": "stdout",
          "text": [
            "<_io.TextIOWrapper name='output.txt' mode='w' encoding='utf-8'>\n"
          ]
        }
      ]
    },
    {
      "cell_type": "code",
      "source": [
        "line1 = \"This here's the wattle, \\n\"\n",
        "fout.write(line1)"
      ],
      "metadata": {
        "id": "gW93g59dRCR5",
        "colab": {
          "base_uri": "https://localhost:8080/"
        },
        "outputId": "60fbb7c0-0ed1-4e0c-f2e8-2a77c56c80cc"
      },
      "execution_count": 39,
      "outputs": [
        {
          "output_type": "execute_result",
          "data": {
            "text/plain": [
              "25"
            ]
          },
          "metadata": {},
          "execution_count": 39
        }
      ]
    },
    {
      "cell_type": "code",
      "source": [
        "lines2 = 'the emblem of our land.\\n'\n",
        "fout.write(lines2)"
      ],
      "metadata": {
        "id": "Uf1gpU2gRC6j",
        "colab": {
          "base_uri": "https://localhost:8080/"
        },
        "outputId": "ad32a9c8-4c84-4881-891d-58af3c089e09"
      },
      "execution_count": 40,
      "outputs": [
        {
          "output_type": "execute_result",
          "data": {
            "text/plain": [
              "24"
            ]
          },
          "metadata": {},
          "execution_count": 40
        }
      ]
    },
    {
      "cell_type": "code",
      "source": [
        "fout.close()"
      ],
      "metadata": {
        "id": "qnTl9pMURFLE"
      },
      "execution_count": 41,
      "outputs": []
    },
    {
      "cell_type": "markdown",
      "source": [
        "**Supplementary**"
      ],
      "metadata": {
        "id": "krUtU_GBW722"
      }
    },
    {
      "cell_type": "code",
      "source": [
        "try:\n",
        "    with open(\"SURNAME.txt\", \"r\") as file:\n",
        "        for line in file:\n",
        "            print(line.strip())\n",
        "except FileNotFoundError:\n",
        "    print(\"Error: SURNAME.txt not found.\")"
      ],
      "metadata": {
        "colab": {
          "base_uri": "https://localhost:8080/"
        },
        "id": "OpEBUSf2aOtO",
        "outputId": "f72c5b87-7b35-41ba-aa47-a2e0d780402a"
      },
      "execution_count": 43,
      "outputs": [
        {
          "output_type": "stream",
          "name": "stdout",
          "text": [
            "Uy\n",
            "Asis\n",
            "Monoy\n",
            "Vasig\n",
            "Amutan\n",
            "Beguia\n"
          ]
        }
      ]
    },
    {
      "cell_type": "code",
      "source": [
        "import os\n",
        "\n",
        "def create_surname(filename, surname):\n",
        "    \"\"\"Creates a new entry in the file.\"\"\"\n",
        "    try:\n",
        "        with open(filename, \"a\") as file:\n",
        "            file.write(surname + \"\\n\")\n",
        "        print(f\"'{surname}' added to {filename}\")\n",
        "    except Exception as e:\n",
        "        print(f\"Error creating entry: {e}\")\n",
        "\n",
        "def read_surnames(filename):\n",
        "    \"\"\"Reads and prints all surnames from the file.\"\"\"\n",
        "    try:\n",
        "        with open(filename, \"r\") as file:\n",
        "            surnames = [line.strip() for line in file]\n",
        "        if surnames:\n",
        "            print(\"Current surnames:\")\n",
        "            for surname in surnames:\n",
        "                print(surname)\n",
        "        else:\n",
        "            print(f\"{filename} is empty.\")\n",
        "        return surnames\n",
        "    except FileNotFoundError:\n",
        "        print(f\"Error: {filename} not found.\")\n",
        "        return []\n",
        "    except Exception as e:\n",
        "        print(f\"Error reading file: {e}\")\n",
        "        return []\n",
        "\n",
        "def update_surname(filename, old_surname, new_surname):\n",
        "    \"\"\"Updates an existing surname in the file.\"\"\"\n",
        "    try:\n",
        "        with open(filename, \"r\") as file:\n",
        "            lines = file.readlines()\n",
        "        with open(filename, \"w\") as file:\n",
        "            updated = False\n",
        "            for line in lines:\n",
        "                if line.strip() == old_surname:\n",
        "                    file.write(new_surname + \"\\n\")\n",
        "                    print(f\"'{old_surname}' updated to '{new_surname}' in {filename}\")\n",
        "                    updated = True\n",
        "                else:\n",
        "                    file.write(line)\n",
        "            if not updated:\n",
        "                print(f\"'{old_surname}' not found in {filename}.\")\n",
        "    except FileNotFoundError:\n",
        "        print(f\"Error: {filename} not found.\")\n",
        "    except Exception as e:\n",
        "        print(f\"Error updating entry: {e}\")\n",
        "\n",
        "def delete_surname(filename, surname_to_delete):\n",
        "    \"\"\"Deletes a specific surname from the file.\"\"\"\n",
        "    try:\n",
        "        with open(filename, \"r\") as file:\n",
        "            lines = file.readlines()\n",
        "        with open(filename, \"w\") as file:\n",
        "            deleted = False\n",
        "            for line in lines:\n",
        "                if line.strip() != surname_to_delete:\n",
        "                    file.write(line)\n",
        "                else:\n",
        "                    print(f\"'{surname_to_delete}' deleted from {filename}\")\n",
        "                    deleted = True\n",
        "            if not deleted:\n",
        "                print(f\"'{surname_to_delete}' not found in {filename}.\")\n",
        "    except FileNotFoundError:\n",
        "        print(f\"Error: {filename} not found.\")\n",
        "    except Exception as e:\n",
        "        print(f\"Error deleting entry: {e}\")\n",
        "\n",
        "# Demonstrate CRUD operations\n",
        "filename = \"SURNAME.txt\"\n",
        "\n",
        "print(\"\\n--- Create ---\")\n",
        "create_surname(filename, \"Villanueva\")\n",
        "create_surname(filename, \"Castro\")\n",
        "\n",
        "print(\"\\n--- Read ---\")\n",
        "all_surnames = read_surnames(filename)\n",
        "\n",
        "print(\"\\n--- Update ---\")\n",
        "update_surname(filename, \"Amutan\", \"Sy\")\n",
        "read_surnames(filename)\n",
        "\n",
        "print(\"\\n--- Delete ---\")\n",
        "delete_surname(filename, \"Uy\")\n",
        "read_surnames(filename)\n",
        "\n",
        "os.remove(filename)"
      ],
      "metadata": {
        "colab": {
          "base_uri": "https://localhost:8080/"
        },
        "id": "QXVSAR6uai8M",
        "outputId": "574b2e4f-a539-4007-91a3-66b743ed3f66"
      },
      "execution_count": 54,
      "outputs": [
        {
          "output_type": "stream",
          "name": "stdout",
          "text": [
            "\n",
            "--- Create ---\n",
            "'Villanueva' added to SURNAME.txt\n",
            "'Castro' added to SURNAME.txt\n",
            "\n",
            "--- Read ---\n",
            "Current surnames:\n",
            "Uy\n",
            "Asis\n",
            "Monoy\n",
            "Vasig\n",
            "Amutan\n",
            "BeguiaVillanueva\n",
            "Castro\n",
            "\n",
            "--- Update ---\n",
            "'Amutan' updated to 'Sy' in SURNAME.txt\n",
            "Current surnames:\n",
            "Uy\n",
            "Asis\n",
            "Monoy\n",
            "Vasig\n",
            "Sy\n",
            "BeguiaVillanueva\n",
            "Castro\n",
            "\n",
            "--- Delete ---\n",
            "'Uy' deleted from SURNAME.txt\n",
            "Current surnames:\n",
            "Asis\n",
            "Monoy\n",
            "Vasig\n",
            "Sy\n",
            "BeguiaVillanueva\n",
            "Castro\n"
          ]
        }
      ]
    }
  ]
}