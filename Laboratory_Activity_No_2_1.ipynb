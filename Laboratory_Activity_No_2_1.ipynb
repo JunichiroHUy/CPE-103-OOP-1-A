{
  "nbformat": 4,
  "nbformat_minor": 0,
  "metadata": {
    "colab": {
      "provenance": [],
      "authorship_tag": "ABX9TyMB3muucGa/ZPbZGy/moIuC",
      "include_colab_link": true
    },
    "kernelspec": {
      "name": "python3",
      "display_name": "Python 3"
    },
    "language_info": {
      "name": "python"
    }
  },
  "cells": [
    {
      "cell_type": "markdown",
      "metadata": {
        "id": "view-in-github",
        "colab_type": "text"
      },
      "source": [
        "<a href=\"https://colab.research.google.com/github/JunichiroHUy/CPE-103-OOP-1-A/blob/main/Laboratory_Activity_No_2_1.ipynb\" target=\"_parent\"><img src=\"https://colab.research.google.com/assets/colab-badge.svg\" alt=\"Open In Colab\"/></a>"
      ]
    },
    {
      "cell_type": "markdown",
      "source": [
        "Assigning variables of different data types in Python"
      ],
      "metadata": {
        "id": "QE0pa3HFl5VM"
      }
    },
    {
      "cell_type": "code",
      "source": [
        "value = 5\n",
        "print(value)\n",
        "\n",
        "type(value)"
      ],
      "metadata": {
        "colab": {
          "base_uri": "https://localhost:8080/"
        },
        "collapsed": true,
        "id": "bKrlGjctl619",
        "outputId": "24a62db6-3a96-4b33-99a3-60d3e25304a8"
      },
      "execution_count": 3,
      "outputs": [
        {
          "output_type": "stream",
          "name": "stdout",
          "text": [
            "5\n"
          ]
        },
        {
          "output_type": "execute_result",
          "data": {
            "text/plain": [
              "int"
            ]
          },
          "metadata": {},
          "execution_count": 3
        }
      ]
    },
    {
      "cell_type": "code",
      "source": [
        "value = 5.0\n",
        "print(value)\n",
        "type(value)"
      ],
      "metadata": {
        "colab": {
          "base_uri": "https://localhost:8080/"
        },
        "id": "L-PGxQsXmZ-M",
        "outputId": "dca19c4d-f8a8-4cd0-ca1a-7bcd7a318fdf"
      },
      "execution_count": 4,
      "outputs": [
        {
          "output_type": "stream",
          "name": "stdout",
          "text": [
            "5.0\n"
          ]
        },
        {
          "output_type": "execute_result",
          "data": {
            "text/plain": [
              "float"
            ]
          },
          "metadata": {},
          "execution_count": 4
        }
      ]
    },
    {
      "cell_type": "code",
      "source": [
        "value = 2+3j\n",
        "print(value)\n",
        "type(value)"
      ],
      "metadata": {
        "colab": {
          "base_uri": "https://localhost:8080/"
        },
        "id": "HamQPUpZmjNE",
        "outputId": "b2652ba3-8e1a-4aae-b141-7d64062cbf1d"
      },
      "execution_count": 9,
      "outputs": [
        {
          "output_type": "stream",
          "name": "stdout",
          "text": [
            "(2+3j)\n"
          ]
        },
        {
          "output_type": "execute_result",
          "data": {
            "text/plain": [
              "complex"
            ]
          },
          "metadata": {},
          "execution_count": 9
        }
      ]
    },
    {
      "cell_type": "code",
      "source": [
        "value = 'Hello World'\n",
        "print(value)\n",
        "type(value)"
      ],
      "metadata": {
        "colab": {
          "base_uri": "https://localhost:8080/"
        },
        "outputId": "08d79116-85a1-4c49-eef0-0e98e9b4970a",
        "id": "Pz6fiA0JopIS"
      },
      "execution_count": 7,
      "outputs": [
        {
          "output_type": "stream",
          "name": "stdout",
          "text": [
            "Hello World\n"
          ]
        },
        {
          "output_type": "execute_result",
          "data": {
            "text/plain": [
              "str"
            ]
          },
          "metadata": {},
          "execution_count": 7
        }
      ]
    },
    {
      "cell_type": "code",
      "source": [
        "value = \"Hello World\"\n",
        "print(value)\n",
        "type(value)"
      ],
      "metadata": {
        "colab": {
          "base_uri": "https://localhost:8080/"
        },
        "id": "ePTlZPv3o1rL",
        "outputId": "5d73d8a5-eb4a-4017-d344-e05cddac3c0d"
      },
      "execution_count": 8,
      "outputs": [
        {
          "output_type": "stream",
          "name": "stdout",
          "text": [
            "Hello World\n"
          ]
        },
        {
          "output_type": "execute_result",
          "data": {
            "text/plain": [
              "str"
            ]
          },
          "metadata": {},
          "execution_count": 8
        }
      ]
    },
    {
      "cell_type": "code",
      "source": [
        "value = True\n",
        "print(value)\n",
        "type(value)"
      ],
      "metadata": {
        "colab": {
          "base_uri": "https://localhost:8080/"
        },
        "id": "UWhLBDL0o2kj",
        "outputId": "61c6c94a-7691-4064-ca77-7d312c302d82"
      },
      "execution_count": 10,
      "outputs": [
        {
          "output_type": "stream",
          "name": "stdout",
          "text": [
            "True\n"
          ]
        },
        {
          "output_type": "execute_result",
          "data": {
            "text/plain": [
              "bool"
            ]
          },
          "metadata": {},
          "execution_count": 10
        }
      ]
    },
    {
      "cell_type": "code",
      "source": [
        "value = False\n",
        "print(value)\n",
        "type(value)\n"
      ],
      "metadata": {
        "colab": {
          "base_uri": "https://localhost:8080/"
        },
        "id": "tlfUfEeno4V0",
        "outputId": "2ffcee5e-8931-43bf-f394-44d21518bb73"
      },
      "execution_count": 11,
      "outputs": [
        {
          "output_type": "stream",
          "name": "stdout",
          "text": [
            "False\n"
          ]
        },
        {
          "output_type": "execute_result",
          "data": {
            "text/plain": [
              "bool"
            ]
          },
          "metadata": {},
          "execution_count": 11
        }
      ]
    },
    {
      "cell_type": "code",
      "source": [
        "value = [1,2,3,4,5]\n",
        "print(value)\n",
        "type(value)"
      ],
      "metadata": {
        "colab": {
          "base_uri": "https://localhost:8080/"
        },
        "id": "UY4Thy_Bo55z",
        "outputId": "c80cc4fa-ff08-4539-a226-f13cd530b2d0"
      },
      "execution_count": 12,
      "outputs": [
        {
          "output_type": "stream",
          "name": "stdout",
          "text": [
            "[1, 2, 3, 4, 5]\n"
          ]
        },
        {
          "output_type": "execute_result",
          "data": {
            "text/plain": [
              "list"
            ]
          },
          "metadata": {},
          "execution_count": 12
        }
      ]
    },
    {
      "cell_type": "code",
      "source": [
        "value = (1,2,3,4,5)\n",
        "print(value)\n",
        "type(value)"
      ],
      "metadata": {
        "colab": {
          "base_uri": "https://localhost:8080/"
        },
        "id": "BPXelsDmo8QT",
        "outputId": "3149ce12-4afd-4531-c750-90936e0046d9"
      },
      "execution_count": 13,
      "outputs": [
        {
          "output_type": "stream",
          "name": "stdout",
          "text": [
            "(1, 2, 3, 4, 5)\n"
          ]
        },
        {
          "output_type": "execute_result",
          "data": {
            "text/plain": [
              "tuple"
            ]
          },
          "metadata": {},
          "execution_count": 13
        }
      ]
    },
    {
      "cell_type": "code",
      "source": [
        "value = {'name': 'Your_name'}\n",
        "print(value)\n",
        "type(value)\n"
      ],
      "metadata": {
        "colab": {
          "base_uri": "https://localhost:8080/"
        },
        "id": "64JR7VeVo_qT",
        "outputId": "d4048802-1d2a-4923-e32b-8b2ac0dc8967"
      },
      "execution_count": 14,
      "outputs": [
        {
          "output_type": "stream",
          "name": "stdout",
          "text": [
            "{'name': 'Your_name'}\n"
          ]
        },
        {
          "output_type": "execute_result",
          "data": {
            "text/plain": [
              "dict"
            ]
          },
          "metadata": {},
          "execution_count": 14
        }
      ]
    },
    {
      "cell_type": "code",
      "source": [
        "value = None\n",
        "print(value)\n",
        "type(value)"
      ],
      "metadata": {
        "colab": {
          "base_uri": "https://localhost:8080/"
        },
        "id": "hJ33fhXCpDdT",
        "outputId": "a8c48034-6a3c-4565-d9e0-2007030e926d"
      },
      "execution_count": 15,
      "outputs": [
        {
          "output_type": "stream",
          "name": "stdout",
          "text": [
            "None\n"
          ]
        },
        {
          "output_type": "execute_result",
          "data": {
            "text/plain": [
              "NoneType"
            ]
          },
          "metadata": {},
          "execution_count": 15
        }
      ]
    },
    {
      "cell_type": "markdown",
      "source": [
        "Performing Operations with Python"
      ],
      "metadata": {
        "id": "HQVU_vRYpx6U"
      }
    },
    {
      "cell_type": "code",
      "source": [
        "value = 5.0\n",
        "value2 = 6\n",
        "print(value + value2)\n",
        "\n",
        "value = 5\n",
        "value2 = 6.1\n",
        "print(value + value2)\n",
        "\n",
        "value = \"Hello, \"\n",
        "value2 = \"World\"\n",
        "print(value + value2)\n",
        "\n",
        "value = [1,2,3]\n",
        "value2 =[4,5,6]\n",
        "print(value + value2)\n",
        "\n",
        "value =(1,2,3)\n",
        "value2 =(4,5,6)\n",
        "print(value + value2)\n",
        "\n",
        "value ={\"name\":\"Royce\"}\n",
        "value2 ={\"age\":2}\n",
        "value.update(value2)\n",
        "print(value)"
      ],
      "metadata": {
        "colab": {
          "base_uri": "https://localhost:8080/"
        },
        "id": "1aVoGclRqARb",
        "outputId": "436eb0d1-211a-4cf9-b860-3145592a5606"
      },
      "execution_count": 19,
      "outputs": [
        {
          "output_type": "stream",
          "name": "stdout",
          "text": [
            "11.0\n",
            "11.1\n",
            "Hello, World\n",
            "[1, 2, 3, 4, 5, 6]\n",
            "(1, 2, 3, 4, 5, 6)\n",
            "{'name': 'Royce', 'age': 2}\n"
          ]
        }
      ]
    },
    {
      "cell_type": "code",
      "source": [
        "value, value2 = 30, 4\n",
        "print(value*value2)\n",
        "print(value2**2)\n",
        "print(value2**3)\n",
        "print(value*value2+value2**2+1)\n",
        "print(value/value2)\n",
        "print(value%value2)\n"
      ],
      "metadata": {
        "colab": {
          "base_uri": "https://localhost:8080/"
        },
        "id": "VYNtMM6jugl0",
        "outputId": "da9d5718-60df-4753-e89b-6d689e74effd"
      },
      "execution_count": 20,
      "outputs": [
        {
          "output_type": "stream",
          "name": "stdout",
          "text": [
            "120\n",
            "16\n",
            "64\n",
            "137\n",
            "7.5\n",
            "2\n"
          ]
        }
      ]
    },
    {
      "cell_type": "markdown",
      "source": [
        "Receiving Input Data using Python"
      ],
      "metadata": {
        "id": "3lM01yVevBHq"
      }
    },
    {
      "cell_type": "code",
      "source": [
        "name = input(\"Enter your name: \")\n",
        "print(name)"
      ],
      "metadata": {
        "colab": {
          "base_uri": "https://localhost:8080/"
        },
        "id": "a0ybN-wKvBwi",
        "outputId": "55f749b4-5c76-4581-f782-fe7b7e7cfeda"
      },
      "execution_count": 21,
      "outputs": [
        {
          "output_type": "stream",
          "name": "stdout",
          "text": [
            "Enter your name: chero\n",
            "chero\n"
          ]
        }
      ]
    },
    {
      "cell_type": "markdown",
      "source": [
        "Assigning Input Data to a Variable"
      ],
      "metadata": {
        "id": "FtcCzABUvT9C"
      }
    },
    {
      "cell_type": "code",
      "source": [
        "name = input(\"Enter your name: \")\n",
        "weight = float(input(\"Enter your weight (kg): \"))\n",
        "height = float(input(\"Enter your height (m): \"))\n",
        "bmi = weight/height**2\n",
        "\n",
        "print(\"Name: \", name)\n",
        "print(\"Weight: \", weight, \"kg\")\n",
        "print(\"height: \", height, \"m\")\n",
        "print(\"BMI: \", round(bmi, 4), \"kg/m2\")\n",
        "\n",
        "feet = (height * 3.2808399)\n",
        "\n",
        "print (\"Guide: \", round(feet, 1), \"feet ~\", height, \"m\")\n"
      ],
      "metadata": {
        "colab": {
          "base_uri": "https://localhost:8080/"
        },
        "id": "Z-wtjLv5vWPc",
        "outputId": "03503619-ab24-4f59-9b0e-906c7adc7039"
      },
      "execution_count": 25,
      "outputs": [
        {
          "output_type": "stream",
          "name": "stdout",
          "text": [
            "Enter your name: Chiro\n",
            "Enter your weight (kg): 76\n",
            "Enter your height (m): 1.32342\n",
            "Name:  Chiro\n",
            "Weight:  76.0 kg\n",
            "height:  1.32342 m\n",
            "BMI:  43.3929 kg/m2\n",
            "Guide:  4.3 feet ~ 1.32342 m\n"
          ]
        }
      ]
    },
    {
      "cell_type": "markdown",
      "source": [
        "Supplementary Activity"
      ],
      "metadata": {
        "id": "4hg8UdMNzw-A"
      }
    },
    {
      "cell_type": "code",
      "source": [
        "#1\n",
        "base = 0\n",
        "height = 0\n",
        "area = 0\n",
        "\n",
        "base = float(input(\"Enter the base of the triangle(m): \"))\n",
        "height = float(input(\"Enter the height of the triangle(m): \"))\n",
        "\n",
        "area = 0.5 * base * height\n",
        "print (\"The area of the triangle is: \", area, \"m2\")"
      ],
      "metadata": {
        "colab": {
          "base_uri": "https://localhost:8080/"
        },
        "id": "foWj1T0Tz44s",
        "outputId": "b5736427-2fa2-4277-e285-480cdd57e0bd"
      },
      "execution_count": 44,
      "outputs": [
        {
          "output_type": "stream",
          "name": "stdout",
          "text": [
            "Enter the base of the triangle(m): 4\n",
            "Enter the height of the triangle(m): 5\n",
            "The area of the triangle is:  10.0 m2\n"
          ]
        }
      ]
    },
    {
      "cell_type": "code",
      "source": [
        "#2\n",
        "for i in range(4):\n",
        "  Celcius = float(input(\"Input temperature in celsius: \"))\n",
        "  Farenheit = (Celcius * 9/5) + 32\n",
        "  print(\"Temperature in Farenheit: \", Farenheit, \"°F\")"
      ],
      "metadata": {
        "colab": {
          "base_uri": "https://localhost:8080/"
        },
        "collapsed": true,
        "id": "8tyD_ZPY2z77",
        "outputId": "9b96285d-782b-48cf-cae4-723a356244fb"
      },
      "execution_count": 51,
      "outputs": [
        {
          "output_type": "stream",
          "name": "stdout",
          "text": [
            "Input temperature in celsius: 100\n",
            "Temperature in Farenheit:  212.0 °F\n",
            "Input temperature in celsius: 60\n",
            "Temperature in Farenheit:  140.0 °F\n",
            "Input temperature in celsius: 21\n",
            "Temperature in Farenheit:  69.8 °F\n",
            "Input temperature in celsius: 34\n",
            "Temperature in Farenheit:  93.2 °F\n"
          ]
        }
      ]
    },
    {
      "cell_type": "code",
      "source": [
        "#3\n",
        "print (\"Enter the values for: \")\n",
        "x1 = float(input(\"Input x1: \"))\n",
        "y1 = float(input(\"Input y1: \"))\n",
        "x2 = float(input(\"Input x2: \"))\n",
        "y2 = float(input(\"Input y2: \"))\n",
        "d = ((x2 - x1)**2 + (y2 - y1)**2)**0.5\n",
        "\n",
        "print (\"d = √(\", x2, \"-\", x1, \")²+(\", y2, \"-\", y1, \")²\")\n",
        "print (\"d = \", round(d, 9))\n",
        ""
      ],
      "metadata": {
        "colab": {
          "base_uri": "https://localhost:8080/"
        },
        "collapsed": true,
        "id": "p__qc3a44J7B",
        "outputId": "29318bb1-03e3-49a5-8275-930a25a8a3ec"
      },
      "execution_count": 58,
      "outputs": [
        {
          "output_type": "stream",
          "name": "stdout",
          "text": [
            "Enter the values for: \n",
            "Input x1: 5\n",
            "Input y1: 3\n",
            "Input x2: 5\n",
            "Input y2: 689\n",
            "d = √( 5.0 - 5.0 )²+( 689.0 - 3.0 )²\n",
            "d =  686.0\n"
          ]
        }
      ]
    },
    {
      "cell_type": "code",
      "source": [],
      "metadata": {
        "id": "9VIVS_Pl8snh"
      },
      "execution_count": null,
      "outputs": []
    }
  ]
}