{
  "nbformat": 4,
  "nbformat_minor": 0,
  "metadata": {
    "colab": {
      "provenance": [],
      "authorship_tag": "ABX9TyPncjXPB0nq4UuulYitDwTJ",
      "include_colab_link": true
    },
    "kernelspec": {
      "name": "python3",
      "display_name": "Python 3"
    },
    "language_info": {
      "name": "python"
    }
  },
  "cells": [
    {
      "cell_type": "markdown",
      "metadata": {
        "id": "view-in-github",
        "colab_type": "text"
      },
      "source": [
        "<a href=\"https://colab.research.google.com/github/JunichiroHUy/CPE-103-OOP-1-A/blob/main/Python_Fundamentals.ipynb\" target=\"_parent\"><img src=\"https://colab.research.google.com/assets/colab-badge.svg\" alt=\"Open In Colab\"/></a>"
      ]
    },
    {
      "cell_type": "markdown",
      "source": [
        "Python Indentation"
      ],
      "metadata": {
        "id": "ZI9uxu1lFijp"
      }
    },
    {
      "cell_type": "code",
      "source": [
        "if 5 > 2:\n",
        "  print(\"Five is greater than two!\")"
      ],
      "metadata": {
        "colab": {
          "base_uri": "https://localhost:8080/"
        },
        "id": "ibVWIuwPFsTm",
        "outputId": "35d62eea-d2f9-4f65-d05a-214107d2a04a"
      },
      "execution_count": 6,
      "outputs": [
        {
          "output_type": "stream",
          "name": "stdout",
          "text": [
            "Five is greater than two!\n"
          ]
        }
      ]
    },
    {
      "cell_type": "markdown",
      "source": [
        "Python Comments"
      ],
      "metadata": {
        "id": "EJW_FkujIzcv"
      }
    },
    {
      "cell_type": "code",
      "source": [
        "#This is a comment\n",
        "print(\"Hello!\")"
      ],
      "metadata": {
        "colab": {
          "base_uri": "https://localhost:8080/"
        },
        "id": "cyc9m1YJI18m",
        "outputId": "2c18836c-5535-46bc-8061-22ff21df2d4f"
      },
      "execution_count": 18,
      "outputs": [
        {
          "output_type": "stream",
          "name": "stdout",
          "text": [
            "Hello!\n"
          ]
        }
      ]
    },
    {
      "cell_type": "markdown",
      "source": [
        "Variable Naming Conventions"
      ],
      "metadata": {
        "id": "Sm1p5wg3KWM2"
      }
    },
    {
      "cell_type": "code",
      "source": [
        "myvar = \"John\"\n",
        "#2myvar = \"John\"\n",
        "_my_var = \"John\"\n",
        "myVar = \"John\"\n",
        "#my var = \"John\""
      ],
      "metadata": {
        "id": "RErCdiDNKbje"
      },
      "execution_count": 19,
      "outputs": []
    },
    {
      "cell_type": "markdown",
      "source": [
        "Python Variable"
      ],
      "metadata": {
        "id": "Pw_zQmvtK9vH"
      }
    },
    {
      "cell_type": "code",
      "source": [
        "z = 1\n",
        "a, b = 0, -1\n",
        "c= \"Sally\"\n",
        "print (a, b, z, c)\n",
        "print (b)\n",
        "print (z)\n",
        "print (c)"
      ],
      "metadata": {
        "colab": {
          "base_uri": "https://localhost:8080/"
        },
        "id": "rm4YsQgoLCF-",
        "outputId": "e4c6d1fd-a2c7-4af5-ae1a-48ecaf4aa6a5"
      },
      "execution_count": 15,
      "outputs": [
        {
          "output_type": "stream",
          "name": "stdout",
          "text": [
            "0 -1 1 Sally\n",
            "-1\n",
            "1\n",
            "Sally\n"
          ]
        }
      ]
    },
    {
      "cell_type": "markdown",
      "source": [
        "Casting"
      ],
      "metadata": {
        "id": "htD5wpU7MEd1"
      }
    },
    {
      "cell_type": "code",
      "source": [
        "b = \"sally\" #This is a type of string\n",
        "b=int(4)\n",
        "print(b)\n",
        "\n",
        "b=float(4)\n",
        "print(b)\n",
        "\n",
        "b = 'sally' #Single Quote\n",
        "print(b)\n",
        "\n"
      ],
      "metadata": {
        "colab": {
          "base_uri": "https://localhost:8080/"
        },
        "id": "sTDoe0_WMFZW",
        "outputId": "f08faabf-61bd-41b7-df92-0ad6a3a18611"
      },
      "execution_count": 26,
      "outputs": [
        {
          "output_type": "stream",
          "name": "stdout",
          "text": [
            "4\n",
            "4.0\n",
            "sally\n"
          ]
        }
      ]
    },
    {
      "cell_type": "markdown",
      "source": [
        "Type() function"
      ],
      "metadata": {
        "id": "7Bja4QRENjW_"
      }
    },
    {
      "cell_type": "code",
      "source": [
        " x = 5\n",
        " y = \"John\"\n",
        " print(type(x))\n",
        " print(type(y))"
      ],
      "metadata": {
        "colab": {
          "base_uri": "https://localhost:8080/"
        },
        "id": "vf3OeDgNN-PV",
        "outputId": "b06387ee-9cf5-4886-9e2a-a1c8eb12b6d3"
      },
      "execution_count": 80,
      "outputs": [
        {
          "output_type": "stream",
          "name": "stdout",
          "text": [
            "<class 'int'>\n",
            "<class 'str'>\n"
          ]
        }
      ]
    },
    {
      "cell_type": "markdown",
      "source": [
        "“Double quotes” or ‘Single’ quotes"
      ],
      "metadata": {
        "id": "rngRG8DpOHgW"
      }
    },
    {
      "cell_type": "code",
      "source": [
        "y = \"John\"\n",
        "x = 'John'\n",
        "\n",
        "print (y, x)"
      ],
      "metadata": {
        "colab": {
          "base_uri": "https://localhost:8080/"
        },
        "id": "Si8Jr4CBOIR9",
        "outputId": "ce6b6b7b-81a6-4a48-bc8e-5c3849cccaa8"
      },
      "execution_count": 79,
      "outputs": [
        {
          "output_type": "stream",
          "name": "stdout",
          "text": [
            "John John\n"
          ]
        }
      ]
    },
    {
      "cell_type": "markdown",
      "source": [
        "Case sensitive"
      ],
      "metadata": {
        "id": "rATqGgNTOdVd"
      }
    },
    {
      "cell_type": "code",
      "source": [
        "b = \"I am\"\n",
        "B= \"Working\"\n",
        "a = 4\n",
        "A = \"Sally\"\n",
        "#A will not overwrite a\n",
        "\n",
        "print (b, B, a, A)"
      ],
      "metadata": {
        "colab": {
          "base_uri": "https://localhost:8080/"
        },
        "id": "qfFhTeYgOlKu",
        "outputId": "471dd428-47a6-4232-92a9-919a7aaea7f3"
      },
      "execution_count": 33,
      "outputs": [
        {
          "output_type": "stream",
          "name": "stdout",
          "text": [
            "I am Working 4 Sally\n"
          ]
        }
      ]
    },
    {
      "cell_type": "markdown",
      "source": [
        "Multiple Variables"
      ],
      "metadata": {
        "id": "D7vABodVO3c1"
      }
    },
    {
      "cell_type": "code",
      "source": [
        "x, y, z, k = \"I\", \"love\", \"Chicken\", \"Nuggets\"\n",
        "print(x)\n",
        "print(y)\n",
        "print(z)\n",
        "print(k)"
      ],
      "metadata": {
        "colab": {
          "base_uri": "https://localhost:8080/"
        },
        "id": "d3HSjbqDO6ft",
        "outputId": "b1ba9edd-2442-40b1-aa2e-1ae11b1584bf"
      },
      "execution_count": 37,
      "outputs": [
        {
          "output_type": "stream",
          "name": "stdout",
          "text": [
            "I\n",
            "love\n",
            "Chicken\n",
            "Nuggets\n"
          ]
        }
      ]
    },
    {
      "cell_type": "markdown",
      "source": [
        "One Value to Multiple Variables"
      ],
      "metadata": {
        "id": "Hsm71suqPXt1"
      }
    },
    {
      "cell_type": "code",
      "source": [
        "x = y = z = \"Six\"\n",
        "print(x)\n",
        "print(y)\n",
        "print(z)"
      ],
      "metadata": {
        "colab": {
          "base_uri": "https://localhost:8080/"
        },
        "id": "D9UIA0ihPZId",
        "outputId": "8277ab77-96bf-4db1-9500-9b591bf5a807"
      },
      "execution_count": 39,
      "outputs": [
        {
          "output_type": "stream",
          "name": "stdout",
          "text": [
            "Six\n",
            "Six\n",
            "Six\n"
          ]
        }
      ]
    },
    {
      "cell_type": "markdown",
      "source": [
        "Output Variables"
      ],
      "metadata": {
        "id": "Jnwce8hHPmO-"
      }
    },
    {
      "cell_type": "code",
      "source": [
        "x = \"enjoying\"\n",
        "print(\"Python programming is \" + x)\n",
        "\n",
        "print (\"or\")\n",
        "\n",
        "x =\"running is \"\n",
        "y =\"enjoying\"\n",
        "z = x + y\n",
        "print(z)"
      ],
      "metadata": {
        "colab": {
          "base_uri": "https://localhost:8080/"
        },
        "id": "mPRe8P_lPm7O",
        "outputId": "b20f098a-6bb8-4b2c-a9f8-6fdd619ac7ec"
      },
      "execution_count": 40,
      "outputs": [
        {
          "output_type": "stream",
          "name": "stdout",
          "text": [
            "Python programming is enjoying\n",
            "or\n",
            "running is enjoying\n"
          ]
        }
      ]
    },
    {
      "cell_type": "markdown",
      "source": [
        "Arithmetic Operations"
      ],
      "metadata": {
        "id": "lVg54WSYQ1fW"
      }
    },
    {
      "cell_type": "code",
      "source": [
        "print (10**2) #Exponentiation\n",
        "\n",
        "print (3//2) #floor division ang galinggggg\n",
        "\n",
        "print (100%6) #Modulus"
      ],
      "metadata": {
        "colab": {
          "base_uri": "https://localhost:8080/"
        },
        "id": "ybMD8xh8Q2V1",
        "outputId": "ef34957a-ef9f-48b1-aba6-7dbbb619e850"
      },
      "execution_count": 45,
      "outputs": [
        {
          "output_type": "stream",
          "name": "stdout",
          "text": [
            "100\n",
            "1\n",
            "4\n"
          ]
        }
      ]
    },
    {
      "cell_type": "markdown",
      "source": [
        "Assignment Operator"
      ],
      "metadata": {
        "id": "A-F3rFxeSAgG"
      }
    },
    {
      "cell_type": "code",
      "source": [
        "x = 5\n",
        "x //= 3\n",
        "print(x)"
      ],
      "metadata": {
        "colab": {
          "base_uri": "https://localhost:8080/"
        },
        "id": "Awgtl7D-SCfV",
        "outputId": "7e9444f4-cb41-40f4-f84d-d707c7023f61"
      },
      "execution_count": 51,
      "outputs": [
        {
          "output_type": "stream",
          "name": "stdout",
          "text": [
            "1\n"
          ]
        }
      ]
    },
    {
      "cell_type": "markdown",
      "source": [
        "Comparison Operators"
      ],
      "metadata": {
        "id": "BX2CgsdkSue9"
      }
    },
    {
      "cell_type": "code",
      "source": [
        "age = 9\n",
        "if age != 18:\n",
        "  print (\"Get out of here kid!\")\n",
        "else:\n",
        "  print (\"Ok\")"
      ],
      "metadata": {
        "colab": {
          "base_uri": "https://localhost:8080/"
        },
        "id": "9PbQLFqZSwMv",
        "outputId": "51d50d45-d981-4df5-9ebb-1914aa54f2f5"
      },
      "execution_count": 64,
      "outputs": [
        {
          "output_type": "stream",
          "name": "stdout",
          "text": [
            "Get out of here kid!\n"
          ]
        }
      ]
    },
    {
      "cell_type": "markdown",
      "source": [
        "Logical Operators"
      ],
      "metadata": {
        "id": "Da5PP8VSTYSu"
      }
    },
    {
      "cell_type": "code",
      "source": [
        "condition = 18\n",
        "civil_status = \"single\"\n",
        "if condition == 18 and civil_status == \"Married\":\n",
        "  print (\"You have been granted a family beneficial funds!\")\n",
        "else:\n",
        "  print (\"Try again next time!\")"
      ],
      "metadata": {
        "colab": {
          "base_uri": "https://localhost:8080/"
        },
        "id": "zHK1YcyQTaJ3",
        "outputId": "10a8882b-a950-4fe5-999d-c4aa9d04fea0"
      },
      "execution_count": 61,
      "outputs": [
        {
          "output_type": "stream",
          "name": "stdout",
          "text": [
            "Try again next time!\n"
          ]
        }
      ]
    },
    {
      "cell_type": "markdown",
      "source": [
        "Identity Operators"
      ],
      "metadata": {
        "id": "V8GxGlnoUiL9"
      }
    },
    {
      "cell_type": "code",
      "source": [
        "object1 = \"Axe\"\n",
        "required_object = \"Sword\" or \"sword\"\n",
        "\n",
        "if object1 is required_object:\n",
        "  print (\"Fight!\")\n",
        "else:\n",
        "  print (\"Go pick up a sword!\")"
      ],
      "metadata": {
        "colab": {
          "base_uri": "https://localhost:8080/"
        },
        "id": "rgaw-xbiUyNl",
        "outputId": "143d5320-dee6-43d0-dd46-7a5530bc8267"
      },
      "execution_count": 78,
      "outputs": [
        {
          "output_type": "stream",
          "name": "stdout",
          "text": [
            "Go pick up a sword!\n"
          ]
        }
      ]
    },
    {
      "cell_type": "markdown",
      "source": [
        "Bitwise Operators"
      ],
      "metadata": {
        "id": "2UNq0Or7WWd2"
      }
    },
    {
      "cell_type": "code",
      "source": [
        "#Decimal to Binary\n",
        "#10 = 1010\n",
        "x = 10\n",
        "print (x)\n",
        "\n",
        "y = x>>2\n",
        "print(y)"
      ],
      "metadata": {
        "colab": {
          "base_uri": "https://localhost:8080/"
        },
        "id": "-3Cjo_PrWXn1",
        "outputId": "8227151f-c0fd-45b2-a897-32088147bec4"
      },
      "execution_count": 85,
      "outputs": [
        {
          "output_type": "stream",
          "name": "stdout",
          "text": [
            "10\n",
            "2\n"
          ]
        }
      ]
    },
    {
      "cell_type": "markdown",
      "source": [
        "Application 1"
      ],
      "metadata": {
        "id": "k2dF9sh2YLmd"
      }
    },
    {
      "cell_type": "code",
      "source": [
        "#Application 1\n",
        "#Show solution\n",
        "#Area of Rectangle, Circle, Triangle\n",
        "\n",
        "print (\"Choose which shapes to calculate the area of\")\n",
        "print (\"1. Rectangle\")\n",
        "print (\"2. Circle\")\n",
        "print (\"3. Triangle\")\n",
        "chosen_shape = int(input())\n",
        "if int(chosen_shape) == 1:\n",
        "  print (\"Input the following dimensions:\")\n",
        "  print (\"Length: \")\n",
        "  l = input()\n",
        "  print (\"Width: \")\n",
        "  w = input()\n",
        "  print (\"Area: \")\n",
        "  print (float(l)*float(w))\n",
        "elif int(chosen_shape) == 2:\n",
        "  print (\"Input the following dimensions:\")\n",
        "  print (\"Radius: \")\n",
        "  r = input()\n",
        "  print (\"Area: \", 3.14*float(r)*float(r))\n",
        "elif int(chosen_shape) == 3:\n",
        "  print (\"Input the following dimensions:\")\n",
        "  print (\"Base: \")\n",
        "  b = input()\n",
        "  print (\"Height: \")\n",
        "  h = input()\n",
        "  print (\"Area: \", 0.5*float(b)*float(h))\n",
        "else:\n",
        "  print(\"You have not chosen any\")"
      ],
      "metadata": {
        "colab": {
          "base_uri": "https://localhost:8080/"
        },
        "id": "EMx5q2JjYOiN",
        "outputId": "3adc40e7-9c5e-4555-8da1-a2c58b06efc7"
      },
      "execution_count": 134,
      "outputs": [
        {
          "output_type": "stream",
          "name": "stdout",
          "text": [
            "Choose which shapes to calculate the area of\n",
            "1. Rectangle\n",
            "2. Circle\n",
            "3. Triangle\n",
            "5\n",
            "You have not chosen any\n"
          ]
        }
      ]
    }
  ]
}