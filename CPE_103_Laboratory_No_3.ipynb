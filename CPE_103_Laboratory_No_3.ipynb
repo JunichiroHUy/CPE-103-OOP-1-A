{
  "nbformat": 4,
  "nbformat_minor": 0,
  "metadata": {
    "colab": {
      "provenance": [],
      "authorship_tag": "ABX9TyOFXW9L8bWOhGDPx81N0e0D",
      "include_colab_link": true
    },
    "kernelspec": {
      "name": "python3",
      "display_name": "Python 3"
    },
    "language_info": {
      "name": "python"
    }
  },
  "cells": [
    {
      "cell_type": "markdown",
      "metadata": {
        "id": "view-in-github",
        "colab_type": "text"
      },
      "source": [
        "<a href=\"https://colab.research.google.com/github/JunichiroHUy/CPE-103-OOP-1-A/blob/main/CPE_103_Laboratory_No_3.ipynb\" target=\"_parent\"><img src=\"https://colab.research.google.com/assets/colab-badge.svg\" alt=\"Open In Colab\"/></a>"
      ]
    },
    {
      "cell_type": "markdown",
      "source": [
        "Creating classes"
      ],
      "metadata": {
        "id": "etdWX_DrRizX"
      }
    },
    {
      "cell_type": "code",
      "source": [
        "class Accounts():\n",
        "    account_number = 0\n",
        "    account_firstname = \"\"\n",
        "    account_lastname = \"\"\n",
        "    current_balance = 0\n",
        "    address = \"\"\n",
        "    email = \"\"\n",
        "\n",
        "    def update_address(new_address):\n",
        "        Accounts.address = new_address\n",
        "\n",
        "    def update_email(new_email):\n",
        "        Accounts.email = new_email"
      ],
      "metadata": {
        "id": "tqq7G5NKRlsu"
      },
      "execution_count": 22,
      "outputs": []
    },
    {
      "cell_type": "code",
      "source": [
        "class ATM():\n",
        "    serial_number = 0\n",
        "\n",
        "    def deposit(self, Accounts: Accounts, amount):\n",
        "        Accounts.current_balance += amount\n",
        "        print(\"depost complete\")\n",
        "\n",
        "    def withdraw(self, Accounts: Accounts, amount):\n",
        "        Accounts.current_balance -= amount\n",
        "        print(\"withdraw complete\")\n",
        "\n",
        "    def check_currentbalance(self, Accounts: Accounts):\n",
        "        print(Accounts.current_balance)"
      ],
      "metadata": {
        "id": "UydCHo53Sd6W"
      },
      "execution_count": 23,
      "outputs": []
    },
    {
      "cell_type": "markdown",
      "source": [
        "Creating Instances"
      ],
      "metadata": {
        "id": "UD0053gNoJ0M"
      }
    },
    {
      "cell_type": "code",
      "source": [
        "\n",
        "Account1 = Accounts()\n",
        "Account1.account_firstname = \"Royce\"\n",
        "Accounts.account_lastname = \"Chua\"\n",
        "Account1.current_balance = 1000\n",
        "Account1.address = \"Silver Street Quezon City\"\n",
        "Account1.email = \"roycechua123@gmail.com\"\n",
        "\n",
        "print(Account1.account_firstname)\n",
        "print(Account1.account_lastname)\n",
        "print(Account1.current_balance)\n",
        "print(Account1.address)\n",
        "print(Account1.email)\n",
        "\n",
        "print()\n",
        "\n",
        "Account2 = Accounts()\n",
        "Account2.account_firstname = \"John\"\n",
        "Account2.account_lastname = \"Doe\"\n",
        "Account2.current_balance = 2000\n",
        "Account2.address = \"Golden Street Quezon City\"\n",
        "Account1.email = \"johndoe@yahoo.com\"\n",
        "\n",
        "print(Account2.account_firstname)\n",
        "print(Account2.account_lastname)\n",
        "print(Account2.current_balance)\n",
        "print(Account2.address)\n",
        "print(Account2.email)"
      ],
      "metadata": {
        "id": "x7x7T51eqFwc",
        "colab": {
          "base_uri": "https://localhost:8080/"
        },
        "collapsed": true,
        "outputId": "853ef76b-5c6c-4cd5-8d7d-2bb837eb9ef8"
      },
      "execution_count": 24,
      "outputs": [
        {
          "output_type": "stream",
          "name": "stdout",
          "text": [
            "Royce\n",
            "Chua\n",
            "1000\n",
            "Silver Street Quezon City\n",
            "roycechua123@gmail.com\n",
            "\n",
            "John\n",
            "Doe\n",
            "2000\n",
            "Golden Street Quezon City\n",
            "\n"
          ]
        }
      ]
    },
    {
      "cell_type": "code",
      "source": [
        "\n",
        "ATM1 = ATM()\n",
        "ATM1.deposit(Account1, 500)\n",
        "ATM1.check_currentbalance(Account1)\n",
        "\n",
        "ATM1.deposit(Account2, 500)\n",
        "ATM1.check_currentbalance(Account2)"
      ],
      "metadata": {
        "colab": {
          "base_uri": "https://localhost:8080/"
        },
        "id": "cY2eC1a6pdSM",
        "outputId": "364652c7-150f-4a92-8e1e-379d383da3ef"
      },
      "execution_count": 25,
      "outputs": [
        {
          "output_type": "stream",
          "name": "stdout",
          "text": [
            "depost complete\n",
            "1500\n",
            "depost complete\n",
            "2500\n"
          ]
        }
      ]
    },
    {
      "cell_type": "markdown",
      "source": [
        "Creating Constructors"
      ],
      "metadata": {
        "id": "xeDiplKjp2oM"
      }
    },
    {
      "cell_type": "code",
      "source": [
        "class Accounts():\n",
        "    def __init__(self, account_number, account_firstname, account_lastname,\n",
        "                 current_balance, address, email):\n",
        "        self.account_number = account_number\n",
        "        self.account_firstname = account_firstname\n",
        "        self.account_lastname = account_lastname\n",
        "        self.current_balance = current_balance\n",
        "        self.address = address\n",
        "        self.email = email\n",
        "\n",
        "    def update_address(self, new_address):\n",
        "        self.address = new_address\n",
        "\n",
        "    def update_email(self, new_email):\n",
        "        self.email = new_email"
      ],
      "metadata": {
        "id": "qONbRTwxp24E"
      },
      "execution_count": 26,
      "outputs": []
    },
    {
      "cell_type": "code",
      "source": [
        "Account1 = Accounts(123456, \"Royce\", \"Chua\", 1000, \"Silver Street Quezon City\",\n",
        "                    \"roycechua123@gmail.com\")\n",
        "\n",
        "print(\"Account1\")\n",
        "print(Account1.account_firstname)\n",
        "print(Account1.account_lastname)\n",
        "print(Account1.current_balance)\n",
        "print(Account1.address)\n",
        "print(Account1.email)\n",
        "\n",
        "print()\n",
        "\n",
        "Account2 = Accounts(654321, \"John\", \"Doe\", 2000, \"Golden Street Quezon City\",\n",
        "                    \"johndoe@yahoo.com\")\n",
        "print(\"Account2\")\n",
        "print(Account2.account_firstname)\n",
        "print(Account2.account_lastname)\n",
        "print(Account2.current_balance)\n",
        "print(Account2.address)\n",
        "print(Account2.email)"
      ],
      "metadata": {
        "colab": {
          "base_uri": "https://localhost:8080/"
        },
        "id": "7wFG9A23p4OM",
        "outputId": "025649c5-f7c5-420e-85c6-1e0864271365"
      },
      "execution_count": 27,
      "outputs": [
        {
          "output_type": "stream",
          "name": "stdout",
          "text": [
            "Account1\n",
            "Royce\n",
            "Chua\n",
            "1000\n",
            "Silver Street Quezon City\n",
            "roycechua123@gmail.com\n",
            "\n",
            "Account2\n",
            "John\n",
            "Doe\n",
            "2000\n",
            "Golden Street Quezon City\n",
            "johndoe@yahoo.com\n"
          ]
        }
      ]
    },
    {
      "cell_type": "markdown",
      "source": [
        "Tasks"
      ],
      "metadata": {
        "id": "5WpE5_vtqRQi"
      }
    },
    {
      "cell_type": "code",
      "source": [
        "\n",
        "class ATM():\n",
        "    serial_number = 0\n",
        "    transactions_list = []\n",
        "\n",
        "    def __init__(self, serial_number):\n",
        "        self.serial_number = serial_number\n",
        "        self.transactions_list = []  # Initialize empty list for each ATM\n",
        "        print(\"ATM serial number:\", self.serial_number)\n",
        "\n",
        "    def deposit(self, Account: Accounts, amount):\n",
        "        Account.current_balance += amount\n",
        "        # Store account number and transaction type in list\n",
        "        self.transactions_list.append(f\"Account {Account.account_number} deposited ${amount}\")\n",
        "        print(\"deposit complete\")\n",
        "\n",
        "    def withdraw(self, Account: Accounts, amount):\n",
        "        Account.current_balance -= amount\n",
        "        # Store account number and transaction type in list\n",
        "        self.transactions_list.append(f\"Account {Account.account_number} withdrew ${amount}\")\n",
        "        print(\"withdraw complete\")\n",
        "\n",
        "    def check_currentbalance(self, Account: Accounts):\n",
        "        print(f\"Current balance: ${Account.current_balance}\")\n",
        "\n",
        "    def view_transactionsummary(self):\n",
        "        print(\"\\n=== Transaction Summary ===\")\n",
        "        if len(self.transactions_list) == 0:\n",
        "            print(\"No transactions made yet\")\n",
        "        else:\n",
        "            # Print each transaction on a new line\n",
        "            for transaction in self.transactions_list:\n",
        "                print(transaction)\n",
        "        print(\"========================\")\n",
        "\n",
        "\n",
        "# Test the program\n",
        "Account1 = Accounts(123456, \"Royce\", \"Chua\", 1000, \"Silver Street Quezon City\", \"roycechua123@gmail.com\")\n",
        "\n",
        "print(\"Account1\")\n",
        "print(Account1.account_firstname)\n",
        "print(Account1.account_lastname)\n",
        "print(Account1.current_balance)\n",
        "print(Account1.address)\n",
        "print(Account1.email)\n",
        "\n",
        "print()\n",
        "\n",
        "Account2 = Accounts(654321, \"John\", \"Doe\", 2000, \"Golden Street Quezon City\", \"johndoe@yahoo.com\")\n",
        "print(\"Account2\")\n",
        "print(Account2.account_firstname)\n",
        "print(Account2.account_lastname)\n",
        "print(Account2.current_balance)\n",
        "print(Account2.address)\n",
        "print(Account2.email)\n",
        "\n",
        "print()\n",
        "\n",
        "# Create ATM and perform transactions\n",
        "ATM1 = ATM(67890)\n",
        "\n",
        "# Test deposits\n",
        "ATM1.deposit(Account1, 500)\n",
        "ATM1.check_currentbalance(Account1)\n",
        "\n",
        "ATM1.deposit(Account2, 500)\n",
        "ATM1.check_currentbalance(Account2)\n",
        "\n",
        "# Test withdrawals\n",
        "ATM1.withdraw(Account1, 200)\n",
        "ATM1.check_currentbalance(Account1)\n",
        "\n",
        "# View transaction summary\n",
        "ATM1.view_transactionsummary()"
      ],
      "metadata": {
        "colab": {
          "base_uri": "https://localhost:8080/"
        },
        "id": "lBWnnizjqSxl",
        "outputId": "136eb3cd-96dd-4c99-9255-cc73b0bee7b6"
      },
      "execution_count": 28,
      "outputs": [
        {
          "output_type": "stream",
          "name": "stdout",
          "text": [
            "Account1\n",
            "Royce\n",
            "Chua\n",
            "1000\n",
            "Silver Street Quezon City\n",
            "roycechua123@gmail.com\n",
            "\n",
            "Account2\n",
            "John\n",
            "Doe\n",
            "2000\n",
            "Golden Street Quezon City\n",
            "johndoe@yahoo.com\n",
            "\n",
            "ATM serial number: 67890\n",
            "deposit complete\n",
            "Current balance: $1500\n",
            "deposit complete\n",
            "Current balance: $2500\n",
            "withdraw complete\n",
            "Current balance: $1300\n",
            "\n",
            "=== Transaction Summary ===\n",
            "Account 123456 deposited $500\n",
            "Account 654321 deposited $500\n",
            "Account 123456 withdrew $200\n",
            "========================\n"
          ]
        }
      ]
    }
  ]
}