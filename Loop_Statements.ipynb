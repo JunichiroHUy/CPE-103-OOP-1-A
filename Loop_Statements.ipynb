{
  "nbformat": 4,
  "nbformat_minor": 0,
  "metadata": {
    "colab": {
      "provenance": [],
      "authorship_tag": "ABX9TyMihqBZR7DBaDCWjWy+26Nr",
      "include_colab_link": true
    },
    "kernelspec": {
      "name": "python3",
      "display_name": "Python 3"
    },
    "language_info": {
      "name": "python"
    }
  },
  "cells": [
    {
      "cell_type": "markdown",
      "metadata": {
        "id": "view-in-github",
        "colab_type": "text"
      },
      "source": [
        "<a href=\"https://colab.research.google.com/github/JunichiroHUy/CPE-103-OOP-1-A/blob/main/Loop_Statements.ipynb\" target=\"_parent\"><img src=\"https://colab.research.google.com/assets/colab-badge.svg\" alt=\"Open In Colab\"/></a>"
      ]
    },
    {
      "cell_type": "markdown",
      "source": [],
      "metadata": {
        "id": "FUQRqlqjUW_d"
      }
    },
    {
      "cell_type": "code",
      "execution_count": null,
      "metadata": {
        "colab": {
          "base_uri": "https://localhost:8080/"
        },
        "id": "_cPcCKbA1RTO",
        "outputId": "0b43a2df-5ab9-402c-de2f-d10959d472df"
      },
      "outputs": [
        {
          "output_type": "stream",
          "name": "stdout",
          "text": [
            "you\n",
            "are\n",
            "gorgeous\n"
          ]
        }
      ],
      "source": [
        "wow = [\"you\", 'are', 'so', 'gorgeous']\n",
        "for x in haha:\n",
        "\n",
        "  if x == \"so\":\n",
        "    break\n",
        "  print(x)\n",
        "\n",
        "\n"
      ]
    },
    {
      "cell_type": "code",
      "source": [
        "for x in range(6):\n",
        "  print(x)\n",
        "print('\\n')\n",
        "for x in range(2, 6):\n",
        "  print(x)"
      ],
      "metadata": {
        "colab": {
          "base_uri": "https://localhost:8080/"
        },
        "id": "AAhyX-O_4SLx",
        "outputId": "fae5d2a2-f044-4462-817c-74dec8d648c5"
      },
      "execution_count": null,
      "outputs": [
        {
          "output_type": "stream",
          "name": "stdout",
          "text": [
            "0\n",
            "1\n",
            "2\n",
            "3\n",
            "4\n",
            "5\n",
            "\n",
            "\n",
            "2\n",
            "3\n",
            "4\n",
            "5\n"
          ]
        }
      ]
    },
    {
      "cell_type": "code",
      "source": [
        "adjective = [\"Red\", 'Big', 'tasty']\n",
        "fruits = ['Apple', 'banana', 'cherry']\n",
        "\n",
        "for x in adjective:\n",
        "  for y in fruits:\n",
        "    print(x, y)"
      ],
      "metadata": {
        "colab": {
          "base_uri": "https://localhost:8080/"
        },
        "id": "GdOH24bC5KFh",
        "outputId": "b2535c0d-039d-469d-df32-1987057cb401"
      },
      "execution_count": null,
      "outputs": [
        {
          "output_type": "stream",
          "name": "stdout",
          "text": [
            "Red Apple\n",
            "Red banana\n",
            "Red cherry\n",
            "Big Apple\n",
            "Big banana\n",
            "Big cherry\n",
            "tasty Apple\n",
            "tasty banana\n",
            "tasty cherry\n"
          ]
        }
      ]
    },
    {
      "cell_type": "code",
      "source": [
        "i = 1\n",
        "\n",
        "while i < 6:\n",
        "  print(i)\n",
        "\n",
        "  if i == 3:\n",
        "    break\n",
        "  i += 1"
      ],
      "metadata": {
        "colab": {
          "base_uri": "https://localhost:8080/"
        },
        "id": "pN4xYFJv6FFI",
        "outputId": "17903d1b-f8b8-4f7f-eb54-06c292ee5f6c"
      },
      "execution_count": 46,
      "outputs": [
        {
          "output_type": "stream",
          "name": "stdout",
          "text": [
            "1\n",
            "2\n",
            "3\n"
          ]
        }
      ]
    },
    {
      "cell_type": "code",
      "source": [
        "i = 0\n",
        "i += 1\n",
        "while i < 6:\n",
        "\n",
        "  if i == 3:\n",
        "    i += 1\n",
        "    continue\n",
        "\n",
        "  print(i)\n",
        "  i += 1\n",
        "\n",
        "\n"
      ],
      "metadata": {
        "colab": {
          "base_uri": "https://localhost:8080/"
        },
        "id": "QftETQ3O7J-g",
        "outputId": "15fd29ab-db30-4898-ad7a-3b8c3c770722"
      },
      "execution_count": 34,
      "outputs": [
        {
          "output_type": "stream",
          "name": "stdout",
          "text": [
            "1\n",
            "2\n",
            "4\n",
            "5\n"
          ]
        }
      ]
    },
    {
      "cell_type": "code",
      "source": [
        "i = 1\n",
        "while i < 6:\n",
        "  print(i)\n",
        "  i += 1\n",
        "else:\n",
        "  print(\"i is no longer less than 6\")"
      ],
      "metadata": {
        "id": "IYasygOUB1C_",
        "colab": {
          "base_uri": "https://localhost:8080/"
        },
        "outputId": "68387d99-3f7c-412c-8633-c59d0ff4f47d"
      },
      "execution_count": 33,
      "outputs": [
        {
          "output_type": "stream",
          "name": "stdout",
          "text": [
            "1\n",
            "2\n",
            "3\n",
            "4\n",
            "5\n",
            "i is no longer less than 6\n"
          ]
        }
      ]
    },
    {
      "cell_type": "markdown",
      "source": [
        "**Application 1**"
      ],
      "metadata": {
        "id": "msQp7Xo4CT5P"
      }
    },
    {
      "cell_type": "code",
      "source": [
        "\n",
        "number = [0, 1, 2, 3, 4, 5, 6, 7, 8, 9, 10]\n",
        "i = 0\n",
        "while i < len(number):\n",
        "  print(f\"Hello {number[i]}\")\n",
        "  i += 1\n"
      ],
      "metadata": {
        "colab": {
          "base_uri": "https://localhost:8080/"
        },
        "collapsed": true,
        "id": "HE7jdjAdCYUf",
        "outputId": "721e773c-72ae-4205-dabb-8888e083d4a5"
      },
      "execution_count": 32,
      "outputs": [
        {
          "output_type": "stream",
          "name": "stdout",
          "text": [
            "Hello 0\n",
            "Hello 1\n",
            "Hello 2\n",
            "Hello 3\n",
            "Hello 4\n",
            "Hello 5\n",
            "Hello 6\n",
            "Hello 7\n",
            "Hello 8\n",
            "Hello 9\n",
            "Hello 10\n"
          ]
        }
      ]
    },
    {
      "cell_type": "markdown",
      "source": [
        "**Practical Test**"
      ],
      "metadata": {
        "id": "lGNCSUllOrtf"
      }
    },
    {
      "cell_type": "code",
      "source": [
        "number = 0\n",
        "\n",
        "while number < 10:\n",
        "  if number < 3:\n",
        "    number += 1\n",
        "    continue\n",
        "  print(number)\n",
        "  number += 1"
      ],
      "metadata": {
        "colab": {
          "base_uri": "https://localhost:8080/"
        },
        "id": "ffR8WYrWUrQk",
        "outputId": "6bc106ab-abc6-4b72-cfc1-bfb15123b4ba"
      },
      "execution_count": 49,
      "outputs": [
        {
          "output_type": "stream",
          "name": "stdout",
          "text": [
            "3\n",
            "4\n",
            "5\n",
            "6\n",
            "7\n",
            "8\n",
            "9\n"
          ]
        }
      ]
    }
  ]
}