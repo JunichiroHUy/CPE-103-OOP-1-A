{
  "nbformat": 4,
  "nbformat_minor": 0,
  "metadata": {
    "colab": {
      "provenance": [],
      "authorship_tag": "ABX9TyPRoGrPbu2PUOsZjGZMwUiK",
      "include_colab_link": true
    },
    "kernelspec": {
      "name": "python3",
      "display_name": "Python 3"
    },
    "language_info": {
      "name": "python"
    }
  },
  "cells": [
    {
      "cell_type": "markdown",
      "metadata": {
        "id": "view-in-github",
        "colab_type": "text"
      },
      "source": [
        "<a href=\"https://colab.research.google.com/github/JunichiroHUy/CPE-103-OOP-1-A/blob/main/Activity_5.ipynb\" target=\"_parent\"><img src=\"https://colab.research.google.com/assets/colab-badge.svg\" alt=\"Open In Colab\"/></a>"
      ]
    },
    {
      "cell_type": "markdown",
      "source": [
        "**Function 1**\n",
        "\n",
        "Evaluator.py"
      ],
      "metadata": {
        "id": "QfP_0udEhMEj"
      }
    },
    {
      "cell_type": "code",
      "source": [
        "print('Propositional logic evaluator for discrete math')\n",
        "variables = int(input(\"How many variables? \"))\n",
        "total_combinations = 2**variables\n",
        "\n",
        "combinations_list = []\n",
        "\n",
        "for i in range(total_combinations):\n",
        "  bin_equivalent = bin(i)[2:]\n",
        "  while len(bin_equivalent)<variables:\n",
        "    bin_equivalent=\"0\"+bin_equivalent\n",
        "  combinations_list.append(tuple(int(val) for val in bin_equivalent))\n",
        "\n",
        "expression = input(\"enter the propositional logic expression: \")\n",
        "\n",
        "if variables == 2:\n",
        "  print(\"A B f\")\n",
        "  for A,B in combinations_list:\n",
        "    evaluated_expression = eval(expression)\n",
        "    print(A,B, evaluated_expression)\n",
        "elif variables == 3:\n",
        "  print(\"A B C f\")\n",
        "  for A,B,C in combinations_list:\n",
        "    evaluated_expression = eval(expression)\n",
        "    print(A,B,C, evaluated_expression)"
      ],
      "metadata": {
        "colab": {
          "base_uri": "https://localhost:8080/"
        },
        "id": "YIV0RvcDhLre",
        "outputId": "39c9db4a-781e-48a7-b0d9-4d7416734913"
      },
      "execution_count": 1,
      "outputs": [
        {
          "name": "stdout",
          "output_type": "stream",
          "text": [
            "Propositional logic evaluator for discrete math\n",
            "How many variables? 6\n",
            "enter the propositional logic expression: 5\n"
          ]
        }
      ]
    },
    {
      "cell_type": "markdown",
      "source": [
        "**filehandling**\n",
        "\n",
        "filewriter.py\n",
        "\n",
        "\n"
      ],
      "metadata": {
        "id": "RVaKjbvJlrbz"
      }
    },
    {
      "cell_type": "code",
      "source": [
        "name = \"Royce Chua\"\n",
        "file = open(\"newfile1.txt\", 'w')\n",
        "file.write(f\"Hello, {name}!\\n\")\n",
        "file.write(\"Isn't this amazing!\\n\")\n",
        "file.write(\"that we can create and write on text files\\n\")\n",
        "file.write(\"using Python.\")\n",
        "file.close()\n",
        "\n",
        "#create a new file\n",
        "file = open(\"newfile2.txt\", 'w')\n",
        "file.write(\"This message was created using Python!\")\n",
        "file.close()"
      ],
      "metadata": {
        "id": "PaCnlAXtlxKC"
      },
      "execution_count": 2,
      "outputs": []
    },
    {
      "cell_type": "markdown",
      "source": [
        "filereader.py"
      ],
      "metadata": {
        "id": "8xsITTJTpPkZ"
      }
    },
    {
      "cell_type": "code",
      "source": [
        "file = open(\"newfile1.txt\", 'r')\n",
        "data = file.read()\n",
        "print(data)\n",
        "file.close()\n",
        "print(\"\\n---\\n\")\n",
        "\n",
        "file = open(\"newfile2.txt\", 'r')\n",
        "data = file.read()\n",
        "print(data)\n",
        "file.close()"
      ],
      "metadata": {
        "colab": {
          "base_uri": "https://localhost:8080/"
        },
        "id": "iJf_avV1pS4h",
        "outputId": "a4a0eb7b-2a2d-4697-e36b-2165afd3d99d"
      },
      "execution_count": 3,
      "outputs": [
        {
          "output_type": "stream",
          "name": "stdout",
          "text": [
            "Hello, Royce Chua!\n",
            "Isn't this amazing!\n",
            "that we can create and write on text files\n",
            "using Python.\n",
            "\n",
            "---\n",
            "\n",
            "This message was created using Python!\n"
          ]
        }
      ]
    },
    {
      "cell_type": "markdown",
      "source": [
        "fileappender.py"
      ],
      "metadata": {
        "id": "jwuJFS26tFG_"
      }
    },
    {
      "cell_type": "code",
      "source": [
        "file = open(\"newfile2.txt\", 'a')\n",
        "file.write(\"and also by the programmer ofcourse. \")\n",
        "file.close()"
      ],
      "metadata": {
        "id": "qnL7vd4BtHev"
      },
      "execution_count": 4,
      "outputs": []
    },
    {
      "cell_type": "markdown",
      "source": [
        "**userfunction**\n",
        "\n",
        "truthtablegenerator.py **(Skipped for now)**"
      ],
      "metadata": {
        "id": "F4yW_zMatrb_"
      }
    },
    {
      "cell_type": "code",
      "source": [
        "def generate_truthtable(number_of_variables):\n",
        "  if number_of_variables == 0:\n",
        "    return \"You need to enter an integer\"\n",
        "  else:\n",
        "    total_combinations = 2**number_of_variables\n",
        "    combinations_list = []\n",
        "    for i in range(total_combinations):\n",
        "      bin_equivalent = bin(i)[2:]\n",
        "      while len(bin_equivalent)<number_of_variables:\n",
        "        bin_equivalent=\"0\"+bin_equivalent\n",
        "      combinations_list.append(tuple(int(val) for val in bin_equivalent))\n",
        "    return combinations_list\n",
        "\n",
        "print(generate_truthtable(3))"
      ],
      "metadata": {
        "id": "nLiNnU3Rtyzm",
        "colab": {
          "base_uri": "https://localhost:8080/"
        },
        "outputId": "305c31c5-95bb-4ad3-a36c-eaa87cc03127"
      },
      "execution_count": 16,
      "outputs": [
        {
          "output_type": "stream",
          "name": "stdout",
          "text": [
            "[(0, 0, 0), (0, 0, 1), (0, 1, 0), (0, 1, 1), (1, 0, 0), (1, 0, 1), (1, 1, 0), (1, 1, 1)]\n"
          ]
        }
      ]
    },
    {
      "cell_type": "markdown",
      "source": [
        "**modules1**\n",
        "\n",
        "mathmodule.py"
      ],
      "metadata": {
        "id": "Ic2weoqNyLd2"
      }
    },
    {
      "cell_type": "code",
      "source": [
        "import math\n",
        "\n",
        "def quadratic_formula(a, b, c):\n",
        "  if b**2-(4*a*c)<0:\n",
        "    x1 = (complex(-b,math.floor(math.sqrt(abs(b**2-(4*a*c))))))/2*a\n",
        "    x2 = (complex(-b,-1*math.floor(math.sqrt(abs(b**2-(4*a*c))))))/2*a\n",
        "    return x1, x2\n",
        "  else:\n",
        "    x1 = (-b+math.sqrt(b**2-(4*a*c)))/(2*a)\n",
        "    x2 = (-b-math.sqrt(b**2-(4*a*c)))/(2*a)\n",
        "    return x1, x2\n",
        "\n",
        "print(quadratic_formula(1, 2, 3))"
      ],
      "metadata": {
        "colab": {
          "base_uri": "https://localhost:8080/"
        },
        "id": "ZbsnFSQNyYxe",
        "outputId": "14a3c975-03dc-4806-e3ff-ba0ef20869f2"
      },
      "execution_count": 6,
      "outputs": [
        {
          "output_type": "stream",
          "name": "stdout",
          "text": [
            "((-1+1j), (-1-1j))\n"
          ]
        }
      ]
    },
    {
      "cell_type": "markdown",
      "source": [
        "mathmodule2.py"
      ],
      "metadata": {
        "id": "x0j9Bb0E0FKm"
      }
    },
    {
      "cell_type": "code",
      "source": [
        "import math\n",
        "\n",
        "def angle_demo():\n",
        "  angle = math.sin(math.pi/2)\n",
        "  print(angle)\n",
        "  angle = math.sin(math.radians(90))\n",
        "  print(angle)\n",
        "\n",
        "angle_demo()"
      ],
      "metadata": {
        "colab": {
          "base_uri": "https://localhost:8080/"
        },
        "id": "nGkedORr0H-I",
        "outputId": "6dd26150-f418-426f-b551-d218d4d8f105"
      },
      "execution_count": 7,
      "outputs": [
        {
          "output_type": "stream",
          "name": "stdout",
          "text": [
            "1.0\n",
            "1.0\n"
          ]
        }
      ]
    },
    {
      "cell_type": "markdown",
      "source": [
        "dateandtime.py"
      ],
      "metadata": {
        "id": "4rR6PG_20r5G"
      }
    },
    {
      "cell_type": "code",
      "source": [
        "import time\n",
        "\n",
        "def pause():\n",
        "  for i in range(10,0,-1):\n",
        "    print(f\"The program willl end in {i}..\")\n",
        "    time.sleep(1)\n",
        "\n",
        "#pause()\n",
        "\n",
        "def current_time():\n",
        "  t = time.strftime(\"%I:%M %p\")\n",
        "  return t\n",
        "\n",
        "#print(current_time())\n",
        "\n",
        "def current_date():\n",
        "  d = time.strftime(\"%b %d %Y\")\n",
        "  return d\n",
        "\n",
        "#print(current_date())"
      ],
      "metadata": {
        "id": "Ryvw24r-0rov"
      },
      "execution_count": 8,
      "outputs": []
    },
    {
      "cell_type": "markdown",
      "source": [
        "main.py"
      ],
      "metadata": {
        "id": "ECY_Y94b2K6m"
      }
    },
    {
      "cell_type": "code",
      "source": [
        "#from dateandtime import current_time, current_date\n",
        "\n",
        "print(\"The current time is\",current_time())\n",
        "print(\"The current date is\",current_date())"
      ],
      "metadata": {
        "colab": {
          "base_uri": "https://localhost:8080/"
        },
        "id": "9sNRl9252Mxe",
        "outputId": "adeb6ecb-ac26-443f-91aa-dd4c84a5a72c"
      },
      "execution_count": 9,
      "outputs": [
        {
          "output_type": "stream",
          "name": "stdout",
          "text": [
            "The current time is 02:54 AM\n",
            "The current date is Feb 19 2025\n"
          ]
        }
      ]
    },
    {
      "cell_type": "markdown",
      "source": [
        "**Supplementary Activity**\n",
        "\n"
      ],
      "metadata": {
        "id": "nYAw-yJRDBfm"
      }
    },
    {
      "cell_type": "markdown",
      "source": [
        "**Simple word filter**"
      ],
      "metadata": {
        "id": "-oLp_GCpcHNB"
      }
    },
    {
      "cell_type": "code",
      "source": [
        "sentence = input(\"Type a sentence: \")\n",
        "bad_words = []\n",
        "censored = \"\"\n",
        "\n",
        "while True:\n",
        "  word_input = input(\"Enter the words you want to censor (Type END to exit): \")\n",
        "  if word_input == \"END\":\n",
        "    break\n",
        "\n",
        "  bad_words.append(word_input)\n",
        "\n",
        "for i in sentence.split(\" \"):\n",
        "  if i.lower() in bad_words:\n",
        "    censored += \"*\" * len(i) + \" \"\n",
        "  else:\n",
        "    censored += i + \" \"\n",
        "\n",
        "print(censored)"
      ],
      "metadata": {
        "colab": {
          "base_uri": "https://localhost:8080/"
        },
        "id": "MDounV6pDM8k",
        "outputId": "c4935c5d-e78a-43a0-b5f6-d7d96a76a5f6"
      },
      "execution_count": 10,
      "outputs": [
        {
          "output_type": "stream",
          "name": "stdout",
          "text": [
            "Type a sentence: Hello\n",
            "Enter the words you want to censor (Type END to exit): hello\n",
            "Enter the words you want to censor (Type END to exit): end\n",
            "Enter the words you want to censor (Type END to exit): END\n",
            "***** \n"
          ]
        }
      ]
    },
    {
      "cell_type": "markdown",
      "source": [
        "**Projectile Motion**"
      ],
      "metadata": {
        "id": "RI1UYkgId4BC"
      }
    },
    {
      "cell_type": "markdown",
      "source": [
        "projectilemotion.py"
      ],
      "metadata": {
        "id": "3uBOSE5cNQ4p"
      }
    },
    {
      "cell_type": "code",
      "source": [
        "import math\n",
        "\n",
        "def projectilemotion_solver (angle, speed):\n",
        "  g = 9.8\n",
        "  range = (speed**2 * math.sin(2 * math.radians(angle))) / g\n",
        "  height = (speed**2 * (math.sin(math.radians(angle)))**2) / (2 * g)\n",
        "  return f\"The range is {range}  degrees and the maximum height reached is {height} m\"\n",
        ""
      ],
      "metadata": {
        "id": "KfUh9_YKd6WB"
      },
      "execution_count": 46,
      "outputs": []
    },
    {
      "cell_type": "markdown",
      "source": [
        "main_program.py"
      ],
      "metadata": {
        "id": "0ztQllg3NVXB"
      }
    },
    {
      "cell_type": "code",
      "source": [
        "a = float(input(\"Enter the angle: \"))\n",
        "s = float(input(\"Enter the speed: \"))\n",
        "\n",
        "print(f\"A long jumper leaves the ground at an angle of {a}° above the horizontal and at a speed of {s} m/s. \\n\")\n",
        "\n",
        "result = projectilemotion_solver(a, s)\n",
        "\n",
        "print(result)\n"
      ],
      "metadata": {
        "id": "6JKBpeP8d80S",
        "colab": {
          "base_uri": "https://localhost:8080/"
        },
        "outputId": "406e4d0b-899d-4a06-eaf5-abab45866d36"
      },
      "execution_count": 47,
      "outputs": [
        {
          "output_type": "stream",
          "name": "stdout",
          "text": [
            "Enter the angle: 20\n",
            "Enter the speed: 11\n",
            "A long jumper leaves the ground at an angle of 20.0° above the horizontal and at a speed of 11.0 m/s. \n",
            "\n",
            "The range is 7.936459262456249  degrees and the maximum height reached is 0.7221587342500931 m\n"
          ]
        }
      ]
    },
    {
      "cell_type": "markdown",
      "source": [
        "**Quadratic equation solver**"
      ],
      "metadata": {
        "id": "YFXt66KTcPhZ"
      }
    },
    {
      "cell_type": "code",
      "source": [
        "import math\n",
        "\n",
        "def solve_quadratic(a, b, c):\n",
        "    discriminant = b**2 - 4*a*c\n",
        "    if discriminant > 0:\n",
        "        root1 = (-b + math.sqrt(discriminant)) / (2 * a)\n",
        "        root2 = (-b - math.sqrt(discriminant)) / (2 * a)\n",
        "        return root1, root2\n",
        "    elif discriminant == 0:\n",
        "        root = -b / (2 * a)\n",
        "        return root,\n",
        "    else:\n",
        "        return \"No Real Roots\"\n",
        "\n",
        "def log_to_file(a, b, c, result):\n",
        "    with open(\"quadratic_solver_log.txt\", \"a\") as file:\n",
        "        file.write(f\"Equation: {a}x^2 + {b}x + {c} = 0\\n\")\n",
        "        file.write(f\"Solution: {result}\\n\")\n",
        "        file.write(\"-\" * 30 + \"\\n\")\n",
        "\n",
        "def main():\n",
        "    try:\n",
        "        a = float(input(\"Enter coefficient a: \"))\n",
        "        b = float(input(\"Enter coefficient b: \"))\n",
        "        c = float(input(\"Enter coefficient c: \"))\n",
        "\n",
        "        if a == 0:\n",
        "            print(\"Coefficient 'a' cannot be zero in a quadratic equation.\")\n",
        "            return\n",
        "\n",
        "        result = solve_quadratic(a, b, c)\n",
        "        print(\"Solution:\", result)\n",
        "        log_to_file(a, b, c, result)\n",
        "    except ValueError:\n",
        "        print(\"Invalid input! Please enter numerical values.\")\n",
        "\n",
        "if __name__ == \"__main__\":\n",
        "    main()"
      ],
      "metadata": {
        "colab": {
          "base_uri": "https://localhost:8080/"
        },
        "id": "5aICF_3Yelp5",
        "outputId": "82ce4d93-eaa3-4a0f-b65d-f0e48c77d6b3"
      },
      "execution_count": 51,
      "outputs": [
        {
          "output_type": "stream",
          "name": "stdout",
          "text": [
            "Enter coefficient a: 5\n",
            "Enter coefficient b: 10\n",
            "Enter coefficient c: 0\n",
            "Solution: (0.0, -2.0)\n"
          ]
        }
      ]
    }
  ]
}