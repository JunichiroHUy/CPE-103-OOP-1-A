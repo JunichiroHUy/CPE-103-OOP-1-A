{
  "nbformat": 4,
  "nbformat_minor": 0,
  "metadata": {
    "colab": {
      "provenance": [],
      "authorship_tag": "ABX9TyPMJfouDpa+Nol9BxBW7oSk",
      "include_colab_link": true
    },
    "kernelspec": {
      "name": "python3",
      "display_name": "Python 3"
    },
    "language_info": {
      "name": "python"
    }
  },
  "cells": [
    {
      "cell_type": "markdown",
      "metadata": {
        "id": "view-in-github",
        "colab_type": "text"
      },
      "source": [
        "<a href=\"https://colab.research.google.com/github/JunichiroHUy/CPE-103-OOP-1-A/blob/main/oopfa1Uy_lab7.ipynb\" target=\"_parent\"><img src=\"https://colab.research.google.com/assets/colab-badge.svg\" alt=\"Open In Colab\"/></a>"
      ]
    },
    {
      "cell_type": "markdown",
      "source": [
        "**polymorphism_a.ipynb**"
      ],
      "metadata": {
        "id": "fkQKT9iGA3sv"
      }
    },
    {
      "cell_type": "code",
      "execution_count": 17,
      "metadata": {
        "colab": {
          "base_uri": "https://localhost:8080/"
        },
        "id": "djfIJej8_qN4",
        "outputId": "c4aec13c-bc86-422a-dbb1-3d811a6723f4"
      },
      "outputs": [
        {
          "output_type": "stream",
          "name": "stdout",
          "text": [
            "Feet=  50 Inches=  25\n",
            "Enter feet and inches of distance1: 21 30\n",
            "Enter feet and inches of distance2: 90 60\n",
            "Distance2 is greater or equal to Distance1\n",
            "Sum of the two Distance is:\n",
            "Feet=  112 Inches=  78\n",
            "Enter feet and inches of distance1: 40 30\n",
            "Enter feet and inches of distance2: 10 20\n",
            "Distance1 is greater than Distance2\n"
          ]
        }
      ],
      "source": [
        "# distance is a class. Distance is measured in terms of feet and inches\n",
        "\n",
        "class distance:\n",
        "  def __init__(self, f,i):\n",
        "\n",
        "    self.feet=f\n",
        "    self.inches=i\n",
        "\n",
        "# overloading of binary operator > to compare two distances\n",
        "\n",
        "  def __gt__(self,d):\n",
        "\n",
        "    if(self.feet>d.feet):\n",
        "      return(True)\n",
        "\n",
        "    elif((self.feet==d.feet) and (self.inches>d.inches)):\n",
        "      return(True)\n",
        "\n",
        "    else:\n",
        "      return(False)\n",
        "\n",
        "# overloading of binary operator + to add two distances\n",
        "\n",
        "  def __add__(self, d):\n",
        "\n",
        "    i=self.inches + d.inches\n",
        "    f=self.feet + d.feet\n",
        "\n",
        "    if(i>=12):\n",
        "\n",
        "      i = i-12\n",
        "      f = f+1\n",
        "      return distance(f,i)\n",
        "\n",
        "# displaying the distance\n",
        "\n",
        "  def show(self):\n",
        "\n",
        "    print(\"Feet= \", self.feet, \"Inches= \",self.inches)\n",
        "\n",
        "    a,b= (input(\"Enter feet and inches of distance1: \")).split()\n",
        "    a,b =[int(a),int(b)]\n",
        "\n",
        "    c,d= (input(\"Enter feet and inches of distance2: \")).split()\n",
        "    c,d =[int(c),int(d)]\n",
        "\n",
        "    d1 = distance(a,b)\n",
        "    d2 = distance(c,d)\n",
        "\n",
        "    if(d1>d2):\n",
        "      print(\"Distance1 is greater than Distance2\")\n",
        "    else:\n",
        "      print(\"Distance2 is greater or equal to Distance1\")\n",
        "      d3=d1+d2\n",
        "\n",
        "      print(\"Sum of the two Distance is:\")\n",
        "      d3.show()\n",
        "\n",
        "variable = distance(50,25)\n",
        "variable.show()"
      ]
    },
    {
      "cell_type": "markdown",
      "source": [
        "**polymorphism_b.ipynb**"
      ],
      "metadata": {
        "id": "TZCEWC3VO1D2"
      }
    },
    {
      "cell_type": "code",
      "source": [
        "class RegularPolygon:\n",
        "  def __init__(self, side):\n",
        "    self._side = side\n",
        "\n",
        "class Square(RegularPolygon):\n",
        "  def area (self):\n",
        "    return self._side * self._side\n",
        "\n",
        "class EquilateralTraingle (RegularPolygon):\n",
        "  def area (self):\n",
        "    return self._side * self._side * 0.433\n",
        "\n",
        "obj1 = Square(4)\n",
        "obj2 = EquilateralTraingle(3)\n",
        "\n",
        "print(obj1.area())\n",
        "print(obj2.area())"
      ],
      "metadata": {
        "colab": {
          "base_uri": "https://localhost:8080/"
        },
        "id": "Y9d4ZktHL4Q_",
        "outputId": "1ae51c78-8868-4dbf-a259-cb63ae74bdb2"
      },
      "execution_count": 19,
      "outputs": [
        {
          "output_type": "stream",
          "name": "stdout",
          "text": [
            "16\n",
            "3.897\n"
          ]
        }
      ]
    },
    {
      "cell_type": "markdown",
      "source": [
        "**Supplementary Activity**"
      ],
      "metadata": {
        "id": "I6e3gbyqQ_QW"
      }
    },
    {
      "cell_type": "code",
      "source": [
        "\n",
        "class RegularPolygon:\n",
        "  def __init__(self, side):\n",
        "    self._side = side\n",
        "\n",
        "class twoinputs: #I added this class so I can input two different sides\n",
        "  def __init__(self, side1, side2):\n",
        "    self._side1 = side1\n",
        "    self._side2 = side2\n",
        "\n",
        "class Square(RegularPolygon):\n",
        "  def area (self):\n",
        "    return self._side * self._side\n",
        "\n",
        "class EquilateralTraingle (RegularPolygon):\n",
        "  def area (self):\n",
        "    return self._side * self._side * 0.433\n",
        "\n",
        "#Solves for parallelogram\n",
        "\n",
        "class Parallelogram (twoinputs):\n",
        "  def area (self):\n",
        "    return self._side1 * self._side2\n",
        "\n",
        "#solves for Rectangle\n",
        "\n",
        "class Rectangle (twoinputs):\n",
        "  def area (self):\n",
        "    return self._side1 * self._side2\n",
        "\n",
        "#Solves for Right Triangle\n",
        "\n",
        "class RightTriangle (twoinputs):\n",
        "  def area (self):\n",
        "    return 0.5 * (self._side1 * self._side2)\n",
        "\n",
        "obj1 = Square(4)\n",
        "obj2 = EquilateralTraingle(3)\n",
        "print(f\"Square: {obj1.area()}\")\n",
        "print(f\"Equilateral Triangle: {obj2.area()}\")\n",
        "\n",
        "# Asks for the measurement of each sides\n",
        "b, h = input(\"Parallelogram - Give me the base and height: \").split()\n",
        "b, h = [int(b), int(h)] #I did this to make it an integer\n",
        "obj3 = Parallelogram(b, h)\n",
        "\n",
        "print(f\"= {obj3.area()}\")\n",
        "\n",
        "l, w = input(\"Rectangle - Give me the length and width: \").split()\n",
        "l, w = [int(l), int(w)]\n",
        "obj4 = Rectangle(l, w)\n",
        "\n",
        "print(f\"= {obj4.area()}\")\n",
        "\n",
        "a, o = input(\"Right Triangle - Give me the Adjacent and Opposite side: \").split()\n",
        "a, o = [int(a), int(o)]\n",
        "obj5 = RightTriangle(a, o)\n",
        "\n",
        "print(f\"= {obj5.area()}\")\n",
        "\n"
      ],
      "metadata": {
        "colab": {
          "base_uri": "https://localhost:8080/"
        },
        "id": "qsD4NfYEQ_Cf",
        "outputId": "26cffc89-99e7-4b22-e756-d0ab850a83b7"
      },
      "execution_count": 31,
      "outputs": [
        {
          "output_type": "stream",
          "name": "stdout",
          "text": [
            "Square: 16\n",
            "Equilateral Triangle: 3.897\n",
            "Parallelogram - Give me the base and height: 7 8\n",
            "= 56\n",
            "Rectangle - Give me the length and width: 5 6\n",
            "= 30\n",
            "Right Triangle - Give me the Adjacent and Opposite side: 4 3\n",
            "= 6.0\n"
          ]
        }
      ]
    }
  ]
}