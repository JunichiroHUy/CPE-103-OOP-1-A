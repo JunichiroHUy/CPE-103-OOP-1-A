{
  "nbformat": 4,
  "nbformat_minor": 0,
  "metadata": {
    "colab": {
      "provenance": [],
      "authorship_tag": "ABX9TyPWQSL8BEWCeH5zpfa4dwWD",
      "include_colab_link": true
    },
    "kernelspec": {
      "name": "python3",
      "display_name": "Python 3"
    },
    "language_info": {
      "name": "python"
    }
  },
  "cells": [
    {
      "cell_type": "markdown",
      "metadata": {
        "id": "view-in-github",
        "colab_type": "text"
      },
      "source": [
        "<a href=\"https://colab.research.google.com/github/JunichiroHUy/CPE-103-OOP-1-A/blob/main/lab_2_2.ipynb\" target=\"_parent\"><img src=\"https://colab.research.google.com/assets/colab-badge.svg\" alt=\"Open In Colab\"/></a>"
      ]
    },
    {
      "cell_type": "markdown",
      "source": [
        "FINAL GRADE CALCULATOR"
      ],
      "metadata": {
        "id": "arD-5u66h3rC"
      }
    },
    {
      "cell_type": "code",
      "execution_count": 28,
      "metadata": {
        "colab": {
          "base_uri": "https://localhost:8080/"
        },
        "id": "Kon2Cb7lh09h",
        "outputId": "32acc238-0036-4b85-ae20-74c23c071c48"
      },
      "outputs": [
        {
          "output_type": "stream",
          "name": "stdout",
          "text": [
            "Enter the student's name: Uy\n",
            "\n",
            "\n",
            "Enter the student's Prelim first:\n",
            "Prelim Exam score (out of 100): 99\n",
            "Hands-on Activities score (out of 100): 99\n",
            "Quiz score (out of 100): 99\n",
            "Assignment score (out of 100): 99\n",
            "Calculating Uy's Prelim Grade...\n",
            "\n",
            "\n",
            "Enter the student's Midterm:\n",
            "Midterm Exam score (out of 100): 99\n",
            "Hands-on Activities score (out of 100): 99\n",
            "Quiz score (out of 100): 99\n",
            "Assignment score (out of 100): 99\n",
            "Calculating Uy's Midterm Grade...\n",
            "\n",
            "\n",
            "Enter the student's Final:\n",
            "Final Exam score (out of 100): 99\n",
            "Hands-on Activities score (out of 100): 99\n",
            "Quiz score (out of 100): 99\n",
            "Assignment score (out of 100): 99\n",
            "\n",
            "\n",
            "Results: Uy's Prelim grade is 99.00, Midterm grade is 99.00, and Final grade is 97.33.\n"
          ]
        }
      ],
      "source": [
        "name1 = input(\"Enter the student's name: \")\n",
        "print(\"\\n\")\n",
        "\n",
        "print(\"Enter the student's Prelim first:\") #asks for Prelim details\n",
        "prelim_exam = float(input(\"Prelim Exam score (out of 100): \"))\n",
        "prelim_hoa = float(input(\"Hands-on Activities score (out of 100): \"))\n",
        "prelim_quiz = float(input(\"Quiz score (out of 100): \"))\n",
        "prelim_assignment = float(input(\"Assignment score (out of 100): \"))\n",
        "prelim_cs = 0.5 * prelim_hoa + 0.3 * prelim_quiz + 0.2 * prelim_assignment\n",
        "prelim_grade = 0.5 * prelim_exam + 0.5 * prelim_cs\n",
        "print(f\"Calculating {name1}'s Prelim Grade...\")\n",
        "print(\"\\n\")\n",
        "\n",
        "print(\"Enter the student's Midterm:\") #asks for Midterm details\n",
        "midterm_exam = float(input(\"Midterm Exam score (out of 100): \"))\n",
        "midterm_hoa = float(input(\"Hands-on Activities score (out of 100): \"))\n",
        "midterm_quiz = float(input(\"Quiz score (out of 100): \"))\n",
        "midterm_assignment = float(input(\"Assignment score (out of 100): \"))\n",
        "midterm_cs =(0.5 * midterm_hoa) + (0.3 * midterm_quiz) + (0.2 * midterm_assignment)\n",
        "midterm_combined = 0.5 * midterm_exam + 0.5 * midterm_cs\n",
        "midterm_grade = (1/3) * prelim_grade + (2/3) * midterm_combined\n",
        "print(f\"Calculating {name1}'s Midterm Grade...\")\n",
        "print(\"\\n\")\n",
        "\n",
        "print(\"Enter the student's Final:\") #asks for Final details\n",
        "final_exam = float(input(\"Final Exam score (out of 100): \"))\n",
        "final_hoa = float(input(\"Hands-on Activities score (out of 100): \"))\n",
        "final_quiz = float(input(\"Quiz score (out of 100): \"))\n",
        "final_assignment = float(input(\"Assignment score (out of 100): \"))\n",
        "final_cs = 0.5 * hoa_final + 0.3 * quiz_final + 0.2 * assignment_final\n",
        "final_combined = 0.5 * final_exam + 0.5 * final_cs\n",
        "final_grade = (1/3) * midterm_grade + (2/3) * final_combined\n",
        "print(\"\\n\")\n",
        "\n",
        "print(f\"Results: {name1}'s Prelim grade is {prelim_grade:.2f}, Midterm grade is {midterm_grade:.2f}, and Final grade is {final_grade:.2f}.\")"
      ]
    },
    {
      "cell_type": "code",
      "source": [
        "continue_asking = True\n",
        "while continue_asking: #To loop, so we can test 3 or more students\n",
        "  question = input(\"Do you want to calculate student's grade? (yes/no): \")\n",
        "\n",
        "  if question.lower() == \"yes\":\n",
        "    print(\"\\n\")\n",
        "    name1 = input(\"Enter the student's name: \")\n",
        "    print(\"\\n\")\n",
        "    print(\"Enter the student's Prelim first:\") #asks for Prelim details\n",
        "    print(\"------------------------------------------------------\\n\")\n",
        "    prelim_exam = float(input(\"Enter Prelim Exam score (out of 100): \"))\n",
        "    prelim_hoa = float(input(\"Enter average Hands-on Activities score (out of 100): \"))\n",
        "    prelim_quiz = float(input(\"Enter average Quiz score (out of 100): \"))\n",
        "    prelim_assignment = float(input(\"Enter average Assignment score (out of 100): \"))\n",
        "    prelim_cs = 0.5 * prelim_hoa + 0.3 * prelim_quiz + 0.2 * prelim_assignment\n",
        "    prelim_grade = 0.5 * prelim_exam + 0.5 * prelim_cs\n",
        "    print(f\"Calculating {name1}'s Prelim Grade...\")\n",
        "    print(\"\\n\")\n",
        "\n",
        "    print(\"Enter the student's Midterm:\") #asks for Midterm details\n",
        "    print(\"------------------------------------------------------\\n\")\n",
        "    midterm_exam = float(input(\"Enter Midterm Exam score (out of 100): \"))\n",
        "    midterm_hoa = float(input(\"Enter average Hands-on Activities score (out of 100): \"))\n",
        "    midterm_quiz = float(input(\"Enter average Quiz score (out of 100): \"))\n",
        "    midterm_assignment = float(input(\"Enter average Assignment score (out of 100): \"))\n",
        "    midterm_cs =(0.5 * midterm_hoa) + (0.3 * midterm_quiz) + (0.2 * midterm_assignment)\n",
        "    midterm_combined = 0.5 * midterm_exam + 0.5 * midterm_cs\n",
        "    midterm_grade = (1/3) * prelim_grade + (2/3) * midterm_combined\n",
        "    print(f\"Calculating {name1}'s Midterm Grade...\")\n",
        "    print(\"\\n\")\n",
        "\n",
        "    print(\"Enter the student's Final:\") #asks for Final details\n",
        "    print(\"------------------------------------------------------\\n\")\n",
        "    final_exam = float(input(\"Enter Final Exam score (out of 100): \"))\n",
        "    final_hoa = float(input(\"Enter average Hands-on Activities score (out of 100): \"))\n",
        "    final_quiz = float(input(\"Enter average Quiz score (out of 100): \"))\n",
        "    final_assignment = float(input(\"Enter average Assignment score (out of 100): \"))\n",
        "    final_cs = 0.5 * hoa_final + 0.3 * quiz_final + 0.2 * assignment_final\n",
        "    final_combined = 0.5 * final_exam + 0.5 * final_cs\n",
        "    final_grade = (1/3) * midterm_grade + (2/3) * final_combined\n",
        "    print(\"\\n\")\n",
        "    print(f\"Results: {name1}'s Prelim grade is {prelim_grade:.2f}, Midterm grade is {midterm_grade:.2f}, and Final grade is {final_grade:.2f}.\")\n",
        "    print(\"------------------------------------------------------\\n\")\n",
        "    print(\"Convert the final grade into UCC letter grade:\")\n",
        "    if 97 <= final_grade <= 100:\n",
        "      print(f\"{name1}'s grade is 1:00\")\n",
        "    elif 93 <= final_grade <= 97:\n",
        "      print(f\"{name1}'s grade is 1:25\")\n",
        "    elif 90 <= final_grade <= 93:\n",
        "      print(f\"{name1}'s grade is 1:50\")\n",
        "  else:\n",
        "    print(\"Thank you for using the program!\")\n",
        "    break"
      ],
      "metadata": {
        "colab": {
          "base_uri": "https://localhost:8080/",
          "height": 356
        },
        "collapsed": true,
        "id": "SNfHVyA3DdPc",
        "outputId": "a68b5c9f-0a2a-4a60-eab5-94f530ffb74e"
      },
      "execution_count": 72,
      "outputs": [
        {
          "output_type": "error",
          "ename": "KeyboardInterrupt",
          "evalue": "Interrupted by user",
          "traceback": [
            "\u001b[0;31m---------------------------------------------------------------------------\u001b[0m",
            "\u001b[0;31mKeyboardInterrupt\u001b[0m                         Traceback (most recent call last)",
            "\u001b[0;32m<ipython-input-72-985b3c2b617d>\u001b[0m in \u001b[0;36m<cell line: 0>\u001b[0;34m()\u001b[0m\n\u001b[1;32m      1\u001b[0m \u001b[0mcontinue_asking\u001b[0m \u001b[0;34m=\u001b[0m \u001b[0;32mTrue\u001b[0m\u001b[0;34m\u001b[0m\u001b[0;34m\u001b[0m\u001b[0m\n\u001b[1;32m      2\u001b[0m \u001b[0;32mwhile\u001b[0m \u001b[0mcontinue_asking\u001b[0m\u001b[0;34m:\u001b[0m \u001b[0;31m#To loop, so we can test 3 or more students\u001b[0m\u001b[0;34m\u001b[0m\u001b[0;34m\u001b[0m\u001b[0m\n\u001b[0;32m----> 3\u001b[0;31m   \u001b[0mquestion\u001b[0m \u001b[0;34m=\u001b[0m \u001b[0minput\u001b[0m\u001b[0;34m(\u001b[0m\u001b[0;34m\"Do you want to calculate student's grade? (yes/no): \"\u001b[0m\u001b[0;34m)\u001b[0m\u001b[0;34m\u001b[0m\u001b[0;34m\u001b[0m\u001b[0m\n\u001b[0m\u001b[1;32m      4\u001b[0m \u001b[0;34m\u001b[0m\u001b[0m\n\u001b[1;32m      5\u001b[0m   \u001b[0;32mif\u001b[0m \u001b[0mquestion\u001b[0m\u001b[0;34m.\u001b[0m\u001b[0mlower\u001b[0m\u001b[0;34m(\u001b[0m\u001b[0;34m)\u001b[0m \u001b[0;34m==\u001b[0m \u001b[0;34m\"yes\"\u001b[0m\u001b[0;34m:\u001b[0m\u001b[0;34m\u001b[0m\u001b[0;34m\u001b[0m\u001b[0m\n",
            "\u001b[0;32m/usr/local/lib/python3.11/dist-packages/ipykernel/kernelbase.py\u001b[0m in \u001b[0;36mraw_input\u001b[0;34m(self, prompt)\u001b[0m\n\u001b[1;32m    849\u001b[0m                 \u001b[0;34m\"raw_input was called, but this frontend does not support input requests.\"\u001b[0m\u001b[0;34m\u001b[0m\u001b[0;34m\u001b[0m\u001b[0m\n\u001b[1;32m    850\u001b[0m             )\n\u001b[0;32m--> 851\u001b[0;31m         return self._input_request(str(prompt),\n\u001b[0m\u001b[1;32m    852\u001b[0m             \u001b[0mself\u001b[0m\u001b[0;34m.\u001b[0m\u001b[0m_parent_ident\u001b[0m\u001b[0;34m,\u001b[0m\u001b[0;34m\u001b[0m\u001b[0;34m\u001b[0m\u001b[0m\n\u001b[1;32m    853\u001b[0m             \u001b[0mself\u001b[0m\u001b[0;34m.\u001b[0m\u001b[0m_parent_header\u001b[0m\u001b[0;34m,\u001b[0m\u001b[0;34m\u001b[0m\u001b[0;34m\u001b[0m\u001b[0m\n",
            "\u001b[0;32m/usr/local/lib/python3.11/dist-packages/ipykernel/kernelbase.py\u001b[0m in \u001b[0;36m_input_request\u001b[0;34m(self, prompt, ident, parent, password)\u001b[0m\n\u001b[1;32m    893\u001b[0m             \u001b[0;32mexcept\u001b[0m \u001b[0mKeyboardInterrupt\u001b[0m\u001b[0;34m:\u001b[0m\u001b[0;34m\u001b[0m\u001b[0;34m\u001b[0m\u001b[0m\n\u001b[1;32m    894\u001b[0m                 \u001b[0;31m# re-raise KeyboardInterrupt, to truncate traceback\u001b[0m\u001b[0;34m\u001b[0m\u001b[0;34m\u001b[0m\u001b[0m\n\u001b[0;32m--> 895\u001b[0;31m                 \u001b[0;32mraise\u001b[0m \u001b[0mKeyboardInterrupt\u001b[0m\u001b[0;34m(\u001b[0m\u001b[0;34m\"Interrupted by user\"\u001b[0m\u001b[0;34m)\u001b[0m \u001b[0;32mfrom\u001b[0m \u001b[0;32mNone\u001b[0m\u001b[0;34m\u001b[0m\u001b[0;34m\u001b[0m\u001b[0m\n\u001b[0m\u001b[1;32m    896\u001b[0m             \u001b[0;32mexcept\u001b[0m \u001b[0mException\u001b[0m \u001b[0;32mas\u001b[0m \u001b[0me\u001b[0m\u001b[0;34m:\u001b[0m\u001b[0;34m\u001b[0m\u001b[0;34m\u001b[0m\u001b[0m\n\u001b[1;32m    897\u001b[0m                 \u001b[0mself\u001b[0m\u001b[0;34m.\u001b[0m\u001b[0mlog\u001b[0m\u001b[0;34m.\u001b[0m\u001b[0mwarning\u001b[0m\u001b[0;34m(\u001b[0m\u001b[0;34m\"Invalid Message:\"\u001b[0m\u001b[0;34m,\u001b[0m \u001b[0mexc_info\u001b[0m\u001b[0;34m=\u001b[0m\u001b[0;32mTrue\u001b[0m\u001b[0;34m)\u001b[0m\u001b[0;34m\u001b[0m\u001b[0;34m\u001b[0m\u001b[0m\n",
            "\u001b[0;31mKeyboardInterrupt\u001b[0m: Interrupted by user"
          ]
        }
      ]
    },
    {
      "cell_type": "code",
      "source": [
        "final_grade = float(96.9)\n",
        "name1 = \"Chiro\"\n",
        "if 97 <= final_grade <= 100:\n",
        "      print(f\"{name1}'s grade is 1:00\")\n",
        "elif 93 <= final_grade <= 96:\n",
        "      print(f\"{name1}'s grade is 1:25\")\n",
        "elif 89 <= final_grade <= 92:\n",
        "      print(f\"{name1}'s grade is 1:50\")\n",
        "elif 85 <= final_grade <= 88:\n",
        "      print(f\"{name1}'s grade is 1.75\")\n",
        "elif 82 <= final_grade <= 84:\n",
        "      print(f\"{name1}'s grade is 2:00\")\n",
        "elif 79 <= final_grade <= 81:\n",
        "      print(f\"{name1}'s grade is 2:25\")\n",
        "elif 76 <= final_grade <= 78:\n",
        "      print(f\"{name1}'s grade is 2:50\")\n",
        "elif 73 <= final_grade <= 75:\n",
        "      print(f\"{name1}'s grade is 2.75\")\n",
        "elif 70 <= final_grade <= 72:\n",
        "      print(f\"{name1}'s grade is 3:00\")\n",
        "else:\n",
        "      print(f\"{name1}'s grade is 5:00\")\n"
      ],
      "metadata": {
        "colab": {
          "base_uri": "https://localhost:8080/"
        },
        "id": "tx-hZlnhckhB",
        "outputId": "43e55b9f-3311-4758-faeb-f831447020b4"
      },
      "execution_count": 84,
      "outputs": [
        {
          "output_type": "stream",
          "name": "stdout",
          "text": [
            "Chiro's grade is 5:00\n"
          ]
        }
      ]
    }
  ]
}