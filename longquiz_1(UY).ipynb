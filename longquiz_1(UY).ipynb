{
  "nbformat": 4,
  "nbformat_minor": 0,
  "metadata": {
    "colab": {
      "provenance": [],
      "authorship_tag": "ABX9TyN4svgAFzIhkjyFrCq0D7TV",
      "include_colab_link": true
    },
    "kernelspec": {
      "name": "python3",
      "display_name": "Python 3"
    },
    "language_info": {
      "name": "python"
    }
  },
  "cells": [
    {
      "cell_type": "markdown",
      "metadata": {
        "id": "view-in-github",
        "colab_type": "text"
      },
      "source": [
        "<a href=\"https://colab.research.google.com/github/JunichiroHUy/CPE-103-OOP-1-A/blob/main/longquiz_1(UY).ipynb\" target=\"_parent\"><img src=\"https://colab.research.google.com/assets/colab-badge.svg\" alt=\"Open In Colab\"/></a>"
      ]
    },
    {
      "cell_type": "code",
      "execution_count": 81,
      "metadata": {
        "id": "mRJ6e112L89c"
      },
      "outputs": [],
      "source": [
        "class tao():\n",
        "  def __init__(self, name, id, program, gender, weight, height):\n",
        "    self.name = name\n",
        "    self.id = id\n",
        "    self.program = program\n",
        "    self.gender = gender\n",
        "    self.weight = weight\n",
        "    self.height = height\n",
        "\n",
        "  def about(self):\n",
        "    print(f\"Name: {self.name}\\nID: {self.id}\\nProgram: {self.program}\\nGender: {self.gender}\\nWeight: {self.weight}\\nHeight: {self.height}\")\n",
        "\n",
        "class grade():\n",
        "  def __init__(self, prelim_exam, prelim_sw, prelim_quiz, prelim_assignment, midterm_exam, midterm_sw, midterm_quiz, midterm_assignment, final_exam, final_sw, final_quiz, final_assignment):\n",
        "    self.prelim_assignment = prelim_assignment\n",
        "    self.prelim_exam = prelim_exam\n",
        "    self.prelim_quiz = prelim_quiz\n",
        "    self.prelim_sw = prelim_sw\n",
        "    self.midterm_assignment = midterm_assignment\n",
        "    self.midterm_exam = midterm_exam\n",
        "    self.midterm_quiz = midterm_quiz\n",
        "    self.midterm_sw = midterm_sw\n",
        "    self.final_assignment = final_assignment\n",
        "    self.final_exam = final_exam\n",
        "    self.final_quiz = final_quiz\n",
        "    self.final_sw = final_sw\n",
        "\n",
        "  def mid_compute(self):\n",
        "    self.midterm_cs = 0.5 * self.midterm_sw + 0.3 * self.midterm_quiz + 0.2 * self.midterm_assignment\n",
        "    self.midterm_combined = 0.5 * self.midterm_exam + 0.5 * self.midterm_cs\n",
        "    self.midterm_grade = (1/3) * self.prelim_grade + (2/3) * self.midterm_combined\n",
        "\n",
        "  def final_compute(self):\n",
        "    self.final_cs = 0.5 * self.final_sw + 0.3 * self.final_quiz + 0.2 * self.final_assignment\n",
        "    self.final_combined = 0.5 * self.final_exam + 0.5 * self.final_cs\n",
        "    self.final_grade = (1/3) * self.midterm_grade + (2/3) * self.final_combined\n"
      ]
    },
    {
      "cell_type": "markdown",
      "source": [
        "**Ana**"
      ],
      "metadata": {
        "id": "FgZ_ngclVxCX"
      }
    },
    {
      "cell_type": "code",
      "source": [
        "class student1(tao, grade):\n",
        "  def __init__(self, name, id, program, gender, weight, height, prelim_exam, prelim_sw, prelim_quiz, prelim_assignment, midterm_exam, midterm_sw, midterm_quiz, midterm_assignment, final_exam, final_sw, final_quiz, final_assignment):\n",
        "    self.__name(\"Ana\")\n",
        "    self.__id(\"20240050\")\n",
        "    self.__program(\"CPE103\")\n",
        "    self.__gender(\"Female\")\n",
        "    self.__weight(55)\n",
        "    self.__height(160)\n",
        "    self.prelim_exam(80)\n",
        "    self.prelim_sw(90)\n",
        "    self.prelim_quiz(90)\n",
        "    self.prelim_assignment(90)\n",
        "    self.midterm_exam(90)\n",
        "    self.midterm_sw(90)\n",
        "    self.midterm_quiz(90)\n",
        "    self.midterm_assignment(90)\n",
        "    self.final_exam(90)\n",
        "    self.final_sw(90)\n",
        "    self.final_quiz(90)\n",
        "    self.final_assignment(90)\n",
        "\n",
        "  def info(self):\n",
        "    print(f\"Name: {self.name}\\nID: {self.id}\\nProgram: {self.program}\\nGender: {self.gender}\\nWeight: {self.weight}\\nHeight: {self.height}\")\n",
        "\n",
        "  def grade_display(self):\n",
        "    print(f\"Prelim Grade: {self.prelim_grade}\\nMidterm Grade: {self.midterm_grade}\\nFinal Grade: {self.final_grade}\")\n",
        "\n"
      ],
      "metadata": {
        "id": "mgp7Ux4uPTw_"
      },
      "execution_count": 82,
      "outputs": []
    },
    {
      "cell_type": "code",
      "source": [
        "class student2(tao, grade):\n",
        "  def __init__(self, name, id, program, gender, weight, height, prelim_exam, prelim_sw, prelim_quiz, prelim_assignment, midterm_exam, midterm_sw, midterm_quiz, midterm_assignment, final_exam, final_sw, final_quiz, final_assignment):\n",
        "    self.__name(\"Mench\")\n",
        "    self.__id(\"20240051\")\n",
        "    self.__program(\"CPE103\")\n",
        "    self.__gender(\"Male\")\n",
        "    self.__weight(76)\n",
        "    self.__height(177)\n",
        "    self.prelim_exam(90)\n",
        "    self.prelim_sw(100)\n",
        "    self.prelim_quiz(90)\n",
        "    self.prelim_assignment(90)\n",
        "    self.midterm_exam(90)\n",
        "    self.midterm_sw(90)\n",
        "    self.midterm_quiz(89)\n",
        "    self.midterm_assignment(90)\n",
        "    self.final_exam(90)\n",
        "    self.final_sw(99)\n",
        "    self.final_quiz(90)\n",
        "    self.final_assignment(90)\n",
        "\n",
        "  def info(self):\n",
        "    print(f\"Name: {self.name}\\nID: {self.id}\\nProgram: {self.program}\\nGender: {self.gender}\\nWeight: {self.weight}\\nHeight: {self.height}\")\n",
        "\n",
        "  def grade_display(self):\n",
        "    print(f\"Prelim Grade: {self.prelim_grade}\\nMidterm Grade: {self.midterm_grade}\\nFinal Grade: {self.final_grade}\")"
      ],
      "metadata": {
        "id": "K9en7YEqWFx3"
      },
      "execution_count": 83,
      "outputs": []
    },
    {
      "cell_type": "code",
      "source": [
        "class student3(tao, grade):\n",
        "  def __init__(self, name, id, program, gender, weight, height, prelim_exam, prelim_sw, prelim_quiz, prelim_assignment, midterm_exam, midterm_sw, midterm_quiz, midterm_assignment, final_exam, final_sw, final_quiz, final_assignment):\n",
        "    self.__name(\"John\")\n",
        "    self.__id(\"20240052\")\n",
        "    self.__program(\"CPE103\")\n",
        "    self.__gender(\"Male\")\n",
        "    self.__weight(80)\n",
        "    self.__height(177)\n",
        "    self.prelim_exam(100)\n",
        "    self.prelim_sw(100)\n",
        "    self.prelim_quiz(100)\n",
        "    self.prelim_assignment(90)\n",
        "    self.midterm_exam(90)\n",
        "    self.midterm_sw(90)\n",
        "    self.midterm_quiz(89)\n",
        "    self.midterm_assignment(90)\n",
        "    self.final_exam(90)\n",
        "    self.final_sw(100)\n",
        "    self.final_quiz(90)\n",
        "    self.final_assignment(90)\n",
        "\n",
        "  def info(self):\n",
        "    print(f\"Name: {self.name}\\nID: {self.id}\\nProgram: {self.program}\\nGender: {self.gender}\\nWeight: {self.weight}\\nHeight: {self.height}\")\n",
        "\n",
        "  def grade_display(self):\n",
        "    print(f\"Prelim Grade: {self.prelim_grade}\\nMidterm Grade: {self.midterm_grade}\\nFinal Grade: {self.final_grade}\")"
      ],
      "metadata": {
        "id": "v6Y8J4jeY10O"
      },
      "execution_count": 84,
      "outputs": []
    },
    {
      "cell_type": "code",
      "source": [
        "loop = True\n",
        "\n",
        "while loop:\n",
        "  question = input(\"Enter student name: \")\n",
        "  if question == \"Ana\":\n",
        "    setProgram = input(\"Enroll Ana in CPE103?: \")\n",
        "    if setProgram == \"Yes\":\n",
        "      ana = student1(\"Ana\", \"20240050\", \"CPE103\", \"Female\", 55, 160, 80, 90, 90, 90, 90, 90, 90, 90, 90, 90, 90, 90)\n",
        "      print(ana.info())\n",
        "      print(student1.grade_display())\n",
        "  elif question == \"Mench\":\n",
        "    setProgram = input(\"Enroll Mench in CPE103?: \")\n",
        "    if setProgram == \"Yes\":\n",
        "      mench = student2(\"Mench\", \"20240051\", \"CPE103\", \"Male\", 76, 177, 90, 100, 90, 90, 90, 90, 89, 90, 90, 99, 90, 90)\n",
        "      print(mench.info())\n",
        "      print(student2.grade_display())\n",
        "  elif question == \"John\":\n",
        "    setProgram = input(\"Enroll John in CPE103?: \")\n",
        "    if setProgram == \"Yes\":\n",
        "      john = student3(\"John\", \"20240052\", \"CPE103\", \"Male\", 80, 177, 100, 100, 100, 90, 90, 90, 89, 90, 90, 100, 90, 90)\n",
        "      print(john.info())\n",
        "      print(student3.grade_display())\n",
        "  else:\n",
        "    print(\"Student not found\")"
      ],
      "metadata": {
        "colab": {
          "base_uri": "https://localhost:8080/",
          "height": 421
        },
        "id": "c5JoR-vsWn-H",
        "outputId": "0f69ae7a-ff45-4e9a-8ddc-f91d59a962f9"
      },
      "execution_count": 85,
      "outputs": [
        {
          "name": "stdout",
          "output_type": "stream",
          "text": [
            "Enter student name: Ana\n",
            "Enroll Ana in CPE103?: Yes\n"
          ]
        },
        {
          "output_type": "error",
          "ename": "AttributeError",
          "evalue": "'student1' object has no attribute '_student1__name'",
          "traceback": [
            "\u001b[0;31m---------------------------------------------------------------------------\u001b[0m",
            "\u001b[0;31mAttributeError\u001b[0m                            Traceback (most recent call last)",
            "\u001b[0;32m<ipython-input-85-0fe8f86bef85>\u001b[0m in \u001b[0;36m<cell line: 0>\u001b[0;34m()\u001b[0m\n\u001b[1;32m      6\u001b[0m     \u001b[0msetProgram\u001b[0m \u001b[0;34m=\u001b[0m \u001b[0minput\u001b[0m\u001b[0;34m(\u001b[0m\u001b[0;34m\"Enroll Ana in CPE103?: \"\u001b[0m\u001b[0;34m)\u001b[0m\u001b[0;34m\u001b[0m\u001b[0;34m\u001b[0m\u001b[0m\n\u001b[1;32m      7\u001b[0m     \u001b[0;32mif\u001b[0m \u001b[0msetProgram\u001b[0m \u001b[0;34m==\u001b[0m \u001b[0;34m\"Yes\"\u001b[0m\u001b[0;34m:\u001b[0m\u001b[0;34m\u001b[0m\u001b[0;34m\u001b[0m\u001b[0m\n\u001b[0;32m----> 8\u001b[0;31m       \u001b[0mana\u001b[0m \u001b[0;34m=\u001b[0m \u001b[0mstudent1\u001b[0m\u001b[0;34m(\u001b[0m\u001b[0;34m\"Ana\"\u001b[0m\u001b[0;34m,\u001b[0m \u001b[0;34m\"20240050\"\u001b[0m\u001b[0;34m,\u001b[0m \u001b[0;34m\"CPE103\"\u001b[0m\u001b[0;34m,\u001b[0m \u001b[0;34m\"Female\"\u001b[0m\u001b[0;34m,\u001b[0m \u001b[0;36m55\u001b[0m\u001b[0;34m,\u001b[0m \u001b[0;36m160\u001b[0m\u001b[0;34m,\u001b[0m \u001b[0;36m80\u001b[0m\u001b[0;34m,\u001b[0m \u001b[0;36m90\u001b[0m\u001b[0;34m,\u001b[0m \u001b[0;36m90\u001b[0m\u001b[0;34m,\u001b[0m \u001b[0;36m90\u001b[0m\u001b[0;34m,\u001b[0m \u001b[0;36m90\u001b[0m\u001b[0;34m,\u001b[0m \u001b[0;36m90\u001b[0m\u001b[0;34m,\u001b[0m \u001b[0;36m90\u001b[0m\u001b[0;34m,\u001b[0m \u001b[0;36m90\u001b[0m\u001b[0;34m,\u001b[0m \u001b[0;36m90\u001b[0m\u001b[0;34m,\u001b[0m \u001b[0;36m90\u001b[0m\u001b[0;34m,\u001b[0m \u001b[0;36m90\u001b[0m\u001b[0;34m,\u001b[0m \u001b[0;36m90\u001b[0m\u001b[0;34m)\u001b[0m\u001b[0;34m\u001b[0m\u001b[0;34m\u001b[0m\u001b[0m\n\u001b[0m\u001b[1;32m      9\u001b[0m       \u001b[0mprint\u001b[0m\u001b[0;34m(\u001b[0m\u001b[0mana\u001b[0m\u001b[0;34m.\u001b[0m\u001b[0minfo\u001b[0m\u001b[0;34m(\u001b[0m\u001b[0;34m)\u001b[0m\u001b[0;34m)\u001b[0m\u001b[0;34m\u001b[0m\u001b[0;34m\u001b[0m\u001b[0m\n\u001b[1;32m     10\u001b[0m       \u001b[0mprint\u001b[0m\u001b[0;34m(\u001b[0m\u001b[0mstudent1\u001b[0m\u001b[0;34m.\u001b[0m\u001b[0mgrade_display\u001b[0m\u001b[0;34m(\u001b[0m\u001b[0;34m)\u001b[0m\u001b[0;34m)\u001b[0m\u001b[0;34m\u001b[0m\u001b[0;34m\u001b[0m\u001b[0m\n",
            "\u001b[0;32m<ipython-input-82-5112709396f1>\u001b[0m in \u001b[0;36m__init__\u001b[0;34m(self, name, id, program, gender, weight, height, prelim_exam, prelim_sw, prelim_quiz, prelim_assignment, midterm_exam, midterm_sw, midterm_quiz, midterm_assignment, final_exam, final_sw, final_quiz, final_assignment)\u001b[0m\n\u001b[1;32m      1\u001b[0m \u001b[0;32mclass\u001b[0m \u001b[0mstudent1\u001b[0m\u001b[0;34m(\u001b[0m\u001b[0mtao\u001b[0m\u001b[0;34m,\u001b[0m \u001b[0mgrade\u001b[0m\u001b[0;34m)\u001b[0m\u001b[0;34m:\u001b[0m\u001b[0;34m\u001b[0m\u001b[0;34m\u001b[0m\u001b[0m\n\u001b[1;32m      2\u001b[0m   \u001b[0;32mdef\u001b[0m \u001b[0m__init__\u001b[0m\u001b[0;34m(\u001b[0m\u001b[0mself\u001b[0m\u001b[0;34m,\u001b[0m \u001b[0mname\u001b[0m\u001b[0;34m,\u001b[0m \u001b[0mid\u001b[0m\u001b[0;34m,\u001b[0m \u001b[0mprogram\u001b[0m\u001b[0;34m,\u001b[0m \u001b[0mgender\u001b[0m\u001b[0;34m,\u001b[0m \u001b[0mweight\u001b[0m\u001b[0;34m,\u001b[0m \u001b[0mheight\u001b[0m\u001b[0;34m,\u001b[0m \u001b[0mprelim_exam\u001b[0m\u001b[0;34m,\u001b[0m \u001b[0mprelim_sw\u001b[0m\u001b[0;34m,\u001b[0m \u001b[0mprelim_quiz\u001b[0m\u001b[0;34m,\u001b[0m \u001b[0mprelim_assignment\u001b[0m\u001b[0;34m,\u001b[0m \u001b[0mmidterm_exam\u001b[0m\u001b[0;34m,\u001b[0m \u001b[0mmidterm_sw\u001b[0m\u001b[0;34m,\u001b[0m \u001b[0mmidterm_quiz\u001b[0m\u001b[0;34m,\u001b[0m \u001b[0mmidterm_assignment\u001b[0m\u001b[0;34m,\u001b[0m \u001b[0mfinal_exam\u001b[0m\u001b[0;34m,\u001b[0m \u001b[0mfinal_sw\u001b[0m\u001b[0;34m,\u001b[0m \u001b[0mfinal_quiz\u001b[0m\u001b[0;34m,\u001b[0m \u001b[0mfinal_assignment\u001b[0m\u001b[0;34m)\u001b[0m\u001b[0;34m:\u001b[0m\u001b[0;34m\u001b[0m\u001b[0;34m\u001b[0m\u001b[0m\n\u001b[0;32m----> 3\u001b[0;31m     \u001b[0mself\u001b[0m\u001b[0;34m.\u001b[0m\u001b[0m__name\u001b[0m\u001b[0;34m(\u001b[0m\u001b[0;34m\"Ana\"\u001b[0m\u001b[0;34m)\u001b[0m\u001b[0;34m\u001b[0m\u001b[0;34m\u001b[0m\u001b[0m\n\u001b[0m\u001b[1;32m      4\u001b[0m     \u001b[0mself\u001b[0m\u001b[0;34m.\u001b[0m\u001b[0m__id\u001b[0m\u001b[0;34m(\u001b[0m\u001b[0;34m\"20240050\"\u001b[0m\u001b[0;34m)\u001b[0m\u001b[0;34m\u001b[0m\u001b[0;34m\u001b[0m\u001b[0m\n\u001b[1;32m      5\u001b[0m     \u001b[0mself\u001b[0m\u001b[0;34m.\u001b[0m\u001b[0m__program\u001b[0m\u001b[0;34m(\u001b[0m\u001b[0;34m\"CPE103\"\u001b[0m\u001b[0;34m)\u001b[0m\u001b[0;34m\u001b[0m\u001b[0;34m\u001b[0m\u001b[0m\n",
            "\u001b[0;31mAttributeError\u001b[0m: 'student1' object has no attribute '_student1__name'"
          ]
        }
      ]
    }
  ]
}