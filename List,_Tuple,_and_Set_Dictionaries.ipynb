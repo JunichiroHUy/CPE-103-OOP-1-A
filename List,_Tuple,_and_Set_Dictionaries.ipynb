{
  "nbformat": 4,
  "nbformat_minor": 0,
  "metadata": {
    "colab": {
      "provenance": [],
      "authorship_tag": "ABX9TyP6XRRYq5vls+TIB7T5GkT4",
      "include_colab_link": true
    },
    "kernelspec": {
      "name": "python3",
      "display_name": "Python 3"
    },
    "language_info": {
      "name": "python"
    }
  },
  "cells": [
    {
      "cell_type": "markdown",
      "metadata": {
        "id": "view-in-github",
        "colab_type": "text"
      },
      "source": [
        "<a href=\"https://colab.research.google.com/github/JunichiroHUy/CPE-103-OOP-1-A/blob/main/List%2C_Tuple%2C_and_Set_Dictionaries.ipynb\" target=\"_parent\"><img src=\"https://colab.research.google.com/assets/colab-badge.svg\" alt=\"Open In Colab\"/></a>"
      ]
    },
    {
      "cell_type": "markdown",
      "source": [
        "Numbers"
      ],
      "metadata": {
        "id": "U8q4VXYTzcPA"
      }
    },
    {
      "cell_type": "code",
      "execution_count": null,
      "metadata": {
        "id": "6ntny8bGyW4Y"
      },
      "outputs": [],
      "source": [
        "varNum = 123\n",
        "pi = 3.14159"
      ]
    },
    {
      "cell_type": "markdown",
      "source": [
        "Strings"
      ],
      "metadata": {
        "id": "qkq5jnZy0a__"
      }
    },
    {
      "cell_type": "code",
      "source": [
        "varstring = \"Hellooooooo\""
      ],
      "metadata": {
        "id": "NaOtgq7C0cDG"
      },
      "execution_count": null,
      "outputs": []
    },
    {
      "cell_type": "markdown",
      "source": [
        "Lists"
      ],
      "metadata": {
        "id": "k7MMMIcB0m4m"
      }
    },
    {
      "cell_type": "code",
      "source": [
        "varlist = [\"abc\", 123]"
      ],
      "metadata": {
        "id": "WxzXheDG0oKW"
      },
      "execution_count": null,
      "outputs": []
    },
    {
      "cell_type": "markdown",
      "source": [
        "Tuples"
      ],
      "metadata": {
        "id": "YTVKew0G0ul-"
      }
    },
    {
      "cell_type": "code",
      "source": [
        "vartuple = {'abc', 123}"
      ],
      "metadata": {
        "id": "upKX2nV50wm_"
      },
      "execution_count": null,
      "outputs": []
    },
    {
      "cell_type": "code",
      "source": [
        "var = 3\n",
        "varDict = {'first':1, 2:'abc'}\n",
        "\n",
        "varDict[\"first\"] = 1"
      ],
      "metadata": {
        "id": "-60Q4n581Jvm"
      },
      "execution_count": 8,
      "outputs": []
    },
    {
      "cell_type": "markdown",
      "source": [
        "Arithmetic"
      ],
      "metadata": {
        "id": "sevnzs0S2Cbf"
      }
    },
    {
      "cell_type": "code",
      "source": [
        "a = 5 + 6\n",
        "b = 6 - 6\n",
        "c = 5 * 5\n",
        "d = 8 ** 7\n",
        "e = 5 / 3\n",
        "f = 5 % 3\n",
        "h = 5 // 3"
      ],
      "metadata": {
        "id": "9CKciB412DZe"
      },
      "execution_count": null,
      "outputs": []
    },
    {
      "cell_type": "code",
      "source": [
        "a = 5\n",
        "a += 1\n",
        "a-=1\n",
        "b = 'hi ' + 'friend!'\n",
        "c = 666 * 666 / 666\n"
      ],
      "metadata": {
        "id": "HuwdgogJ3gg_"
      },
      "execution_count": 5,
      "outputs": []
    },
    {
      "cell_type": "markdown",
      "source": [],
      "metadata": {
        "id": "vtHPEB3v4Yzu"
      }
    },
    {
      "cell_type": "code",
      "source": [
        "x = True\n",
        "\n",
        "if x == True:\n",
        "  print('yes')\n",
        "else:\n",
        "  print('no')\n",
        "\n",
        "string = 'I love you'\n",
        "if string == 'I love you':\n",
        "  print('yes')\n",
        "else:\n",
        "  print('no')\n",
        "\n",
        "numerical = 666\n",
        "if numerical == '666':\n",
        "  print('the number is a string')\n",
        "elif numerical == 666:\n",
        "  print('the number is a number')\n",
        "else:\n",
        "  print('the number is neither a string nor a number')"
      ],
      "metadata": {
        "colab": {
          "base_uri": "https://localhost:8080/"
        },
        "id": "BgbkAq664ZLf",
        "outputId": "42bedab7-e497-4abb-c1f9-baf6a6c79baa"
      },
      "execution_count": 6,
      "outputs": [
        {
          "output_type": "stream",
          "name": "stdout",
          "text": [
            "yes\n",
            "yes\n",
            "the number is a number\n"
          ]
        }
      ]
    },
    {
      "cell_type": "markdown",
      "source": [
        "loop"
      ],
      "metadata": {
        "id": "eItUS2My7Rgg"
      }
    },
    {
      "cell_type": "code",
      "source": [
        "for var in range(0, 5, 2):\n",
        "  print(var)\n",
        "print(\"\\n\")\n",
        "num1 = 0\n",
        "while num1 < 5:\n",
        "  print(num1)\n",
        "  num1 += 2\n",
        "\n",
        "num2 = 0\n",
        "while num2 < 5:\n",
        "  for y in range(0, num2):\n",
        "    print(y, end='')\n",
        "  num2 += 1\n",
        "  print()"
      ],
      "metadata": {
        "colab": {
          "base_uri": "https://localhost:8080/"
        },
        "id": "fjZRDc947Sm2",
        "outputId": "32e92c39-6ee3-4524-ea9b-c8f0795b1ce8"
      },
      "execution_count": 2,
      "outputs": [
        {
          "output_type": "stream",
          "name": "stdout",
          "text": [
            "0\n",
            "2\n",
            "4\n",
            "\n",
            "\n",
            "0\n",
            "2\n",
            "4\n",
            "\n",
            "0\n",
            "01\n",
            "012\n",
            "0123\n"
          ]
        }
      ]
    },
    {
      "cell_type": "markdown",
      "source": [
        "Functions"
      ],
      "metadata": {
        "id": "-bGTrtd28zSm"
      }
    },
    {
      "cell_type": "code",
      "source": [
        "def remainder(n, m):\n",
        "  while True:\n",
        "    if n - m < 0:\n",
        "      return n\n",
        "    else:\n",
        "      n = n - m\n",
        "\n",
        "remainder(10,4)\n"
      ],
      "metadata": {
        "colab": {
          "base_uri": "https://localhost:8080/"
        },
        "id": "TtCY2wbP8zhn",
        "outputId": "81323cef-2377-4300-d3de-50502b9703f0"
      },
      "execution_count": 8,
      "outputs": [
        {
          "output_type": "execute_result",
          "data": {
            "text/plain": [
              "2"
            ]
          },
          "metadata": {},
          "execution_count": 8
        }
      ]
    },
    {
      "cell_type": "markdown",
      "source": [
        "list"
      ],
      "metadata": {
        "id": "T9R_oU5q_iYO"
      }
    },
    {
      "cell_type": "code",
      "source": [
        "pi =3.14159\n",
        "varList = [1, 2, 'A', 'B', 'Hello!', pi]\n",
        "print(varList[0])\n",
        "print(varList[1])\n",
        "print(varList[2])\n",
        "print(varList[3])\n",
        "print(varList[4])\n",
        "\n",
        "varList.append('world')\n",
        "print(varList[6])\n",
        "\n",
        "len(varList)\n",
        "\n",
        "print(varList[5])\n",
        "\n",
        "varList.remove(pi)\n",
        "print(varList[5])\n"
      ],
      "metadata": {
        "colab": {
          "base_uri": "https://localhost:8080/"
        },
        "id": "XtgKF94x_j0e",
        "outputId": "7736ba4b-db55-40b4-d608-cf38d4dc0ce3"
      },
      "execution_count": 12,
      "outputs": [
        {
          "output_type": "stream",
          "name": "stdout",
          "text": [
            "1\n",
            "2\n",
            "A\n",
            "B\n",
            "Hello!\n",
            "world\n",
            "3.14159\n",
            "world\n"
          ]
        }
      ]
    },
    {
      "cell_type": "markdown",
      "source": [
        "dictionaries"
      ],
      "metadata": {
        "id": "9wH9nJ_sBUzP"
      }
    },
    {
      "cell_type": "code",
      "source": [
        "var = 'Hello world'\n",
        "vardict = {'first' : 123, 2 : 'abc', '3' : var, 4 : ['lista', 'listb']}\n",
        "print(vardict['first'])\n",
        "print('\\n')\n",
        "\n",
        "print(vardict[2])\n",
        "print('\\n')\n",
        "\n",
        "print(vardict['3'])\n",
        "print('\\n')\n",
        "\n",
        "print(vardict[4])\n",
        "print('\\n')\n",
        "\n",
        "print(vardict[4][0])\n",
        "print('\\n')\n",
        "\n",
        "len(vardict)"
      ],
      "metadata": {
        "colab": {
          "base_uri": "https://localhost:8080/"
        },
        "id": "6mtyUNE7BWQG",
        "outputId": "81848950-d4f2-4fd7-d0dc-2a68fa535a7c"
      },
      "execution_count": 16,
      "outputs": [
        {
          "output_type": "stream",
          "name": "stdout",
          "text": [
            "123\n",
            "\n",
            "\n",
            "abc\n",
            "\n",
            "\n",
            "Hello world\n",
            "\n",
            "\n",
            "['lista', 'listb']\n",
            "\n",
            "\n",
            "lista\n",
            "\n",
            "\n"
          ]
        },
        {
          "output_type": "execute_result",
          "data": {
            "text/plain": [
              "4"
            ]
          },
          "metadata": {},
          "execution_count": 16
        }
      ]
    },
    {
      "cell_type": "markdown",
      "source": [
        "list generators and Comprehension"
      ],
      "metadata": {
        "id": "tdPV4dmLD-4m"
      }
    },
    {
      "cell_type": "code",
      "source": [
        "def gen_num_up_to(n):\n",
        "  num = 0\n",
        "  while num < n:\n",
        "    yield num\n",
        "    num += 2\n",
        "\n",
        "varlist = range(0, 5, 2)\n",
        "print([var for var in varlist])"
      ],
      "metadata": {
        "colab": {
          "base_uri": "https://localhost:8080/"
        },
        "id": "2-g00LExEC2e",
        "outputId": "b2a3b1cf-477a-4354-b3fb-9378c5c5abc1"
      },
      "execution_count": 22,
      "outputs": [
        {
          "output_type": "stream",
          "name": "stdout",
          "text": [
            "[0, 2, 4]\n"
          ]
        }
      ]
    },
    {
      "cell_type": "markdown",
      "source": [
        "Slicing"
      ],
      "metadata": {
        "id": "0OA0B0PsF8gu"
      }
    },
    {
      "cell_type": "code",
      "source": [
        "varlist = [1, 2, 3, 4, 5, 6, 7, 8, 9, 10]\n",
        "print(varlist[:5])\n",
        "\n",
        "print(varlist[5:])\n",
        "\n",
        "print(varlist[:-2])\n",
        "\n",
        "print(varlist[-2:])\n",
        "\n",
        "print(varlist[2:-2])\n",
        "\n",
        "print(varlist[2:8:2])"
      ],
      "metadata": {
        "colab": {
          "base_uri": "https://localhost:8080/"
        },
        "id": "pViHKcJ_GHKG",
        "outputId": "77746a26-7858-4c4e-afe1-33c291f88e4b"
      },
      "execution_count": 30,
      "outputs": [
        {
          "output_type": "stream",
          "name": "stdout",
          "text": [
            "[1, 2, 3, 4, 5]\n",
            "[6, 7, 8, 9, 10]\n",
            "[1, 2, 3, 4, 5, 6, 7, 8]\n",
            "[9, 10]\n",
            "[3, 4, 5, 6, 7, 8]\n",
            "[3, 5, 7]\n"
          ]
        }
      ]
    }
  ]
}