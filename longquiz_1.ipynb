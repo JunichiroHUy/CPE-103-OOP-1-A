{
  "nbformat": 4,
  "nbformat_minor": 0,
  "metadata": {
    "colab": {
      "provenance": [],
      "authorship_tag": "ABX9TyPOpHB9FICEDI3+2E076yRf",
      "include_colab_link": true
    },
    "kernelspec": {
      "name": "python3",
      "display_name": "Python 3"
    },
    "language_info": {
      "name": "python"
    }
  },
  "cells": [
    {
      "cell_type": "markdown",
      "metadata": {
        "id": "view-in-github",
        "colab_type": "text"
      },
      "source": [
        "<a href=\"https://colab.research.google.com/github/JunichiroHUy/CPE-103-OOP-1-A/blob/main/longquiz_1.ipynb\" target=\"_parent\"><img src=\"https://colab.research.google.com/assets/colab-badge.svg\" alt=\"Open In Colab\"/></a>"
      ]
    },
    {
      "cell_type": "code",
      "execution_count": 40,
      "metadata": {
        "id": "eqDQdOOZoZL3"
      },
      "outputs": [],
      "source": [
        "class Student():\n",
        "  def __init__(self, username, program, sex):\n",
        "    self.__username = username\n",
        "    self.__id = 0\n",
        "    self.__program = program\n",
        "    self.__sex = sex\n",
        "    self.__height = 0\n",
        "    self.__weight = 0\n",
        "\n",
        "  def getUsername(self):\n",
        "    return self.__username\n",
        "\n",
        "  def setUsername(self, new_username):\n",
        "    self.__username = new_username\n",
        "\n",
        "  def getId(self):\n",
        "    return self.__id\n",
        "\n",
        "  def setId(self, new_id):\n",
        "    self.__id = new_id\n",
        "\n",
        "  def getProgram(self):\n",
        "    return self.__program\n",
        "\n",
        "  def setProgram(self, new_program):\n",
        "    self.__program = new_program\n",
        "\n",
        "  def getGender(self):\n",
        "    return self.__sex\n",
        "\n",
        "  def setGender(self, new_sex):\n",
        "    self.__sex = new_sex\n",
        "\n",
        "  def getHeight(self):\n",
        "    return self.__height\n",
        "\n",
        "  def setHeight(self, new_height):\n",
        "    self.__height = new_height\n",
        "\n",
        "  def getWeight(self):\n",
        "    return self.__weight\n",
        "\n",
        "  def setWeight(self, new_weight):\n",
        "    self.__weight = new_weight"
      ]
    },
    {
      "cell_type": "markdown",
      "source": [],
      "metadata": {
        "id": "YcH1o7YgsPMs"
      }
    },
    {
      "cell_type": "code",
      "source": [
        "#class info(Student):\n",
        "  #def __init__(self, username, program, sex):\n",
        "   # super().__init__(username, program, sex)\n",
        " # def getinfo(self):\n",
        "   # print(f\"{self.getUsername()} \\n Student id: {self.getId()} \\n Program: {self.getProgram()} \\n gender: {self.getGender} \\n Height: {self.getHeight()} \\n Weight: {self.getWeight()}\")\n",
        "#\n",
        "#student1 = info(\"John\", \"CPE 103\", \"Male\")\n",
        "#print(student1.getinfo())"
      ],
      "metadata": {
        "colab": {
          "base_uri": "https://localhost:8080/"
        },
        "id": "9PIKnlOVsPqE",
        "outputId": "96a2655f-2f9b-4553-cc1e-89328c3e3fef"
      },
      "execution_count": 42,
      "outputs": [
        {
          "output_type": "stream",
          "name": "stdout",
          "text": [
            "John \n",
            " Student id: 0 \n",
            " Program: CPE 103 \n",
            " gender: <bound method Student.getGender of <__main__.info object at 0x7bf2c9434090>> \n",
            " Height: 0 \n",
            " Weight: 0\n",
            "None\n"
          ]
        }
      ]
    },
    {
      "cell_type": "code",
      "source": [
        "class student1(Student):\n",
        "  def __init__(self, username, program, sex):\n",
        "    super().__init__(username, program, sex)\n",
        "    self.setId(20240091)\n",
        "    self.setHeight(180)\n",
        "    self.setWeight(89)\n",
        "\n",
        "  def getinfo(self):\n",
        "    print(f\"Student name: {self.getUsername()} \\nStudent id: {self.getId()} \\nProgram: {self.getProgram()} \\ngender: {self.getGender} \\nHeight: {self.getHeight()} \\nWeight: {self.getWeight()}\")"
      ],
      "metadata": {
        "id": "56v8MlJPz4dr"
      },
      "execution_count": 65,
      "outputs": []
    },
    {
      "cell_type": "code",
      "source": [
        "classmate1 = student1(\"John\", \"CPE 103\", \"Male\")\n",
        "print(classmate1.getinfo())"
      ],
      "metadata": {
        "colab": {
          "base_uri": "https://localhost:8080/"
        },
        "id": "qrJ0mgra9mSb",
        "outputId": "43aca85f-33f7-4c12-f616-89472b363ff4"
      },
      "execution_count": 60,
      "outputs": [
        {
          "output_type": "stream",
          "name": "stdout",
          "text": [
            "John \n",
            " Student id: 20240091 \n",
            " Program: CPE 103 \n",
            " gender: <bound method Student.getGender of <__main__.student1 object at 0x7bf2c9452950>> \n",
            " Height: 180 \n",
            " Weight: 89\n",
            "None\n"
          ]
        }
      ]
    },
    {
      "cell_type": "code",
      "source": [
        "username = input(\"Enter Student name: \")\n",
        "program = input(\"Enter the program (CPE103): \")\n",
        "sex = input(\"Enter gender: \")\n",
        "\n",
        "classmate2 = student1(username, program, sex)\n",
        "print(classmate2.getinfo())\n"
      ],
      "metadata": {
        "colab": {
          "base_uri": "https://localhost:8080/"
        },
        "id": "b47VBbnO-qLj",
        "outputId": "dacc1132-bc89-4bee-8db0-2f7c86a14040"
      },
      "execution_count": 66,
      "outputs": [
        {
          "output_type": "stream",
          "name": "stdout",
          "text": [
            "Enter Student name: Ana\n",
            "Enter the program (CPE103): CPE103\n",
            "Enter gender: Female\n",
            "Student name: Ana \n",
            "Student id: 20240091 \n",
            "Program: CPE103 \n",
            "gender: <bound method Student.getGender of <__main__.student1 object at 0x7bf2c9439410>> \n",
            "Height: 180 \n",
            "Weight: 89\n",
            "None\n"
          ]
        }
      ]
    }
  ]
}