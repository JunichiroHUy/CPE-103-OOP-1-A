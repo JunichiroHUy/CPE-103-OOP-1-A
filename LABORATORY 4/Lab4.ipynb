{
  "cells": [
    {
      "cell_type": "markdown",
      "metadata": {
        "id": "view-in-github",
        "colab_type": "text"
      },
      "source": [
        "<a href=\"https://colab.research.google.com/github/JunichiroHUy/CPE-103-OOP-1-A/blob/main/Lab4.ipynb\" target=\"_parent\"><img src=\"https://colab.research.google.com/assets/colab-badge.svg\" alt=\"Open In Colab\"/></a>"
      ]
    },
    {
      "cell_type": "markdown",
      "metadata": {
        "id": "aljILrSmJ0dM"
      },
      "source": [
        "LIST"
      ]
    },
    {
      "cell_type": "code",
      "execution_count": 113,
      "metadata": {
        "colab": {
          "base_uri": "https://localhost:8080/"
        },
        "id": "rPZ-__W1JihW",
        "outputId": "31af7537-56f7-498b-e88f-5c98afe31740"
      },
      "outputs": [
        {
          "output_type": "stream",
          "name": "stdout",
          "text": [
            "5\n",
            "5\n",
            "4\n",
            "3\n",
            "2\n",
            "1\n",
            "1\n",
            "2\n",
            "3\n",
            "4\n",
            "5\n",
            "\n",
            "\n",
            "4\n",
            "1\n",
            "-2.0\n",
            "[1, 2, 3]\n",
            "Word\n",
            "1\n",
            "2\n",
            "3\n",
            "Word\n",
            "[1, 2, 3]\n",
            "-2.0\n",
            "1\n",
            "1\n",
            "2\n",
            "3\n",
            "1\n",
            "2\n",
            "3\n"
          ]
        }
      ],
      "source": [
        "numberlist = [5,4,3,2,1]\n",
        "print(len(numberlist))\n",
        "print(numberlist[0])\n",
        "print(numberlist[1])\n",
        "print(numberlist[2])\n",
        "print(numberlist[3])\n",
        "print(numberlist[4])\n",
        "#print(numberlist[5]) Error\n",
        "print(numberlist[-1])\n",
        "print(numberlist[-2])\n",
        "print(numberlist[-3])\n",
        "print(numberlist[-4])\n",
        "print(numberlist[-5])\n",
        "#print(numberlist[-6]) error\n",
        "\n",
        "print(\"\\n\")\n",
        "\n",
        "itemlist = [1,-2.0,[1,2,3],\"Word\"]\n",
        "print(len(itemlist))\n",
        "print(itemlist [0])\n",
        "print(itemlist [1])\n",
        "print(itemlist [2])\n",
        "print(itemlist [3])\n",
        "len(itemlist[2])\n",
        "print(itemlist [2][0])\n",
        "print(itemlist [2][1])\n",
        "print(itemlist [2][2])\n",
        "print(itemlist [-1])\n",
        "print(itemlist [-2])\n",
        "print(itemlist [-3])\n",
        "print(itemlist [-4])\n",
        "len(itemlist[-2])\n",
        "print(itemlist[-2][0])\n",
        "print(itemlist[-2][1])\n",
        "print(itemlist[-2][2])\n",
        "print(itemlist[-2][-3])\n",
        "print(itemlist[-2][-2])\n",
        "print(itemlist[-2][-1])\n"
      ]
    },
    {
      "cell_type": "markdown",
      "metadata": {
        "id": "OEcrsSnLQ0z5"
      },
      "source": [
        "**Observation**\n",
        "\n",
        "\n",
        "*   List item\n",
        "*   List item\n",
        "\n"
      ]
    },
    {
      "cell_type": "markdown",
      "metadata": {
        "id": "qhyzWEMWRWFR"
      },
      "source": [
        "**Index Slicing**"
      ]
    },
    {
      "cell_type": "code",
      "execution_count": 114,
      "metadata": {
        "colab": {
          "base_uri": "https://localhost:8080/"
        },
        "id": "DrrqcOHeRY8y",
        "outputId": "fb86fd4b-cead-4cbf-e44b-ca20d5e0e2ee"
      },
      "outputs": [
        {
          "output_type": "stream",
          "name": "stdout",
          "text": [
            "9\n",
            "[5, 4, 3, 2, 1, 1, -2.0, [1, 2, 3], 'Word']\n",
            "[5, 4, 3, 2, 1, 1, -2.0, [1, 2, 3], 'Word']\n",
            "[5, 4, 3, 2, 1, 1, -2.0, [1, 2, 3], 'Word']\n",
            "[4, 3, 2, 1, 1, -2.0, [1, 2, 3], 'Word']\n",
            "[3, 2, 1, 1, -2.0, [1, 2, 3], 'Word']\n",
            "\n",
            "\n",
            "[3, 2, 1]\n",
            "[]\n",
            "['Word']\n",
            "[]\n",
            "\n",
            "\n",
            "[5, 4, 3, 2, 1, 1, -2.0, [1, 2, 3], 'Word']\n",
            "[4, 3, 2, 1, 1, -2.0, [1, 2, 3], 'Word']\n",
            "[4]\n",
            "['Word']\n",
            "\n",
            "\n",
            "[]\n",
            "[3, 2, 1]\n",
            "\n",
            "\n",
            "[5, 4, 3, 2, 1, 1, -2.0, [1, 2, 3], 'Word']\n",
            "[5, 3, 1, -2.0, 'Word']\n",
            "[4, 2, 1, [1, 2, 3]]\n",
            "['Word', [1, 2, 3], -2.0, 1, 1, 2, 3]\n",
            "['Word']\n",
            "['Word', [1, 2, 3], -2.0, 1, 1, 2, 3, 4, 5]\n"
          ]
        }
      ],
      "source": [
        "longlist = numberlist + itemlist\n",
        "print(len(longlist))\n",
        "print(longlist [:])\n",
        "print(longlist [:9])\n",
        "print(longlist [0:])\n",
        "print(longlist [1:])\n",
        "print(longlist [2:])\n",
        "\n",
        "print(\"\\n\")\n",
        "\n",
        "print(longlist[2:5])\n",
        "print(longlist[5:2])\n",
        "print(longlist[8:])\n",
        "print(longlist[9:])\n",
        "\n",
        "print(\"\\n\")\n",
        "\n",
        "print(longlist[-9:])\n",
        "print(longlist[-8:])\n",
        "print(longlist[-8:-7])\n",
        "print(longlist[-1:])\n",
        "\n",
        "print(\"\\n\")\n",
        "\n",
        "print(longlist[10:20])\n",
        "print(longlist[-7:5])\n",
        "\n",
        "print(\"\\n\")\n",
        "print(longlist[::1])\n",
        "print(longlist[::2])\n",
        "print(longlist[1:8:2])\n",
        "print(longlist[9:1:-1])\n",
        "print(longlist[-1::1])\n",
        "print(longlist[-1::-1])\n",
        "\n",
        "\n",
        "\n",
        "\n"
      ]
    },
    {
      "cell_type": "markdown",
      "metadata": {
        "id": "w2NeAI2rDeOC"
      },
      "source": [
        "**List Methods and the Mutable Property of Lists**"
      ]
    },
    {
      "cell_type": "code",
      "execution_count": 115,
      "metadata": {
        "colab": {
          "base_uri": "https://localhost:8080/"
        },
        "id": "Cva2-DlXDeda",
        "outputId": "2aa954af-6b01-4812-a71a-6259c54f35af"
      },
      "outputs": [
        {
          "output_type": "stream",
          "name": "stdout",
          "text": [
            "[5, 4, 3, 2, 1]\n",
            "[5, 4, 3, 2, 1]\n",
            "[6, 4, 3, 2, 1]\n",
            "[6, 4, 3, 2, 1]\n",
            "[6, 4, 3, 2, 1]\n",
            "[5, 4, 3, 2, 1]\n",
            "[6, 4, 3, 2, 1]\n"
          ]
        }
      ],
      "source": [
        "numberlist2 = numberlist\n",
        "print(numberlist)\n",
        "print(numberlist2)\n",
        "numberlist[0] = 6\n",
        "print(numberlist)\n",
        "print(numberlist2)\n",
        "numberlist2 = numberlist.copy()\n",
        "print(numberlist2)\n",
        "numberlist[0] = 5\n",
        "print(numberlist)\n",
        "print(numberlist2)"
      ]
    },
    {
      "cell_type": "markdown",
      "metadata": {
        "id": "ZuUOc0oxFGVJ"
      },
      "source": [
        "**Exploring some List Functions and Methods**"
      ]
    },
    {
      "cell_type": "code",
      "execution_count": 116,
      "metadata": {
        "colab": {
          "base_uri": "https://localhost:8080/"
        },
        "id": "TZL1IBOlFGmJ",
        "outputId": "ab226475-03e9-42ea-ba50-90be9cec151e"
      },
      "outputs": [
        {
          "output_type": "stream",
          "name": "stdout",
          "text": [
            "[5, 4, 3, 2, 1]\n",
            "[5, 4, 3, 2, 1, 6]\n",
            "[5, 4, 3, 2, 1]\n",
            "[1, 2, 3, 4, 5]\n",
            "1\n",
            "5\n",
            "[5, 4, 3, 2, 1, 1, -2.0, [1, 2, 3], 'Word']\n",
            "2\n",
            "1\n"
          ]
        }
      ],
      "source": [
        "print(numberlist)\n",
        "numberlist.append(6)\n",
        "print(numberlist)\n",
        "numberlist.pop()\n",
        "print(numberlist)\n",
        "numberlist.sort()\n",
        "print(numberlist)\n",
        "print(min(numberlist))\n",
        "print(max(numberlist))\n",
        "print(longlist)\n",
        "print(longlist.count(1))\n",
        "print(longlist[7].count(1))"
      ]
    },
    {
      "cell_type": "markdown",
      "metadata": {
        "id": "o2fRLBsu8c7F"
      },
      "source": [
        "**The In-Operator**"
      ]
    },
    {
      "cell_type": "code",
      "execution_count": 117,
      "metadata": {
        "colab": {
          "base_uri": "https://localhost:8080/"
        },
        "id": "fHt10mg8821h",
        "outputId": "e0b7566e-380f-4293-ec4f-f93a8ee2dc82"
      },
      "outputs": [
        {
          "output_type": "stream",
          "name": "stdout",
          "text": [
            "True\n",
            "False\n",
            "Enter a number: 5\n",
            "The number is in longlist\n"
          ]
        }
      ],
      "source": [
        "print(3 in longlist)\n",
        "print(15 in longlist)\n",
        "\n",
        "num = int(input(\"Enter a number: \"))\n",
        "if num in longlist:\n",
        "\n",
        "  print(\"The number is in longlist\")\n",
        "\n",
        "else:\n",
        "\n",
        "  print(\"The number is not in longlist\")"
      ]
    },
    {
      "cell_type": "markdown",
      "metadata": {
        "id": "TTS2xuSP_hJB"
      },
      "source": [
        "**Using a list in an iterative statement **"
      ]
    },
    {
      "cell_type": "code",
      "execution_count": 118,
      "metadata": {
        "id": "oFHwwOeM_gs6",
        "colab": {
          "base_uri": "https://localhost:8080/"
        },
        "outputId": "a6aa2eec-46e0-4673-c1fb-8359e393b9cc"
      },
      "outputs": [
        {
          "output_type": "stream",
          "name": "stdout",
          "text": [
            "5\n",
            "5\n",
            "4\n",
            "3\n",
            "2\n",
            "1\n",
            "1\n",
            "-2.0\n",
            "[1, 2, 3]\n",
            "Word\n",
            "4\n",
            "5\n",
            "4\n",
            "3\n",
            "2\n",
            "1\n",
            "1\n",
            "-2.0\n",
            "[1, 2, 3]\n",
            "Word\n",
            "3\n",
            "5\n",
            "4\n",
            "3\n",
            "2\n",
            "1\n",
            "1\n",
            "-2.0\n",
            "[1, 2, 3]\n",
            "Word\n",
            "2\n",
            "5\n",
            "4\n",
            "3\n",
            "2\n",
            "1\n",
            "1\n",
            "-2.0\n",
            "[1, 2, 3]\n",
            "Word\n",
            "1\n",
            "5\n",
            "4\n",
            "3\n",
            "2\n",
            "1\n",
            "1\n",
            "-2.0\n",
            "[1, 2, 3]\n",
            "Word\n",
            "1\n",
            "5\n",
            "4\n",
            "3\n",
            "2\n",
            "1\n",
            "1\n",
            "-2.0\n",
            "[1, 2, 3]\n",
            "Word\n",
            "-2.0\n",
            "5\n",
            "4\n",
            "3\n",
            "2\n",
            "1\n",
            "1\n",
            "-2.0\n",
            "[1, 2, 3]\n",
            "Word\n",
            "[1, 2, 3]\n",
            "5\n",
            "4\n",
            "3\n",
            "2\n",
            "1\n",
            "1\n",
            "-2.0\n",
            "[1, 2, 3]\n",
            "Word\n",
            "Word\n",
            "5\n",
            "4\n",
            "3\n",
            "2\n",
            "1\n",
            "1\n",
            "-2.0\n",
            "[1, 2, 3]\n",
            "Word\n"
          ]
        }
      ],
      "source": [
        "for item in longlist:\n",
        "  print(item)\n",
        "\n",
        "  i=0\n",
        "\n",
        "  while i<len(longlist):\n",
        "    print(longlist[i])\n",
        "    i+=1"
      ]
    },
    {
      "cell_type": "markdown",
      "metadata": {
        "id": "jXROLgVwTFqQ"
      },
      "source": [
        "**Strings**"
      ]
    },
    {
      "cell_type": "code",
      "execution_count": 119,
      "metadata": {
        "id": "8HnIummBTNpd",
        "colab": {
          "base_uri": "https://localhost:8080/"
        },
        "outputId": "c52d9b17-4cbb-4257-a3fc-2c5038870dcd"
      },
      "outputs": [
        {
          "output_type": "stream",
          "name": "stdout",
          "text": [
            "Hello, World!\n",
            "13\n",
            "H\n",
            "e\n",
            "l\n",
            "l\n",
            "o\n",
            "\n",
            "\n",
            "H\n",
            "e\n",
            "l\n",
            "l\n",
            "o\n",
            "\n",
            "\n",
            "Hold\n",
            "\n",
            "\n",
            "Hello\n",
            "World\n"
          ]
        }
      ],
      "source": [
        "message = \"Hello, World!\"\n",
        "print(message)\n",
        "print(len(message))\n",
        "\n",
        "print(message[0])\n",
        "print(message[1])\n",
        "print(message[2])\n",
        "print(message[3])\n",
        "print(message[4])\n",
        "print(\"\\n\")\n",
        "print(message[-13])\n",
        "print(message[-12])\n",
        "print(message[-11])\n",
        "print(message[-10])\n",
        "print(message[-9])\n",
        "print(\"\\n\")\n",
        "print(message[0] + message[4] + message[2] + message[-2])\n",
        "print(\"\\n\")\n",
        "print(message[0:5])\n",
        "print(message[7:12])\n",
        "\n"
      ]
    },
    {
      "cell_type": "markdown",
      "metadata": {
        "id": "ntQaEmnVcj22"
      },
      "source": [
        "**String Methods**"
      ]
    },
    {
      "cell_type": "code",
      "execution_count": 120,
      "metadata": {
        "id": "5-W8ubONcjl_",
        "colab": {
          "base_uri": "https://localhost:8080/"
        },
        "outputId": "9202ff87-a8ed-478e-f694-eabe21cc632d"
      },
      "outputs": [
        {
          "output_type": "stream",
          "name": "stdout",
          "text": [
            "HELLO, WORLD!\n",
            "hello, world!\n",
            "Hello, World!\n",
            "Value 1 is -1, and Value 2 is True.\n",
            "['Hello,', 'World!']\n",
            "3\n",
            "Hello, Cutiepie!\n",
            "Hello, Cutiepie!\n",
            "Help on class str in module builtins:\n",
            "\n",
            "class str(object)\n",
            " |  str(object='') -> str\n",
            " |  str(bytes_or_buffer[, encoding[, errors]]) -> str\n",
            " |  \n",
            " |  Create a new string object from the given object. If encoding or\n",
            " |  errors is specified, then the object must expose a data buffer\n",
            " |  that will be decoded using the given encoding and error handler.\n",
            " |  Otherwise, returns the result of object.__str__() (if defined)\n",
            " |  or repr(object).\n",
            " |  encoding defaults to sys.getdefaultencoding().\n",
            " |  errors defaults to 'strict'.\n",
            " |  \n",
            " |  Methods defined here:\n",
            " |  \n",
            " |  __add__(self, value, /)\n",
            " |      Return self+value.\n",
            " |  \n",
            " |  __contains__(self, key, /)\n",
            " |      Return key in self.\n",
            " |  \n",
            " |  __eq__(self, value, /)\n",
            " |      Return self==value.\n",
            " |  \n",
            " |  __format__(self, format_spec, /)\n",
            " |      Return a formatted version of the string as described by format_spec.\n",
            " |  \n",
            " |  __ge__(self, value, /)\n",
            " |      Return self>=value.\n",
            " |  \n",
            " |  __getattribute__(self, name, /)\n",
            " |      Return getattr(self, name).\n",
            " |  \n",
            " |  __getitem__(self, key, /)\n",
            " |      Return self[key].\n",
            " |  \n",
            " |  __getnewargs__(...)\n",
            " |  \n",
            " |  __gt__(self, value, /)\n",
            " |      Return self>value.\n",
            " |  \n",
            " |  __hash__(self, /)\n",
            " |      Return hash(self).\n",
            " |  \n",
            " |  __iter__(self, /)\n",
            " |      Implement iter(self).\n",
            " |  \n",
            " |  __le__(self, value, /)\n",
            " |      Return self<=value.\n",
            " |  \n",
            " |  __len__(self, /)\n",
            " |      Return len(self).\n",
            " |  \n",
            " |  __lt__(self, value, /)\n",
            " |      Return self<value.\n",
            " |  \n",
            " |  __mod__(self, value, /)\n",
            " |      Return self%value.\n",
            " |  \n",
            " |  __mul__(self, value, /)\n",
            " |      Return self*value.\n",
            " |  \n",
            " |  __ne__(self, value, /)\n",
            " |      Return self!=value.\n",
            " |  \n",
            " |  __repr__(self, /)\n",
            " |      Return repr(self).\n",
            " |  \n",
            " |  __rmod__(self, value, /)\n",
            " |      Return value%self.\n",
            " |  \n",
            " |  __rmul__(self, value, /)\n",
            " |      Return value*self.\n",
            " |  \n",
            " |  __sizeof__(self, /)\n",
            " |      Return the size of the string in memory, in bytes.\n",
            " |  \n",
            " |  __str__(self, /)\n",
            " |      Return str(self).\n",
            " |  \n",
            " |  capitalize(self, /)\n",
            " |      Return a capitalized version of the string.\n",
            " |      \n",
            " |      More specifically, make the first character have upper case and the rest lower\n",
            " |      case.\n",
            " |  \n",
            " |  casefold(self, /)\n",
            " |      Return a version of the string suitable for caseless comparisons.\n",
            " |  \n",
            " |  center(self, width, fillchar=' ', /)\n",
            " |      Return a centered string of length width.\n",
            " |      \n",
            " |      Padding is done using the specified fill character (default is a space).\n",
            " |  \n",
            " |  count(...)\n",
            " |      S.count(sub[, start[, end]]) -> int\n",
            " |      \n",
            " |      Return the number of non-overlapping occurrences of substring sub in\n",
            " |      string S[start:end].  Optional arguments start and end are\n",
            " |      interpreted as in slice notation.\n",
            " |  \n",
            " |  encode(self, /, encoding='utf-8', errors='strict')\n",
            " |      Encode the string using the codec registered for encoding.\n",
            " |      \n",
            " |      encoding\n",
            " |        The encoding in which to encode the string.\n",
            " |      errors\n",
            " |        The error handling scheme to use for encoding errors.\n",
            " |        The default is 'strict' meaning that encoding errors raise a\n",
            " |        UnicodeEncodeError.  Other possible values are 'ignore', 'replace' and\n",
            " |        'xmlcharrefreplace' as well as any other name registered with\n",
            " |        codecs.register_error that can handle UnicodeEncodeErrors.\n",
            " |  \n",
            " |  endswith(...)\n",
            " |      S.endswith(suffix[, start[, end]]) -> bool\n",
            " |      \n",
            " |      Return True if S ends with the specified suffix, False otherwise.\n",
            " |      With optional start, test S beginning at that position.\n",
            " |      With optional end, stop comparing S at that position.\n",
            " |      suffix can also be a tuple of strings to try.\n",
            " |  \n",
            " |  expandtabs(self, /, tabsize=8)\n",
            " |      Return a copy where all tab characters are expanded using spaces.\n",
            " |      \n",
            " |      If tabsize is not given, a tab size of 8 characters is assumed.\n",
            " |  \n",
            " |  find(...)\n",
            " |      S.find(sub[, start[, end]]) -> int\n",
            " |      \n",
            " |      Return the lowest index in S where substring sub is found,\n",
            " |      such that sub is contained within S[start:end].  Optional\n",
            " |      arguments start and end are interpreted as in slice notation.\n",
            " |      \n",
            " |      Return -1 on failure.\n",
            " |  \n",
            " |  format(...)\n",
            " |      S.format(*args, **kwargs) -> str\n",
            " |      \n",
            " |      Return a formatted version of S, using substitutions from args and kwargs.\n",
            " |      The substitutions are identified by braces ('{' and '}').\n",
            " |  \n",
            " |  format_map(...)\n",
            " |      S.format_map(mapping) -> str\n",
            " |      \n",
            " |      Return a formatted version of S, using substitutions from mapping.\n",
            " |      The substitutions are identified by braces ('{' and '}').\n",
            " |  \n",
            " |  index(...)\n",
            " |      S.index(sub[, start[, end]]) -> int\n",
            " |      \n",
            " |      Return the lowest index in S where substring sub is found,\n",
            " |      such that sub is contained within S[start:end].  Optional\n",
            " |      arguments start and end are interpreted as in slice notation.\n",
            " |      \n",
            " |      Raises ValueError when the substring is not found.\n",
            " |  \n",
            " |  isalnum(self, /)\n",
            " |      Return True if the string is an alpha-numeric string, False otherwise.\n",
            " |      \n",
            " |      A string is alpha-numeric if all characters in the string are alpha-numeric and\n",
            " |      there is at least one character in the string.\n",
            " |  \n",
            " |  isalpha(self, /)\n",
            " |      Return True if the string is an alphabetic string, False otherwise.\n",
            " |      \n",
            " |      A string is alphabetic if all characters in the string are alphabetic and there\n",
            " |      is at least one character in the string.\n",
            " |  \n",
            " |  isascii(self, /)\n",
            " |      Return True if all characters in the string are ASCII, False otherwise.\n",
            " |      \n",
            " |      ASCII characters have code points in the range U+0000-U+007F.\n",
            " |      Empty string is ASCII too.\n",
            " |  \n",
            " |  isdecimal(self, /)\n",
            " |      Return True if the string is a decimal string, False otherwise.\n",
            " |      \n",
            " |      A string is a decimal string if all characters in the string are decimal and\n",
            " |      there is at least one character in the string.\n",
            " |  \n",
            " |  isdigit(self, /)\n",
            " |      Return True if the string is a digit string, False otherwise.\n",
            " |      \n",
            " |      A string is a digit string if all characters in the string are digits and there\n",
            " |      is at least one character in the string.\n",
            " |  \n",
            " |  isidentifier(self, /)\n",
            " |      Return True if the string is a valid Python identifier, False otherwise.\n",
            " |      \n",
            " |      Call keyword.iskeyword(s) to test whether string s is a reserved identifier,\n",
            " |      such as \"def\" or \"class\".\n",
            " |  \n",
            " |  islower(self, /)\n",
            " |      Return True if the string is a lowercase string, False otherwise.\n",
            " |      \n",
            " |      A string is lowercase if all cased characters in the string are lowercase and\n",
            " |      there is at least one cased character in the string.\n",
            " |  \n",
            " |  isnumeric(self, /)\n",
            " |      Return True if the string is a numeric string, False otherwise.\n",
            " |      \n",
            " |      A string is numeric if all characters in the string are numeric and there is at\n",
            " |      least one character in the string.\n",
            " |  \n",
            " |  isprintable(self, /)\n",
            " |      Return True if the string is printable, False otherwise.\n",
            " |      \n",
            " |      A string is printable if all of its characters are considered printable in\n",
            " |      repr() or if it is empty.\n",
            " |  \n",
            " |  isspace(self, /)\n",
            " |      Return True if the string is a whitespace string, False otherwise.\n",
            " |      \n",
            " |      A string is whitespace if all characters in the string are whitespace and there\n",
            " |      is at least one character in the string.\n",
            " |  \n",
            " |  istitle(self, /)\n",
            " |      Return True if the string is a title-cased string, False otherwise.\n",
            " |      \n",
            " |      In a title-cased string, upper- and title-case characters may only\n",
            " |      follow uncased characters and lowercase characters only cased ones.\n",
            " |  \n",
            " |  isupper(self, /)\n",
            " |      Return True if the string is an uppercase string, False otherwise.\n",
            " |      \n",
            " |      A string is uppercase if all cased characters in the string are uppercase and\n",
            " |      there is at least one cased character in the string.\n",
            " |  \n",
            " |  join(self, iterable, /)\n",
            " |      Concatenate any number of strings.\n",
            " |      \n",
            " |      The string whose method is called is inserted in between each given string.\n",
            " |      The result is returned as a new string.\n",
            " |      \n",
            " |      Example: '.'.join(['ab', 'pq', 'rs']) -> 'ab.pq.rs'\n",
            " |  \n",
            " |  ljust(self, width, fillchar=' ', /)\n",
            " |      Return a left-justified string of length width.\n",
            " |      \n",
            " |      Padding is done using the specified fill character (default is a space).\n",
            " |  \n",
            " |  lower(self, /)\n",
            " |      Return a copy of the string converted to lowercase.\n",
            " |  \n",
            " |  lstrip(self, chars=None, /)\n",
            " |      Return a copy of the string with leading whitespace removed.\n",
            " |      \n",
            " |      If chars is given and not None, remove characters in chars instead.\n",
            " |  \n",
            " |  partition(self, sep, /)\n",
            " |      Partition the string into three parts using the given separator.\n",
            " |      \n",
            " |      This will search for the separator in the string.  If the separator is found,\n",
            " |      returns a 3-tuple containing the part before the separator, the separator\n",
            " |      itself, and the part after it.\n",
            " |      \n",
            " |      If the separator is not found, returns a 3-tuple containing the original string\n",
            " |      and two empty strings.\n",
            " |  \n",
            " |  removeprefix(self, prefix, /)\n",
            " |      Return a str with the given prefix string removed if present.\n",
            " |      \n",
            " |      If the string starts with the prefix string, return string[len(prefix):].\n",
            " |      Otherwise, return a copy of the original string.\n",
            " |  \n",
            " |  removesuffix(self, suffix, /)\n",
            " |      Return a str with the given suffix string removed if present.\n",
            " |      \n",
            " |      If the string ends with the suffix string and that suffix is not empty,\n",
            " |      return string[:-len(suffix)]. Otherwise, return a copy of the original\n",
            " |      string.\n",
            " |  \n",
            " |  replace(self, old, new, count=-1, /)\n",
            " |      Return a copy with all occurrences of substring old replaced by new.\n",
            " |      \n",
            " |        count\n",
            " |          Maximum number of occurrences to replace.\n",
            " |          -1 (the default value) means replace all occurrences.\n",
            " |      \n",
            " |      If the optional argument count is given, only the first count occurrences are\n",
            " |      replaced.\n",
            " |  \n",
            " |  rfind(...)\n",
            " |      S.rfind(sub[, start[, end]]) -> int\n",
            " |      \n",
            " |      Return the highest index in S where substring sub is found,\n",
            " |      such that sub is contained within S[start:end].  Optional\n",
            " |      arguments start and end are interpreted as in slice notation.\n",
            " |      \n",
            " |      Return -1 on failure.\n",
            " |  \n",
            " |  rindex(...)\n",
            " |      S.rindex(sub[, start[, end]]) -> int\n",
            " |      \n",
            " |      Return the highest index in S where substring sub is found,\n",
            " |      such that sub is contained within S[start:end].  Optional\n",
            " |      arguments start and end are interpreted as in slice notation.\n",
            " |      \n",
            " |      Raises ValueError when the substring is not found.\n",
            " |  \n",
            " |  rjust(self, width, fillchar=' ', /)\n",
            " |      Return a right-justified string of length width.\n",
            " |      \n",
            " |      Padding is done using the specified fill character (default is a space).\n",
            " |  \n",
            " |  rpartition(self, sep, /)\n",
            " |      Partition the string into three parts using the given separator.\n",
            " |      \n",
            " |      This will search for the separator in the string, starting at the end. If\n",
            " |      the separator is found, returns a 3-tuple containing the part before the\n",
            " |      separator, the separator itself, and the part after it.\n",
            " |      \n",
            " |      If the separator is not found, returns a 3-tuple containing two empty strings\n",
            " |      and the original string.\n",
            " |  \n",
            " |  rsplit(self, /, sep=None, maxsplit=-1)\n",
            " |      Return a list of the substrings in the string, using sep as the separator string.\n",
            " |      \n",
            " |        sep\n",
            " |          The separator used to split the string.\n",
            " |      \n",
            " |          When set to None (the default value), will split on any whitespace\n",
            " |          character (including \\n \\r \\t \\f and spaces) and will discard\n",
            " |          empty strings from the result.\n",
            " |        maxsplit\n",
            " |          Maximum number of splits.\n",
            " |          -1 (the default value) means no limit.\n",
            " |      \n",
            " |      Splitting starts at the end of the string and works to the front.\n",
            " |  \n",
            " |  rstrip(self, chars=None, /)\n",
            " |      Return a copy of the string with trailing whitespace removed.\n",
            " |      \n",
            " |      If chars is given and not None, remove characters in chars instead.\n",
            " |  \n",
            " |  split(self, /, sep=None, maxsplit=-1)\n",
            " |      Return a list of the substrings in the string, using sep as the separator string.\n",
            " |      \n",
            " |        sep\n",
            " |          The separator used to split the string.\n",
            " |      \n",
            " |          When set to None (the default value), will split on any whitespace\n",
            " |          character (including \\n \\r \\t \\f and spaces) and will discard\n",
            " |          empty strings from the result.\n",
            " |        maxsplit\n",
            " |          Maximum number of splits.\n",
            " |          -1 (the default value) means no limit.\n",
            " |      \n",
            " |      Splitting starts at the front of the string and works to the end.\n",
            " |      \n",
            " |      Note, str.split() is mainly useful for data that has been intentionally\n",
            " |      delimited.  With natural text that includes punctuation, consider using\n",
            " |      the regular expression module.\n",
            " |  \n",
            " |  splitlines(self, /, keepends=False)\n",
            " |      Return a list of the lines in the string, breaking at line boundaries.\n",
            " |      \n",
            " |      Line breaks are not included in the resulting list unless keepends is given and\n",
            " |      true.\n",
            " |  \n",
            " |  startswith(...)\n",
            " |      S.startswith(prefix[, start[, end]]) -> bool\n",
            " |      \n",
            " |      Return True if S starts with the specified prefix, False otherwise.\n",
            " |      With optional start, test S beginning at that position.\n",
            " |      With optional end, stop comparing S at that position.\n",
            " |      prefix can also be a tuple of strings to try.\n",
            " |  \n",
            " |  strip(self, chars=None, /)\n",
            " |      Return a copy of the string with leading and trailing whitespace removed.\n",
            " |      \n",
            " |      If chars is given and not None, remove characters in chars instead.\n",
            " |  \n",
            " |  swapcase(self, /)\n",
            " |      Convert uppercase characters to lowercase and lowercase characters to uppercase.\n",
            " |  \n",
            " |  title(self, /)\n",
            " |      Return a version of the string where each word is titlecased.\n",
            " |      \n",
            " |      More specifically, words start with uppercased characters and all remaining\n",
            " |      cased characters have lower case.\n",
            " |  \n",
            " |  translate(self, table, /)\n",
            " |      Replace each character in the string using the given translation table.\n",
            " |      \n",
            " |        table\n",
            " |          Translation table, which must be a mapping of Unicode ordinals to\n",
            " |          Unicode ordinals, strings, or None.\n",
            " |      \n",
            " |      The table must implement lookup/indexing via __getitem__, for instance a\n",
            " |      dictionary or list.  If this operation raises LookupError, the character is\n",
            " |      left untouched.  Characters mapped to None are deleted.\n",
            " |  \n",
            " |  upper(self, /)\n",
            " |      Return a copy of the string converted to uppercase.\n",
            " |  \n",
            " |  zfill(self, width, /)\n",
            " |      Pad a numeric string with zeros on the left, to fill a field of the given width.\n",
            " |      \n",
            " |      The string is never truncated.\n",
            " |  \n",
            " |  ----------------------------------------------------------------------\n",
            " |  Static methods defined here:\n",
            " |  \n",
            " |  __new__(*args, **kwargs)\n",
            " |      Create and return a new object.  See help(type) for accurate signature.\n",
            " |  \n",
            " |  maketrans(...)\n",
            " |      Return a translation table usable for str.translate().\n",
            " |      \n",
            " |      If there is only one argument, it must be a dictionary mapping Unicode\n",
            " |      ordinals (integers) or characters to Unicode ordinals, strings or None.\n",
            " |      Character keys will be then converted to ordinals.\n",
            " |      If there are two arguments, they must be strings of equal length, and\n",
            " |      in the resulting dictionary, each character in x will be mapped to the\n",
            " |      character at the same position in y. If there is a third argument, it\n",
            " |      must be a string, whose characters will be mapped to None in the result.\n",
            "\n"
          ]
        }
      ],
      "source": [
        "print(message.upper())\n",
        "print(message.lower())\n",
        "print(message.title())\n",
        "value1 = -1\n",
        "value2 = True\n",
        "print(f\"Value 1 is {value1}, and Value 2 is {value2}.\")\n",
        "print(message.split())\n",
        "print(message.count(\"l\"))\n",
        "print(message.replace(\"World\", \"Cutiepie\"))\n",
        "message = message.replace(\"World\", \"Cutiepie\")\n",
        "print(message)\n",
        "help(\"\")\n"
      ]
    },
    {
      "cell_type": "markdown",
      "metadata": {
        "id": "oLp7Mj7iheiG"
      },
      "source": [
        "**Commands used:**\n",
        "- List itemlower(self, /)\n",
        " |      Return a copy of the string converted to lowercase.\n",
        "- replace(self, old, new, count=-1, /)\n",
        " |      Return a copy with all occurrences of substring old replaced by new.\n",
        "- split(self, /, sep=None, maxsplit=-1)\n",
        " Return a list of the substrings in the string, using sep as the separator string.\n",
        " |      \n",
        " |        sep\n",
        " |          The separator used to split the string.\n",
        " |      \n",
        " |          When set to None (the default value), will split on any whitespace\n",
        " |          character (including \\n \\r \\t \\f and spaces) and will discard\n",
        " |          empty strings from the result.\n",
        " |        maxsplit\n",
        " |          Maximum number of splits.\n",
        " |          -1 (the default value) means no limit.\n",
        " |      \n",
        " |      Splitting starts at the front of the string and works to the end.\n",
        " |      \n",
        " |      Note, str.split() is mainly useful for data that has been intentionally\n",
        " |      delimited.  With natural text that includes punctuation, consider using\n",
        " |      the regular expression module.\n",
        "- title(self, /)\n",
        " |      Return a version of the string where each word is titlecased.\n",
        " |      \n",
        " |      More specifically, words start with uppercased characters and all remaining\n",
        " |      cased characters have lower case.\n",
        "- upper(self, /)\n",
        " |      Return a copy of the string converted to uppercase.\n",
        "\n",
        "\n"
      ]
    },
    {
      "cell_type": "markdown",
      "metadata": {
        "id": "EGJrDLeIh--U"
      },
      "source": [
        "**The in operator for Strings**"
      ]
    },
    {
      "cell_type": "code",
      "execution_count": 121,
      "metadata": {
        "id": "FFn1-aEmiHQd",
        "colab": {
          "base_uri": "https://localhost:8080/"
        },
        "outputId": "7901bd28-080d-44f4-ac32-3081b32f754a"
      },
      "outputs": [
        {
          "output_type": "stream",
          "name": "stdout",
          "text": [
            "False\n",
            "False\n",
            "Enter a word: word\n",
            "The word is not in the message\n"
          ]
        }
      ],
      "source": [
        "print(\"W\" in message)\n",
        "print(\"old\" in message)\n",
        "\n",
        "word = input(\"Enter a word: \")\n",
        "if word in \"Your my honeybunch sugar plum, pampiyampiyamkin, you're my sweetie pie\":\n",
        "  print(\"The word is in the message\")\n",
        "else:\n",
        "  print(\"The word is not in the message\")\n",
        "\n",
        "\n"
      ]
    },
    {
      "cell_type": "markdown",
      "metadata": {
        "id": "nDVV5cESlvSs"
      },
      "source": [
        "**Using a String in an iterative statement**"
      ]
    },
    {
      "cell_type": "code",
      "execution_count": 122,
      "metadata": {
        "id": "x3XYOlMAlxm1",
        "colab": {
          "base_uri": "https://localhost:8080/"
        },
        "outputId": "1b47e827-3d68-4ca9-d385-01a066d56310"
      },
      "outputs": [
        {
          "output_type": "stream",
          "name": "stdout",
          "text": [
            "H\n",
            "e\n",
            "l\n",
            "l\n",
            "o\n",
            ",\n",
            " \n",
            "C\n",
            "u\n",
            "t\n",
            "i\n",
            "e\n",
            "p\n",
            "i\n",
            "e\n",
            "!\n",
            "H\n",
            "e\n",
            "l\n",
            "l\n",
            "o\n",
            ",\n",
            " \n",
            "C\n",
            "u\n",
            "t\n",
            "i\n",
            "e\n",
            "p\n",
            "i\n",
            "e\n",
            "!\n"
          ]
        }
      ],
      "source": [
        "for character in message:\n",
        "  print(character) #ANG GALINGGG\n",
        "\n",
        "i = 0\n",
        "while i<len(message):\n",
        "  print(message[i])\n",
        "  i+=1"
      ]
    },
    {
      "cell_type": "markdown",
      "metadata": {
        "id": "hYplPCL0w_eM"
      },
      "source": [
        "**Tuples**"
      ]
    },
    {
      "cell_type": "code",
      "execution_count": 123,
      "metadata": {
        "id": "-EiZ5dQFwntm",
        "colab": {
          "base_uri": "https://localhost:8080/"
        },
        "outputId": "cc644f39-60af-412f-89cb-46306b5fc9eb"
      },
      "outputs": [
        {
          "output_type": "stream",
          "name": "stdout",
          "text": [
            "2\n",
            "3\n",
            "4\n",
            "5\n",
            "(1, 2, 3, 4, 5, 1, 2, 3)\n",
            "(2, 3, 4, 5)\n",
            "1\n",
            "2\n",
            "3\n",
            "4\n",
            "5\n"
          ]
        }
      ],
      "source": [
        "tuplelist = (1, 2, 3, 4, 5)\n",
        "print(numberlist[1])\n",
        "print(numberlist[2])\n",
        "print(numberlist[3])\n",
        "print(numberlist[4])\n",
        "#print(numberlist[5]) errorrrrrrrrrr\n",
        "print(tuplelist + (1,2,3))\n",
        "#tuplelist[0] = 15 error\n",
        "print(tuplelist[1:5])\n",
        "for item in tuplelist:\n",
        "  print(item)"
      ]
    },
    {
      "cell_type": "markdown",
      "metadata": {
        "id": "whGTToVK_IZV"
      },
      "source": [
        "**Dictionaries**"
      ]
    },
    {
      "cell_type": "code",
      "source": [
        "contactinfo = {'id':1, 'first_name':'John', 'last_name':'Doe', 'contact_number':'09060611233'}\n",
        "print(contactinfo['id'])\n",
        "print(contactinfo['first_name'])\n",
        "print(contactinfo['last_name'])\n",
        "print(contactinfo['contact_number'])\n",
        "#print(contactinfo['age']) Error, no age\n",
        "print(\"\\n\")\n",
        "for k in contactinfo:\n",
        "  print(k)\n",
        "for k,v in contactinfo.items():\n",
        "  print(k,v)\n",
        "\n",
        "contactinfo['id'] = 2\n",
        "contactinfo['first_name'] = 'Max'\n",
        "print(contactinfo)"
      ],
      "metadata": {
        "colab": {
          "base_uri": "https://localhost:8080/"
        },
        "id": "fO_n4zkCDAVQ",
        "outputId": "f6527481-5ebb-4a9f-c862-b01874446e13"
      },
      "execution_count": 124,
      "outputs": [
        {
          "output_type": "stream",
          "name": "stdout",
          "text": [
            "1\n",
            "John\n",
            "Doe\n",
            "09060611233\n",
            "\n",
            "\n",
            "id\n",
            "first_name\n",
            "last_name\n",
            "contact_number\n",
            "id 1\n",
            "first_name John\n",
            "last_name Doe\n",
            "contact_number 09060611233\n",
            "{'id': 2, 'first_name': 'Max', 'last_name': 'Doe', 'contact_number': '09060611233'}\n"
          ]
        }
      ]
    },
    {
      "cell_type": "markdown",
      "source": [
        "**Supplementary Activity**"
      ],
      "metadata": {
        "id": "Y3P1xisUHGuB"
      }
    },
    {
      "cell_type": "markdown",
      "source": [
        "Distance Formula"
      ],
      "metadata": {
        "id": "chWU2V8nPZdl"
      }
    },
    {
      "cell_type": "code",
      "source": [
        "import math\n",
        "\n",
        "coordinate_list = [(1,1), (2,3)]\n",
        "x1 = coordinate_list[0][0]\n",
        "y1 = coordinate_list[0][1]\n",
        "x2 = coordinate_list[1][0]\n",
        "y2 = coordinate_list[1][1]\n",
        "\n",
        "distance_formula = math.sqrt((x2 - x1)**2 + (y2 - y1)**2)\n",
        "\n",
        "print(distance_formula)"
      ],
      "metadata": {
        "colab": {
          "base_uri": "https://localhost:8080/"
        },
        "id": "FQHePhwqHHAA",
        "outputId": "eb6da43f-0210-49f4-be2e-04faa7350249"
      },
      "execution_count": 125,
      "outputs": [
        {
          "output_type": "stream",
          "name": "stdout",
          "text": [
            "2.23606797749979\n"
          ]
        }
      ]
    },
    {
      "cell_type": "markdown",
      "source": [
        "Simple Word Filter"
      ],
      "metadata": {
        "id": "-X4ayeOZPeqD"
      }
    },
    {
      "cell_type": "code",
      "source": [
        "comment = input(\"Enter a comment: \")\n",
        "censored_comment = \"\"\n",
        "invalid = (\"stupid\", \"idiot\")\n",
        "for i in comment.split(\" \"):\n",
        "  if i.lower() in invalid:\n",
        "    censored_comment += \"*\" * len(i) + \" \"\n",
        "  else:\n",
        "    censored_comment += i + \" \"\n",
        "\n",
        "print(censored_comment)\n"
      ],
      "metadata": {
        "colab": {
          "base_uri": "https://localhost:8080/"
        },
        "id": "3y0Zh_XuRZ6a",
        "outputId": "ac53f6e9-fce8-465c-a944-0ed03d30a00e"
      },
      "execution_count": 126,
      "outputs": [
        {
          "output_type": "stream",
          "name": "stdout",
          "text": [
            "Enter a comment: You STUPID IDIOT\n",
            "You ****** ***** \n"
          ]
        }
      ]
    },
    {
      "cell_type": "markdown",
      "source": [
        "Phone Book"
      ],
      "metadata": {
        "id": "xeURaNWbV9es"
      }
    },
    {
      "cell_type": "code",
      "source": [
        "database = []\n",
        "status = True\n",
        "\n",
        "while status:\n",
        "    print(\"(1) Add new user to the list\")\n",
        "    print(\"(2) Display users list.\")\n",
        "    print(\"(3) Stop the program.\")\n",
        "    userInput = input(\"Enter number: \")\n",
        "    userInput = int(userInput)\n",
        "    if userInput == 1:\n",
        "        userName = input(\"Enter name: \")\n",
        "        userContact = input(\"Enter contact: \")\n",
        "        userAddress = input(\"Enter address: \")\n",
        "        database.append((userName,userContact,userAddress))\n",
        "    elif userInput == 2:\n",
        "        for i, v in enumerate(database):\n",
        "            print(\"-\"*10, \"user\", i, \"-\"*10)\n",
        "            print(\"Name:\", v[0])\n",
        "            print(\"Contact:\", v[1])\n",
        "            print(\"Address:\", v[2])\n",
        "    elif userInput == 3:\n",
        "        status = False\n",
        "    else:\n",
        "        print(\"Unknown option.\")"
      ],
      "metadata": {
        "colab": {
          "base_uri": "https://localhost:8080/"
        },
        "id": "WflDEqXbVpLM",
        "outputId": "35ce86b0-ca1b-47f6-d861-b228549cc60d"
      },
      "execution_count": 131,
      "outputs": [
        {
          "name": "stdout",
          "output_type": "stream",
          "text": [
            "(1) Add new user to the list\n",
            "(2) Display users list.\n",
            "(3) Stop the program.\n",
            "Enter number: 1\n",
            "Enter name: uy\n",
            "Enter contact: 90980\n",
            "Enter address: 988\n",
            "(1) Add new user to the list\n",
            "(2) Display users list.\n",
            "(3) Stop the program.\n",
            "Enter number: 1\n",
            "Enter name: he\n",
            "Enter contact: 9898\n",
            "Enter address: sdaadas\n",
            "(1) Add new user to the list\n",
            "(2) Display users list.\n",
            "(3) Stop the program.\n",
            "Enter number: 2\n",
            "---------- user 0 ----------\n",
            "Name: uy\n",
            "Contact: 90980\n",
            "Address: 988\n",
            "---------- user 1 ----------\n",
            "Name: he\n",
            "Contact: 9898\n",
            "Address: sdaadas\n",
            "(1) Add new user to the list\n",
            "(2) Display users list.\n",
            "(3) Stop the program.\n",
            "Enter number: 4\n",
            "Unknown option.\n",
            "(1) Add new user to the list\n",
            "(2) Display users list.\n",
            "(3) Stop the program.\n",
            "Enter number: 3\n"
          ]
        }
      ]
    }
  ],
  "metadata": {
    "colab": {
      "provenance": [],
      "authorship_tag": "ABX9TyPHSfbG/ojh3f1M8rOZ8z5M",
      "include_colab_link": true
    },
    "kernelspec": {
      "display_name": "Python 3",
      "name": "python3"
    },
    "language_info": {
      "name": "python"
    }
  },
  "nbformat": 4,
  "nbformat_minor": 0
}