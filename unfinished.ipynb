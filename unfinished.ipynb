{
  "nbformat": 4,
  "nbformat_minor": 0,
  "metadata": {
    "colab": {
      "provenance": [],
      "authorship_tag": "ABX9TyPPb8cBJcxL9Uijd3RWTN8X",
      "include_colab_link": true
    },
    "kernelspec": {
      "name": "python3",
      "display_name": "Python 3"
    },
    "language_info": {
      "name": "python"
    }
  },
  "cells": [
    {
      "cell_type": "markdown",
      "metadata": {
        "id": "view-in-github",
        "colab_type": "text"
      },
      "source": [
        "<a href=\"https://colab.research.google.com/github/JunichiroHUy/CPE-103-OOP-1-A/blob/main/unfinished.ipynb\" target=\"_parent\"><img src=\"https://colab.research.google.com/assets/colab-badge.svg\" alt=\"Open In Colab\"/></a>"
      ]
    },
    {
      "cell_type": "markdown",
      "source": [
        "LIST"
      ],
      "metadata": {
        "id": "aljILrSmJ0dM"
      }
    },
    {
      "cell_type": "code",
      "execution_count": 16,
      "metadata": {
        "colab": {
          "base_uri": "https://localhost:8080/"
        },
        "id": "rPZ-__W1JihW",
        "outputId": "99073de0-628c-4e4f-a3a9-1dc50b4e7592"
      },
      "outputs": [
        {
          "output_type": "stream",
          "name": "stdout",
          "text": [
            "6\n",
            "5\n",
            "4\n",
            "3\n",
            "2\n",
            "1\n",
            "0\n",
            "0\n",
            "1\n",
            "2\n",
            "3\n",
            "4\n",
            "5\n",
            "\n",
            "\n",
            "4\n",
            "1\n",
            "-2.0\n",
            "[1, 2, 3]\n",
            "Word\n",
            "1\n",
            "2\n",
            "3\n",
            "Word\n",
            "[1, 2, 3]\n",
            "-2.0\n",
            "1\n",
            "1\n",
            "2\n",
            "3\n",
            "1\n",
            "2\n",
            "3\n"
          ]
        }
      ],
      "source": [
        "numberlist = [5,4,3,2,1,0]\n",
        "print(len(numberlist))\n",
        "print(numberlist[0])\n",
        "print(numberlist[1])\n",
        "print(numberlist[2])\n",
        "print(numberlist[3])\n",
        "print(numberlist[4])\n",
        "print(numberlist[5])\n",
        "print(numberlist[-1])\n",
        "print(numberlist[-2])\n",
        "print(numberlist[-3])\n",
        "print(numberlist[-4])\n",
        "print(numberlist[-5])\n",
        "print(numberlist[-6])\n",
        "\n",
        "print(\"\\n\")\n",
        "\n",
        "itemlist = [1,-2.0,[1,2,3],\"Word\"]\n",
        "print(len(itemlist))\n",
        "print(itemlist [0])\n",
        "print(itemlist [1])\n",
        "print(itemlist [2])\n",
        "print(itemlist [3])\n",
        "len(itemlist[2])\n",
        "print(itemlist [2][0])\n",
        "print(itemlist [2][1])\n",
        "print(itemlist [2][2])\n",
        "print(itemlist [-1])\n",
        "print(itemlist [-2])\n",
        "print(itemlist [-3])\n",
        "print(itemlist [-4])\n",
        "len(itemlist[-2])\n",
        "print(itemlist[-2][0])\n",
        "print(itemlist[-2][1])\n",
        "print(itemlist[-2][2])\n",
        "print(itemlist[-2][-3])\n",
        "print(itemlist[-2][-2])\n",
        "print(itemlist[-2][-1])\n"
      ]
    },
    {
      "cell_type": "markdown",
      "source": [
        "**Observation**\n",
        "\n",
        "\n",
        "*   List item\n",
        "*   List item\n",
        "\n"
      ],
      "metadata": {
        "id": "OEcrsSnLQ0z5"
      }
    },
    {
      "cell_type": "markdown",
      "source": [
        "**Index Slicing**"
      ],
      "metadata": {
        "id": "qhyzWEMWRWFR"
      }
    },
    {
      "cell_type": "code",
      "source": [
        "longlist = numberlist + itemlist\n",
        "print(len(longlist))\n",
        "print(longlist [:])\n",
        "print(longlist [:9])\n",
        "print(longlist [0:])\n",
        "print(longlist [1:])\n",
        "print(longlist [2:])\n",
        "\n",
        "print(\"\\n\")\n",
        "\n",
        "print(longlist[2:5])\n",
        "print(longlist[5:2])\n",
        "print(longlist[8:])\n",
        "print(longlist[9:])\n",
        "\n",
        "print(\"\\n\")\n",
        "\n",
        "print(longlist[-9:])\n",
        "print(longlist[-8:])\n",
        "print(longlist[-8:-7])\n",
        "print(longlist[-1:])\n",
        "\n",
        "print(\"\\n\")\n",
        "\n",
        "print(longlist[10:20])\n",
        "print(longlist[-7:5])\n",
        "\n",
        "print(\"\\n\")\n",
        "print(longlist[::1])\n",
        "print(longlist[::2])\n",
        "print(longlist[1:8:2])\n",
        "print(longlist[9:1:-1])\n",
        "print(longlist[-1::1])\n",
        "print(longlist[-1::-1])\n",
        "\n",
        "\n",
        "\n",
        "\n"
      ],
      "metadata": {
        "colab": {
          "base_uri": "https://localhost:8080/"
        },
        "id": "DrrqcOHeRY8y",
        "outputId": "8b86dd7c-d01d-4c1a-fa7c-a9cf2bd0224a"
      },
      "execution_count": 27,
      "outputs": [
        {
          "output_type": "stream",
          "name": "stdout",
          "text": [
            "10\n",
            "[5, 4, 3, 2, 1, 0, 1, -2.0, [1, 2, 3], 'Word']\n",
            "[5, 4, 3, 2, 1, 0, 1, -2.0, [1, 2, 3]]\n",
            "[5, 4, 3, 2, 1, 0, 1, -2.0, [1, 2, 3], 'Word']\n",
            "[4, 3, 2, 1, 0, 1, -2.0, [1, 2, 3], 'Word']\n",
            "[3, 2, 1, 0, 1, -2.0, [1, 2, 3], 'Word']\n",
            "\n",
            "\n",
            "[3, 2, 1]\n",
            "[]\n",
            "[[1, 2, 3], 'Word']\n",
            "['Word']\n",
            "\n",
            "\n",
            "[4, 3, 2, 1, 0, 1, -2.0, [1, 2, 3], 'Word']\n",
            "[3, 2, 1, 0, 1, -2.0, [1, 2, 3], 'Word']\n",
            "[3]\n",
            "['Word']\n",
            "\n",
            "\n",
            "[]\n",
            "[2, 1]\n",
            "\n",
            "\n",
            "[5, 4, 3, 2, 1, 0, 1, -2.0, [1, 2, 3], 'Word']\n",
            "[5, 3, 1, 1, [1, 2, 3]]\n",
            "[4, 2, 0, -2.0]\n",
            "['Word', [1, 2, 3], -2.0, 1, 0, 1, 2, 3]\n",
            "['Word']\n",
            "['Word', [1, 2, 3], -2.0, 1, 0, 1, 2, 3, 4, 5]\n"
          ]
        }
      ]
    }
  ]
}